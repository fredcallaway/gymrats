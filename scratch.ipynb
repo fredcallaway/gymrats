{
 "cells": [
  {
   "cell_type": "code",
   "execution_count": 1,
   "metadata": {
    "collapsed": false
   },
   "outputs": [],
   "source": [
    "%matplotlib inline\n",
    "%load_ext autoreload\n",
    "%autoreload 2\n",
    "\n",
    "import matplotlib.pyplot as plt\n",
    "import numpy as np\n",
    "import pandas as pd\n",
    "import seaborn as sns\n",
    "sns.set_style('white')\n",
    "sns.set_context('notebook', font_scale=1.3)\n",
    "\n",
    "import itertools as it\n",
    "from collections import Counter, defaultdict, deque"
   ]
  },
  {
   "cell_type": "code",
   "execution_count": 2,
   "metadata": {
    "collapsed": false
   },
   "outputs": [],
   "source": [
    "# ---------- Functional utils ---------- #\n",
    "from toolz import pipe\n",
    "from toolz.curried import *\n",
    "max = curry(max)\n",
    "min = curry(min)\n",
    "call = lambda f: f()\n",
    "@curry\n",
    "def attr(name, obj):\n",
    "    return getattr(obj, name)\n",
    "@curry\n",
    "def invoke(name, obj):\n",
    "    return getattr(obj, name)()\n",
    "\n",
    "lmap = curry(compose(list, map))\n",
    "amap = curry(compose(np.array, lmap))"
   ]
  },
  {
   "cell_type": "code",
   "execution_count": 10,
   "metadata": {
    "collapsed": false
   },
   "outputs": [
    {
     "name": "stdout",
     "output_type": "stream",
     "text": [
      "\n"
     ]
    }
   ],
   "source": [
    "from agents import *\n",
    "from envs import LinearEnv\n",
    "env = LinearEnv(penalty=-1)\n",
    "agent = Agent()\n",
    "agent.register(env)\n",
    "Q = ActionValueFunction()\n",
    "# Q2= ActionValueFunction()\n",
    "V = MemV()\n",
    "agent.register(Q)\n",
    "agent.register(V)\n",
    "agent.register(MaxQPolicy(Q))\n",
    "trace = agent.run_many(1000, max_steps=50)"
   ]
  },
  {
   "cell_type": "code",
   "execution_count": 12,
   "metadata": {
    "collapsed": false
   },
   "outputs": [
    {
     "data": {
      "text/plain": [
       "array([[ 0.703],\n",
       "       [ 1.223],\n",
       "       [ 1.459],\n",
       "       [ 1.509],\n",
       "       [ 1.538],\n",
       "       [ 1.549],\n",
       "       [ 0.551]])"
      ]
     },
     "execution_count": 12,
     "metadata": {},
     "output_type": "execute_result"
    }
   ],
   "source": [
    "V.model.theta"
   ]
  },
  {
   "cell_type": "code",
   "execution_count": 4,
   "metadata": {
    "collapsed": false
   },
   "outputs": [
    {
     "data": {
      "text/plain": [
       "<matplotlib.axes._subplots.AxesSubplot at 0x10b849a58>"
      ]
     },
     "execution_count": 4,
     "metadata": {},
     "output_type": "execute_result"
    },
    {
     "data": {
      "image/png": "[encoded data removed]",
      "text/plain": [
       "<matplotlib.figure.Figure at 0x109f06f60>"
      ]
     },
     "metadata": {},
     "output_type": "display_data"
    }
   ],
   "source": [
    "sns.heatmap(Q.model.theta)"
   ]
  },
  {
   "cell_type": "code",
   "execution_count": 31,
   "metadata": {
    "collapsed": false
   },
   "outputs": [
    {
     "name": "stdout",
     "output_type": "stream",
     "text": [
      "13 3.35 False\n",
      "1 3.95 False\n",
      "1 3.95 False\n",
      "1 3.95 False\n",
      "1 3.95 False\n",
      "1 3.95 False\n",
      "1 3.95 False\n",
      "1 3.95 False\n",
      "1 3.95 False\n",
      "1 3.95 False\n",
      "1 3.95 False\n",
      "1 4.0 True\n",
      "\n"
     ]
    }
   ],
   "source": [
    "N_EP = 1\n",
    "from agents import *\n",
    "from envs import ForageWorld\n",
    "env = ForageWorld(8, 5, .05)\n",
    "agent = Agent()\n",
    "agent.register(env)\n",
    "# V = TDLambdaV()\n",
    "V = FixedV([0,0,0,1])\n",
    "agent.register(V)\n",
    "agent.register(SearchPolicy(V, noise=0))\n",
    "# agent.register(RandomPolicy())\n",
    "trace = agent.run_many(N_EP, max_steps=100)"
   ]
  },
  {
   "cell_type": "code",
   "execution_count": 28,
   "metadata": {
    "collapsed": false
   },
   "outputs": [
    {
     "data": {
      "text/plain": [
       "<matplotlib.lines.Line2D at 0x10b89cc50>"
      ]
     },
     "execution_count": 28,
     "metadata": {},
     "output_type": "execute_result"
    },
    {
     "data": {
      "image/png": "[encoded data removed]",
      "text/plain": [
       "<matplotlib.figure.Figure at 0x10bd9eba8>"
      ]
     },
     "metadata": {},
     "output_type": "display_data"
    }
   ],
   "source": [
    "# N_EP = 50\n",
    "# trace = agent.run_many(N_EP, max_steps=100)\n",
    "roll = 2\n",
    "\n",
    "df = pd.DataFrame(trace)\n",
    "cols = ['v0', 'vx', 'vy', 'vb'] \n",
    "# cols.extend(['vxy', 'vxb', 'vyb'])\n",
    "tdf = pd.DataFrame(list(df.theta_v), columns=cols).clip(-10, 100)\n",
    "df = df.join(tdf).drop('theta_v', axis=1)\n",
    "# sns.factorplot('berries', 'return', data=df)\n",
    "# df['return'].rolling(roll).mean().plot()\n",
    "# sns.lmplot('i_episode', 'vb', data=df)\n",
    "df[cols + ['return', 'berries']].rolling(roll).mean().plot()\n",
    "plt.axhline(0, ls='--', c='gray')"
   ]
  },
  {
   "cell_type": "code",
   "execution_count": 27,
   "metadata": {
    "collapsed": false
   },
   "outputs": [
    {
     "data": {
      "text/plain": [
       "2.4420864917920477"
      ]
     },
     "execution_count": 27,
     "metadata": {},
     "output_type": "execute_result"
    }
   ],
   "source": []
  },
  {
   "cell_type": "code",
   "execution_count": 24,
   "metadata": {
    "collapsed": true
   },
   "outputs": [],
   "source": []
  },
  {
   "cell_type": "code",
   "execution_count": 38,
   "metadata": {
    "collapsed": false
   },
   "outputs": [
    {
     "name": "stdout",
     "output_type": "stream",
     "text": [
      "0.558  0.475\n"
     ]
    }
   ],
   "source": [
    "from sklearn.linear_model import SGDRegressor\n",
    "n_samples, n_features = 100, 5\n",
    "X = np.random.randn(n_samples, n_features)\n",
    "theta = np.random.randn(n_features)\n",
    "y = X @ theta + 0.5 * np.random.randn(n_samples)\n",
    "clf = SGDRegressor()\n",
    "clf.fit(X, y)\n",
    "theta_hat = np.linalg.inv(X.T @ X) @ (X.T @ y)\n",
    "def rms_error(y1, y2):\n",
    "    return ((y1 - y2) ** 2).mean() ** 0.5\n",
    "\n",
    "print('{:.3f}  {:.3f}'.format(\n",
    "    rms_error(y, clf.predict(X)),\n",
    "    rms_error(y, X @ theta_hat)),\n",
    ")\n"
   ]
  },
  {
   "cell_type": "code",
   "execution_count": 50,
   "metadata": {
    "collapsed": false
   },
   "outputs": [
    {
     "data": {
      "text/plain": [
       "0.51021192985804253"
      ]
     },
     "execution_count": 50,
     "metadata": {},
     "output_type": "execute_result"
    }
   ],
   "source": [
    "class LinearSGD(object):\n",
    "    \"\"\"Learns a linear approximation by SGD.\"\"\"\n",
    "    def __init__(self, shape, learn_rate=.1):\n",
    "        self.shape = shape\n",
    "        self.learn_rate = learn_rate\n",
    "        self.theta = np.random.random(self.shape)\n",
    "\n",
    "    def update(self, x, y):\n",
    "        yhat = x @ self.theta\n",
    "        error = y - yhat\n",
    "        self.theta += self.learn_rate * np.outer(x, error)\n",
    "\n",
    "    def predict(self, x):\n",
    "        return x @ self.theta\n",
    "\n",
    "mod = LinearSGD((n_features, 1), .1)\n",
    "for i in range(len(X)):\n",
    "    mod.update(X[i], y[i])\n",
    "\n",
    "yhat = [mod.predict(x)[0] for x in X]\n",
    "rms_error(y, yhat)"
   ]
  },
  {
   "cell_type": "code",
   "execution_count": 14,
   "metadata": {
    "collapsed": false
   },
   "outputs": [
    {
     "data": {
      "text/plain": [
       "array([[ 2.42563877,  1.09444438],\n",
       "       [ 1.59943738, -2.07547369],\n",
       "       [ 1.020246  , -0.55091792],\n",
       "       [ 2.60929959, -1.44009722],\n",
       "       [-0.14960927, -0.90310834],\n",
       "       [-2.22163198,  1.47699756],\n",
       "       [-3.47033397, -1.74733514],\n",
       "       [-2.26792348,  1.69821194],\n",
       "       [-2.09173645,  1.45081708],\n",
       "       [-6.32695908,  4.29277333]])"
      ]
     },
     "execution_count": 14,
     "metadata": {},
     "output_type": "execute_result"
    }
   ],
   "source": [
    "from sklearn.linear_model import SGDRegressor\n",
    "n_samples, n_features, n_output = 10, 5, 2\n",
    "X = np.random.randn(n_samples, n_features)\n",
    "theta = np.random.randn(n_features, n_output)\n",
    "y = X @ theta\n",
    "# clf = SGDRegressor()\n",
    "# clf.partial_fit(X, y)\n",
    "y"
   ]
  },
  {
   "cell_type": "code",
   "execution_count": 23,
   "metadata": {
    "collapsed": false
   },
   "outputs": [
    {
     "name": "stdout",
     "output_type": "stream",
     "text": [
      "1.041  0.509\n"
     ]
    }
   ],
   "source": [
    "clf.fit(X, y)\n",
    "theta_hat = np.linalg.inv(X.T @ X) @ (X.T @ y)\n",
    "def rms_error(y1, y2):\n",
    "    return ((y1 - y2) ** 2).mean() ** 0.5\n",
    "\n",
    "print('{:.3f}  {:.3f}'.format(\n",
    "    rms_error(y, clf.predict(X)),\n",
    "    rms_error(y, X @ theta_hat)),\n",
    ")"
   ]
  },
  {
   "cell_type": "code",
   "execution_count": 27,
   "metadata": {
    "collapsed": false
   },
   "outputs": [
    {
     "data": {
      "text/plain": [
       "<matplotlib.axes._subplots.AxesSubplot at 0x119fb4630>"
      ]
     },
     "execution_count": 27,
     "metadata": {},
     "output_type": "execute_result"
    },
    {
     "data": {
      "image/png": "[encoded data removed]",
      "text/plain": [
       "<matplotlib.figure.Figure at 0x10bf4b080>"
      ]
     },
     "metadata": {},
     "output_type": "display_data"
    }
   ],
   "source": [
    "def bin(x):\n",
    "    return pd.cut(x, 10).apply(lambda x: x.mid)\n",
    "\n",
    "bdf = pd.DataFrame({\n",
    "    'vb': bin(df.vb),\n",
    "    'ep': bin(df.i_episode),\n",
    "    'return': df['return']\n",
    "})\n",
    "sns.heatmap(bdf.pivot_table('return', 'vb', 'ep'))"
   ]
  },
  {
   "cell_type": "code",
   "execution_count": null,
   "metadata": {
    "collapsed": true
   },
   "outputs": [],
   "source": []
  },
  {
   "cell_type": "code",
   "execution_count": 128,
   "metadata": {
    "collapsed": false
   },
   "outputs": [
    {
     "data": {
      "text/plain": [
       "{'actions': [2, 1, 0, 1, 3, 2, 1, 1, 2, 1, 2, 2],\n",
       " 'finished': True,\n",
       " 'i_episode': 4,\n",
       " 'return': -22,\n",
       " 'rewards': [-1, -1, -2, -2, -2, -1, -3, -2, -4, -3, -1, 0],\n",
       " 'states': [0, 5, 6, 1, 2, 1, 6, 7, 8, 13, 14, 19, 24]}"
      ]
     },
     "execution_count": 128,
     "metadata": {},
     "output_type": "execute_result"
    }
   ],
   "source": [
    "agent.depth = 2\n",
    "agent.run_episode()"
   ]
  },
  {
   "cell_type": "code",
   "execution_count": 129,
   "metadata": {
    "collapsed": false
   },
   "outputs": [
    {
     "data": {
      "text/plain": [
       "<matplotlib.axes._subplots.AxesSubplot at 0x10c0159b0>"
      ]
     },
     "execution_count": 129,
     "metadata": {},
     "output_type": "execute_result"
    },
    {
     "data": {
      "image/png": "[encoded data removed]",
      "text/plain": [
       "<matplotlib.figure.Figure at 0x10be80e10>"
      ]
     },
     "metadata": {},
     "output_type": "display_data"
    }
   ],
   "source": [
    "V = agent.V.to_array().reshape(5, 5)\n",
    "sns.heatmap(V)"
   ]
  },
  {
   "cell_type": "code",
   "execution_count": 81,
   "metadata": {
    "collapsed": false
   },
   "outputs": [
    {
     "name": "stdout",
     "output_type": "stream",
     "text": [
      "[[ -1.336e+18   5.397e+16   6.329e+16   9.544e+14]\n",
      " [ -1.027e+18  -4.374e+16   8.271e+16   5.813e+10]]\n",
      "[[ -3.293e+29   1.951e+30   1.634e+29   2.187e+30]\n",
      " [ -1.269e+29  -1.808e+31   6.028e+28   5.473e+29]]\n",
      "[[ -2.126e+39   2.701e+42   3.233e+42   2.413e+41]\n",
      " [  4.245e+33  -2.503e+43   7.608e+37   6.080e+40]]\n",
      "[[  2.289e+42   2.282e+45   4.025e+43   2.413e+41]\n",
      " [  2.291e+42   1.482e+45   4.085e+43   6.080e+40]]\n",
      "[[  2.289e+42   6.671e+48   1.486e+50   2.413e+41]\n",
      " [  2.291e+42   8.901e+48   1.985e+50   6.080e+40]]\n",
      "[[  5.822e+55   2.452e+53   3.535e+57   2.413e+41]\n",
      " [  1.163e+56   2.871e+53   6.401e+57   6.080e+40]]\n",
      "[[ -5.012e+63   1.894e+64   1.922e+64   9.665e+62]\n",
      " [  1.163e+56  -1.924e+64   1.819e+64   6.080e+40]]\n",
      "[[  6.734e+84   1.073e+86   3.175e+86   3.157e+85]\n",
      " [ -3.962e+81  -1.090e+86   4.231e+86   1.517e+80]]\n",
      "[[  6.847e+113   8.623e+112  -2.240e+116   1.356e+103]\n",
      " [  2.337e+114   2.877e+115   2.416e+115  -1.868e+112]]\n",
      "[[  3.360e+117   8.961e+121   4.039e+120  -3.961e+117]\n",
      " [  4.794e+118   6.664e+121   3.057e+120   3.017e+118]]\n",
      "[[  5.294e+132   3.206e+137   7.382e+135  -5.843e+132]\n",
      " [  8.370e+123   2.079e+137   3.665e+135   2.890e+131]]\n",
      "[[  5.294e+132   8.238e+140   2.878e+142   1.155e+139]\n",
      " [  8.370e+123   7.559e+140   4.425e+142   2.557e+139]]\n",
      "[[  5.294e+132   8.636e+147   2.014e+146   1.776e+143]\n",
      " [  8.370e+123   5.597e+147   9.991e+145   2.557e+139]]\n",
      "[[  5.294e+132   4.178e+150   2.338e+152   1.776e+143]\n",
      " [  8.370e+123   8.409e+150   3.606e+152   2.557e+139]]\n",
      "[[  5.294e+132   1.145e+154   1.103e+154   8.392e+152]\n",
      " [  8.370e+123  -1.134e+154   1.079e+154   2.557e+139]]\n",
      "[[ -4.390e+154   1.806e+156  -1.725e+156  -3.240e+155]\n",
      " [  3.577e+155   1.275e+156   8.583e+155  -4.446e+155]]\n",
      "[[  7.615e+187   7.734e+195   2.847e+194  -3.279e+194]\n",
      " [  3.040e+188   5.803e+195   3.378e+194  -2.850e+194]]\n",
      "[[  1.697e+197   4.234e+205   1.932e+204  -1.154e+201]\n",
      " [ -1.536e+200   3.171e+205   1.447e+204   1.448e+200]]\n",
      "[[  1.697e+197   4.234e+205  -4.173e+207  -1.154e+201]\n",
      " [ -1.536e+200   5.309e+206   4.975e+206   1.448e+200]]\n",
      "[[ -1.325e+217   9.683e+218   1.041e+216   1.693e+217]\n",
      " [ -1.027e+217   5.347e+218   9.308e+215   8.468e+216]]\n",
      "[[  4.567e+218   1.410e+219  -6.290e+220   1.693e+217]\n",
      " [  4.597e+218   7.735e+219   6.812e+219   8.468e+216]]\n",
      "[[  2.232e+242   3.605e+246   8.262e+244   3.559e+242]\n",
      " [  2.135e+242   2.338e+246   4.202e+244   6.969e+241]]\n",
      "[[  5.725e+260   7.413e+260  -1.473e+262  -7.318e+262]\n",
      " [ -5.968e+261   1.708e+261   1.590e+261  -9.404e+262]]\n",
      "[[  2.363e+273   1.143e+278   1.238e+276  -1.445e+267]\n",
      " [  1.798e+276   6.827e+277   2.531e+276  -6.900e+277]]\n",
      "[[  2.713e+281   1.239e+290   4.239e+291  -1.445e+267]\n",
      " [  1.273e+289   2.494e+290   6.687e+291  -1.627e+288]]\n",
      "[[ -4.485e+301   2.790e+301   3.324e+301   2.680e+300]\n",
      " [  1.072e+296  -2.586e+302   1.425e+294   1.446e+296]]\n",
      "[[ nan  nan  nan  nan]\n",
      " [ nan  nan  nan  nan]]\n"
     ]
    },
    {
     "name": "stderr",
     "output_type": "stream",
     "text": [
      "/usr/local/lib/miniconda3/lib/python3.5/site-packages/numpy/core/numeric.py:1154: RuntimeWarning: overflow encountered in multiply\n",
      "  return multiply(a.ravel()[:, newaxis], b.ravel()[newaxis,:], out)\n",
      "/Users/fred/Projects/gymrats/agents.py:170: RuntimeWarning: invalid value encountered in subtract\n",
      "  error = y - yhat\n"
     ]
    },
    {
     "name": "stdout",
     "output_type": "stream",
     "text": [
      "[[ nan  nan  nan  nan]\n",
      " [ nan  nan  nan  nan]]\n",
      "[[ nan  nan  nan  nan]\n",
      " [ nan  nan  nan  nan]]\n",
      "[[ nan  nan  nan  nan]\n",
      " [ nan  nan  nan  nan]]\n",
      "[[ nan  nan  nan  nan]\n",
      " [ nan  nan  nan  nan]]\n",
      "[[ nan  nan  nan  nan]\n",
      " [ nan  nan  nan  nan]]\n",
      "[[ nan  nan  nan  nan]\n",
      " [ nan  nan  nan  nan]]\n",
      "[[ nan  nan  nan  nan]\n",
      " [ nan  nan  nan  nan]]\n",
      "[[ nan  nan  nan  nan]\n",
      " [ nan  nan  nan  nan]]\n",
      "[[ nan  nan  nan  nan]\n",
      " [ nan  nan  nan  nan]]\n",
      "[[ nan  nan  nan  nan]\n",
      " [ nan  nan  nan  nan]]\n",
      "[[ nan  nan  nan  nan]\n",
      " [ nan  nan  nan  nan]]\n",
      "[[ nan  nan  nan  nan]\n",
      " [ nan  nan  nan  nan]]\n",
      "[[ nan  nan  nan  nan]\n",
      " [ nan  nan  nan  nan]]\n",
      "[[ nan  nan  nan  nan]\n",
      " [ nan  nan  nan  nan]]\n",
      "[[ nan  nan  nan  nan]\n",
      " [ nan  nan  nan  nan]]\n",
      "[[ nan  nan  nan  nan]\n",
      " [ nan  nan  nan  nan]]\n",
      "[[ nan  nan  nan  nan]\n",
      " [ nan  nan  nan  nan]]\n",
      "[[ nan  nan  nan  nan]\n",
      " [ nan  nan  nan  nan]]\n",
      "[[ nan  nan  nan  nan]\n",
      " [ nan  nan  nan  nan]]\n",
      "[[ nan  nan  nan  nan]\n",
      " [ nan  nan  nan  nan]]\n",
      "[[ nan  nan  nan  nan]\n",
      " [ nan  nan  nan  nan]]\n",
      "[[ nan  nan  nan  nan]\n",
      " [ nan  nan  nan  nan]]\n",
      "[[ nan  nan  nan  nan]\n",
      " [ nan  nan  nan  nan]]\n",
      "[[ nan  nan  nan  nan]\n",
      " [ nan  nan  nan  nan]]\n",
      "[[ nan  nan  nan  nan]\n",
      " [ nan  nan  nan  nan]]\n",
      "[[ nan  nan  nan  nan]\n",
      " [ nan  nan  nan  nan]]\n",
      "[[ nan  nan  nan  nan]\n",
      " [ nan  nan  nan  nan]]\n",
      "[[ nan  nan  nan  nan]\n",
      " [ nan  nan  nan  nan]]\n",
      "[[ nan  nan  nan  nan]\n",
      " [ nan  nan  nan  nan]]\n",
      "[[ nan  nan  nan  nan]\n",
      " [ nan  nan  nan  nan]]\n",
      "[[ nan  nan  nan  nan]\n",
      " [ nan  nan  nan  nan]]\n",
      "[[ nan  nan  nan  nan]\n",
      " [ nan  nan  nan  nan]]\n",
      "[[ nan  nan  nan  nan]\n",
      " [ nan  nan  nan  nan]]\n",
      "[[ nan  nan  nan  nan]\n",
      " [ nan  nan  nan  nan]]\n",
      "[[ nan  nan  nan  nan]\n",
      " [ nan  nan  nan  nan]]\n",
      "[[ nan  nan  nan  nan]\n",
      " [ nan  nan  nan  nan]]\n",
      "[[ nan  nan  nan  nan]\n",
      " [ nan  nan  nan  nan]]\n",
      "[[ nan  nan  nan  nan]\n",
      " [ nan  nan  nan  nan]]\n",
      "[[ nan  nan  nan  nan]\n",
      " [ nan  nan  nan  nan]]\n",
      "[[ nan  nan  nan  nan]\n",
      " [ nan  nan  nan  nan]]\n",
      "[[ nan  nan  nan  nan]\n",
      " [ nan  nan  nan  nan]]\n",
      "[[ nan  nan  nan  nan]\n",
      " [ nan  nan  nan  nan]]\n",
      "[[ nan  nan  nan  nan]\n",
      " [ nan  nan  nan  nan]]\n",
      "[[ nan  nan  nan  nan]\n",
      " [ nan  nan  nan  nan]]\n",
      "[[ nan  nan  nan  nan]\n",
      " [ nan  nan  nan  nan]]\n",
      "[[ nan  nan  nan  nan]\n",
      " [ nan  nan  nan  nan]]\n",
      "[[ nan  nan  nan  nan]\n",
      " [ nan  nan  nan  nan]]\n",
      "[[ nan  nan  nan  nan]\n",
      " [ nan  nan  nan  nan]]\n",
      "[[ nan  nan  nan  nan]\n",
      " [ nan  nan  nan  nan]]\n",
      "[[ nan  nan  nan  nan]\n",
      " [ nan  nan  nan  nan]]\n",
      "[[ nan  nan  nan  nan]\n",
      " [ nan  nan  nan  nan]]\n",
      "[[ nan  nan  nan  nan]\n",
      " [ nan  nan  nan  nan]]\n",
      "[[ nan  nan  nan  nan]\n",
      " [ nan  nan  nan  nan]]\n",
      "[[ nan  nan  nan  nan]\n",
      " [ nan  nan  nan  nan]]\n",
      "[[ nan  nan  nan  nan]\n",
      " [ nan  nan  nan  nan]]\n",
      "[[ nan  nan  nan  nan]\n",
      " [ nan  nan  nan  nan]]\n",
      "[[ nan  nan  nan  nan]\n",
      " [ nan  nan  nan  nan]]\n",
      "[[ nan  nan  nan  nan]\n",
      " [ nan  nan  nan  nan]]\n",
      "[[ nan  nan  nan  nan]\n",
      " [ nan  nan  nan  nan]]\n",
      "[[ nan  nan  nan  nan]\n",
      " [ nan  nan  nan  nan]]\n",
      "[[ nan  nan  nan  nan]\n",
      " [ nan  nan  nan  nan]]\n",
      "[[ nan  nan  nan  nan]\n",
      " [ nan  nan  nan  nan]]\n",
      "[[ nan  nan  nan  nan]\n",
      " [ nan  nan  nan  nan]]\n",
      "[[ nan  nan  nan  nan]\n",
      " [ nan  nan  nan  nan]]\n",
      "[[ nan  nan  nan  nan]\n",
      " [ nan  nan  nan  nan]]\n",
      "[[ nan  nan  nan  nan]\n",
      " [ nan  nan  nan  nan]]\n",
      "[[ nan  nan  nan  nan]\n",
      " [ nan  nan  nan  nan]]\n",
      "[[ nan  nan  nan  nan]\n",
      " [ nan  nan  nan  nan]]\n",
      "[[ nan  nan  nan  nan]\n",
      " [ nan  nan  nan  nan]]\n",
      "[[ nan  nan  nan  nan]\n",
      " [ nan  nan  nan  nan]]\n",
      "[[ nan  nan  nan  nan]\n",
      " [ nan  nan  nan  nan]]\n",
      "[[ nan  nan  nan  nan]\n",
      " [ nan  nan  nan  nan]]\n",
      "[[ nan  nan  nan  nan]\n",
      " [ nan  nan  nan  nan]]\n"
     ]
    },
    {
     "data": {
      "text/plain": [
       "{'finished': [True,\n",
       "  True,\n",
       "  True,\n",
       "  True,\n",
       "  True,\n",
       "  True,\n",
       "  True,\n",
       "  True,\n",
       "  True,\n",
       "  True,\n",
       "  True,\n",
       "  True,\n",
       "  True,\n",
       "  True,\n",
       "  True,\n",
       "  True,\n",
       "  True,\n",
       "  True,\n",
       "  True,\n",
       "  True,\n",
       "  True,\n",
       "  True,\n",
       "  True,\n",
       "  True,\n",
       "  True,\n",
       "  True,\n",
       "  False,\n",
       "  False,\n",
       "  False,\n",
       "  False,\n",
       "  False,\n",
       "  False,\n",
       "  False,\n",
       "  False,\n",
       "  False,\n",
       "  False,\n",
       "  False,\n",
       "  False,\n",
       "  False,\n",
       "  False,\n",
       "  False,\n",
       "  False,\n",
       "  False,\n",
       "  False,\n",
       "  False,\n",
       "  False,\n",
       "  False,\n",
       "  False,\n",
       "  False,\n",
       "  False,\n",
       "  False,\n",
       "  False,\n",
       "  False,\n",
       "  False,\n",
       "  False,\n",
       "  False,\n",
       "  False,\n",
       "  False,\n",
       "  False,\n",
       "  False,\n",
       "  False,\n",
       "  False,\n",
       "  False,\n",
       "  False,\n",
       "  False,\n",
       "  False,\n",
       "  False,\n",
       "  False,\n",
       "  False,\n",
       "  False,\n",
       "  False,\n",
       "  False,\n",
       "  False,\n",
       "  False,\n",
       "  False,\n",
       "  False,\n",
       "  False,\n",
       "  False,\n",
       "  False,\n",
       "  False,\n",
       "  False,\n",
       "  False,\n",
       "  False,\n",
       "  False,\n",
       "  False,\n",
       "  False,\n",
       "  False,\n",
       "  False,\n",
       "  False,\n",
       "  False,\n",
       "  False,\n",
       "  False,\n",
       "  False,\n",
       "  False,\n",
       "  False,\n",
       "  False,\n",
       "  False,\n",
       "  False,\n",
       "  False,\n",
       "  False],\n",
       " 'i_episode': [0,\n",
       "  1,\n",
       "  2,\n",
       "  3,\n",
       "  4,\n",
       "  5,\n",
       "  6,\n",
       "  7,\n",
       "  8,\n",
       "  9,\n",
       "  10,\n",
       "  11,\n",
       "  12,\n",
       "  13,\n",
       "  14,\n",
       "  15,\n",
       "  16,\n",
       "  17,\n",
       "  18,\n",
       "  19,\n",
       "  20,\n",
       "  21,\n",
       "  22,\n",
       "  23,\n",
       "  24,\n",
       "  25,\n",
       "  26,\n",
       "  27,\n",
       "  28,\n",
       "  29,\n",
       "  30,\n",
       "  31,\n",
       "  32,\n",
       "  33,\n",
       "  34,\n",
       "  35,\n",
       "  36,\n",
       "  37,\n",
       "  38,\n",
       "  39,\n",
       "  40,\n",
       "  41,\n",
       "  42,\n",
       "  43,\n",
       "  44,\n",
       "  45,\n",
       "  46,\n",
       "  47,\n",
       "  48,\n",
       "  49,\n",
       "  50,\n",
       "  51,\n",
       "  52,\n",
       "  53,\n",
       "  54,\n",
       "  55,\n",
       "  56,\n",
       "  57,\n",
       "  58,\n",
       "  59,\n",
       "  60,\n",
       "  61,\n",
       "  62,\n",
       "  63,\n",
       "  64,\n",
       "  65,\n",
       "  66,\n",
       "  67,\n",
       "  68,\n",
       "  69,\n",
       "  70,\n",
       "  71,\n",
       "  72,\n",
       "  73,\n",
       "  74,\n",
       "  75,\n",
       "  76,\n",
       "  77,\n",
       "  78,\n",
       "  79,\n",
       "  80,\n",
       "  81,\n",
       "  82,\n",
       "  83,\n",
       "  84,\n",
       "  85,\n",
       "  86,\n",
       "  87,\n",
       "  88,\n",
       "  89,\n",
       "  90,\n",
       "  91,\n",
       "  92,\n",
       "  93,\n",
       "  94,\n",
       "  95,\n",
       "  96,\n",
       "  97,\n",
       "  98,\n",
       "  99],\n",
       " 'n_steps': [61,\n",
       "  97,\n",
       "  48,\n",
       "  13,\n",
       "  11,\n",
       "  25,\n",
       "  32,\n",
       "  97,\n",
       "  116,\n",
       "  46,\n",
       "  39,\n",
       "  17,\n",
       "  16,\n",
       "  14,\n",
       "  18,\n",
       "  19,\n",
       "  213,\n",
       "  38,\n",
       "  10,\n",
       "  55,\n",
       "  12,\n",
       "  133,\n",
       "  83,\n",
       "  129,\n",
       "  87,\n",
       "  50,\n",
       "  1001,\n",
       "  1001,\n",
       "  1001,\n",
       "  1001,\n",
       "  1001,\n",
       "  1001,\n",
       "  1001,\n",
       "  1001,\n",
       "  1001,\n",
       "  1001,\n",
       "  1001,\n",
       "  1001,\n",
       "  1001,\n",
       "  1001,\n",
       "  1001,\n",
       "  1001,\n",
       "  1001,\n",
       "  1001,\n",
       "  1001,\n",
       "  1001,\n",
       "  1001,\n",
       "  1001,\n",
       "  1001,\n",
       "  1001,\n",
       "  1001,\n",
       "  1001,\n",
       "  1001,\n",
       "  1001,\n",
       "  1001,\n",
       "  1001,\n",
       "  1001,\n",
       "  1001,\n",
       "  1001,\n",
       "  1001,\n",
       "  1001,\n",
       "  1001,\n",
       "  1001,\n",
       "  1001,\n",
       "  1001,\n",
       "  1001,\n",
       "  1001,\n",
       "  1001,\n",
       "  1001,\n",
       "  1001,\n",
       "  1001,\n",
       "  1001,\n",
       "  1001,\n",
       "  1001,\n",
       "  1001,\n",
       "  1001,\n",
       "  1001,\n",
       "  1001,\n",
       "  1001,\n",
       "  1001,\n",
       "  1001,\n",
       "  1001,\n",
       "  1001,\n",
       "  1001,\n",
       "  1001,\n",
       "  1001,\n",
       "  1001,\n",
       "  1001,\n",
       "  1001,\n",
       "  1001,\n",
       "  1001,\n",
       "  1001,\n",
       "  1001,\n",
       "  1001,\n",
       "  1001,\n",
       "  1001,\n",
       "  1001,\n",
       "  1001,\n",
       "  1001,\n",
       "  1001],\n",
       " 'return': [-240,\n",
       "  -455,\n",
       "  -194,\n",
       "  -38,\n",
       "  -49,\n",
       "  -106,\n",
       "  -131,\n",
       "  -385,\n",
       "  -410,\n",
       "  -163,\n",
       "  -168,\n",
       "  -76,\n",
       "  -52,\n",
       "  -55,\n",
       "  -72,\n",
       "  -71,\n",
       "  -877,\n",
       "  -138,\n",
       "  -33,\n",
       "  -218,\n",
       "  -43,\n",
       "  -484,\n",
       "  -402,\n",
       "  -545,\n",
       "  -386,\n",
       "  -176,\n",
       "  -3252,\n",
       "  -3539,\n",
       "  -3270,\n",
       "  -3340,\n",
       "  -3308,\n",
       "  -3005,\n",
       "  -3225,\n",
       "  -3152,\n",
       "  -3270,\n",
       "  -3141,\n",
       "  -2989,\n",
       "  -3204,\n",
       "  -3339,\n",
       "  -3041,\n",
       "  -3272,\n",
       "  -3144,\n",
       "  -3230,\n",
       "  -3043,\n",
       "  -3604,\n",
       "  -3142,\n",
       "  -3220,\n",
       "  -2843,\n",
       "  -3006,\n",
       "  -3295,\n",
       "  -3127,\n",
       "  -3454,\n",
       "  -3195,\n",
       "  -3142,\n",
       "  -3158,\n",
       "  -3202,\n",
       "  -2811,\n",
       "  -3245,\n",
       "  -3306,\n",
       "  -3309,\n",
       "  -2954,\n",
       "  -3043,\n",
       "  -3369,\n",
       "  -3113,\n",
       "  -2882,\n",
       "  -3161,\n",
       "  -3185,\n",
       "  -2979,\n",
       "  -3091,\n",
       "  -3261,\n",
       "  -3188,\n",
       "  -2965,\n",
       "  -3050,\n",
       "  -3284,\n",
       "  -3312,\n",
       "  -3214,\n",
       "  -2900,\n",
       "  -3191,\n",
       "  -3121,\n",
       "  -2918,\n",
       "  -2965,\n",
       "  -3214,\n",
       "  -3083,\n",
       "  -2996,\n",
       "  -3271,\n",
       "  -2885,\n",
       "  -3009,\n",
       "  -3185,\n",
       "  -3167,\n",
       "  -2808,\n",
       "  -3231,\n",
       "  -3096,\n",
       "  -3016,\n",
       "  -3131,\n",
       "  -3199,\n",
       "  -3343,\n",
       "  -2871,\n",
       "  -2790,\n",
       "  -3196,\n",
       "  -3326]}"
      ]
     },
     "execution_count": 81,
     "metadata": {},
     "output_type": "execute_result"
    }
   ],
   "source": [
    "from agents import QLearningAgent\n",
    "from envs import GridEnv\n",
    "\n",
    "env = GridEnv(5, 5)\n",
    "agent = QLearningAgent(env)\n",
    "agent.Q.theta\n",
    "# agent.Q.theta\n",
    "# trace = agent.run_many(500)\n",
    "agent.run_many(100)"
   ]
  },
  {
   "cell_type": "code",
   "execution_count": 76,
   "metadata": {
    "collapsed": false
   },
   "outputs": [
    {
     "data": {
      "text/plain": [
       "[<matplotlib.lines.Line2D at 0x10b294da0>]"
      ]
     },
     "execution_count": 76,
     "metadata": {},
     "output_type": "execute_result"
    },
    {
     "data": {
      "image/png": "[encoded data removed]",
      "text/plain": [
       "<matplotlib.figure.Figure at 0x10b4056d8>"
      ]
     },
     "metadata": {},
     "output_type": "display_data"
    }
   ],
   "source": [
    "plt.plot(trace['return'])"
   ]
  },
  {
   "cell_type": "code",
   "execution_count": 396,
   "metadata": {
    "collapsed": false
   },
   "outputs": [
    {
     "name": "stdout",
     "output_type": "stream",
     "text": [
      "[ -7.684  69.513]\n"
     ]
    },
    {
     "data": {
      "text/plain": [
       "[<matplotlib.lines.Line2D at 0x11540cda0>]"
      ]
     },
     "execution_count": 396,
     "metadata": {},
     "output_type": "execute_result"
    },
    {
     "data": {
      "image/png": "[encoded data removed]",
      "text/plain": [
       "<matplotlib.figure.Figure at 0x11532fcf8>"
      ]
     },
     "metadata": {},
     "output_type": "display_data"
    }
   ],
   "source": [
    "# agent.run_many(1000)\n",
    "print(agent.V.theta)\n",
    "# agent.V.theta = np.array([0, 100])\n",
    "X = np.linspace(-1,1, 101)\n",
    "plt.plot(X, lmap(agent.V, map(agent.phi, X)))"
   ]
  },
  {
   "cell_type": "code",
   "execution_count": null,
   "metadata": {
    "collapsed": true
   },
   "outputs": [],
   "source": [
    "\n",
    "\n",
    "\n",
    "\n",
    "\n",
    "\n",
    "\n",
    "\n",
    "\n",
    "\n",
    "\n",
    "\n",
    "\n",
    "\n",
    "\n",
    "\n",
    "\n",
    "\n",
    "\n",
    "\n"
   ]
  }
 ],
 "metadata": {
  "anaconda-cloud": {},
  "kernelspec": {
   "display_name": "Python [default]",
   "language": "python",
   "name": "python3"
  },
  "language_info": {
   "codemirror_mode": {
    "name": "ipython",
    "version": 3
   },
   "file_extension": ".py",
   "mimetype": "text/x-python",
   "name": "python",
   "nbconvert_exporter": "python",
   "pygments_lexer": "ipython3",
   "version": "3.5.2"
  },
  "nav_menu": {},
  "toc": {
   "navigate_menu": true,
   "number_sections": true,
   "sideBar": true,
   "threshold": 6,
   "toc_cell": false,
   "toc_section_display": "block",
   "toc_window_display": false
  }
 },
 "nbformat": 4,
 "nbformat_minor": 0
}
