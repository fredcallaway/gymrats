{
 "cells": [
  {
   "cell_type": "code",
   "execution_count": 15,
   "metadata": {
    "collapsed": false
   },
   "outputs": [
    {
     "name": "stdout",
     "output_type": "stream",
     "text": [
      "The autoreload extension is already loaded. To reload it, use:\n",
      "  %reload_ext autoreload\n"
     ]
    }
   ],
   "source": [
    "%matplotlib inline\n",
    "%load_ext autoreload\n",
    "%autoreload 2\n",
    "\n",
    "import matplotlib.pyplot as plt\n",
    "import numpy as np\n",
    "import pandas as pd\n",
    "import seaborn as sns\n",
    "sns.set_style('white')\n",
    "sns.set_context('notebook', font_scale=1.3)\n",
    "sns.set_palette('muted', color_codes=True)\n",
    "\n",
    "import itertools as it\n",
    "from collections import Counter, defaultdict, deque"
   ]
  },
  {
   "cell_type": "code",
   "execution_count": 16,
   "metadata": {
    "collapsed": false
   },
   "outputs": [],
   "source": [
    "# ---------- Functional utils ---------- #\n",
    "from toolz import pipe\n",
    "from toolz.curried import *\n",
    "max = curry(max)\n",
    "min = curry(min)\n",
    "call = lambda f: f()\n",
    "@curry\n",
    "def attr(name, obj):\n",
    "    return getattr(obj, name)\n",
    "@curry\n",
    "def invoke(name, obj):\n",
    "    return getattr(obj, name)()\n",
    "\n",
    "lmap = curry(compose(list, map))\n",
    "amap = curry(compose(np.array, lmap))"
   ]
  },
  {
   "cell_type": "code",
   "execution_count": null,
   "metadata": {
    "collapsed": true
   },
   "outputs": [],
   "source": [
    "from IPython.display import HTML\n",
    "from matplotlib import animation, rc\n",
    "rc('animation', html='html5')\n",
    "\n",
    "def display_animation(anim):\n",
    "    plt.close(anim._fig)\n",
    "    return HTML(anim_to_html(anim))\n",
    "\n",
    "\n",
    "fig = plt.figure()\n",
    "\n",
    "\n",
    "from matplotlib import colors\n",
    "from matplotlib import pyplot as plt\n",
    "cdef = ['#ffffff', '#111111', '#FC4754', '#4A74FF']\n",
    "cmap = colors.ListedColormap(cdef)\n",
    "bounds = np.arange(cmap.N + 1)\n",
    "cnorm = colors.BoundaryNorm(bounds, cmap.N)"
   ]
  },
  {
   "cell_type": "markdown",
   "metadata": {
    "heading_collapsed": true
   },
   "source": [
    "# Maze"
   ]
  },
  {
   "cell_type": "code",
   "execution_count": 3,
   "metadata": {
    "collapsed": false,
    "hidden": true
   },
   "outputs": [
    {
     "ename": "TypeError",
     "evalue": "__init__() got an unexpected keyword argument 'init_state'",
     "output_type": "error",
     "traceback": [
      "\u001b[0;31m---------------------------------------------------------------------------\u001b[0m",
      "\u001b[0;31mTypeError\u001b[0m                                 Traceback (most recent call last)",
      "\u001b[0;32m<ipython-input-3-619d807eec04>\u001b[0m in \u001b[0;36m<module>\u001b[0;34m()\u001b[0m\n\u001b[1;32m      3\u001b[0m \u001b[0;32mfrom\u001b[0m \u001b[0mmeta\u001b[0m \u001b[0;32mimport\u001b[0m \u001b[0;34m*\u001b[0m\u001b[0;34m\u001b[0m\u001b[0m\n\u001b[1;32m      4\u001b[0m \u001b[0magent\u001b[0m \u001b[0;34m=\u001b[0m \u001b[0mAgent\u001b[0m\u001b[0;34m(\u001b[0m\u001b[0;34m)\u001b[0m\u001b[0;34m\u001b[0m\u001b[0m\n\u001b[0;32m----> 5\u001b[0;31m \u001b[0mbase_env\u001b[0m \u001b[0;34m=\u001b[0m \u001b[0mGridWorld\u001b[0m\u001b[0;34m.\u001b[0m\u001b[0mrandom_maze\u001b[0m\u001b[0;34m(\u001b[0m\u001b[0;36m16\u001b[0m\u001b[0;34m)\u001b[0m\u001b[0;34m\u001b[0m\u001b[0m\n\u001b[0m\u001b[1;32m      6\u001b[0m \u001b[0mbase_env\u001b[0m\u001b[0;34m.\u001b[0m\u001b[0mrender\u001b[0m\u001b[0;34m(\u001b[0m\u001b[0;34m)\u001b[0m\u001b[0;34m\u001b[0m\u001b[0m\n\u001b[1;32m      7\u001b[0m \u001b[0;34m\u001b[0m\u001b[0m\n",
      "\u001b[0;32m/Users/fred/Projects/gymrats/envs.py\u001b[0m in \u001b[0;36mrandom_maze\u001b[0;34m(cls, size)\u001b[0m\n\u001b[1;32m    262\u001b[0m         \u001b[0mgoal\u001b[0m \u001b[0;34m=\u001b[0m \u001b[0mm\u001b[0m\u001b[0;34m.\u001b[0m\u001b[0mfarthest_point\u001b[0m\u001b[0;34m\u001b[0m\u001b[0m\n\u001b[1;32m    263\u001b[0m         \u001b[0mspec\u001b[0m\u001b[0;34m[\u001b[0m\u001b[0mgoal\u001b[0m\u001b[0;34m]\u001b[0m \u001b[0;34m=\u001b[0m \u001b[0mcls\u001b[0m\u001b[0;34m.\u001b[0m\u001b[0mGOAL\u001b[0m\u001b[0;34m\u001b[0m\u001b[0m\n\u001b[0;32m--> 264\u001b[0;31m         \u001b[0;32mreturn\u001b[0m \u001b[0mcls\u001b[0m\u001b[0;34m(\u001b[0m\u001b[0mspec\u001b[0m\u001b[0;34m,\u001b[0m \u001b[0minit_state\u001b[0m\u001b[0;34m=\u001b[0m\u001b[0;34m(\u001b[0m\u001b[0;36m1\u001b[0m\u001b[0;34m,\u001b[0m\u001b[0;36m1\u001b[0m\u001b[0;34m)\u001b[0m\u001b[0;34m,\u001b[0m \u001b[0mgoal\u001b[0m\u001b[0;34m=\u001b[0m\u001b[0mgoal\u001b[0m\u001b[0;34m)\u001b[0m\u001b[0;34m\u001b[0m\u001b[0m\n\u001b[0m\u001b[1;32m    265\u001b[0m \u001b[0;34m\u001b[0m\u001b[0m\n\u001b[1;32m    266\u001b[0m \u001b[0;34m\u001b[0m\u001b[0m\n",
      "\u001b[0;31mTypeError\u001b[0m: __init__() got an unexpected keyword argument 'init_state'"
     ]
    }
   ],
   "source": [
    "from agents import *\n",
    "from envs import *\n",
    "from meta import *\n",
    "agent = Agent()\n",
    "base_env = GridWorld.random_maze(16)\n",
    "base_env.render()\n",
    "\n",
    "def heuristic(obs):\n",
    "    row, col = obs\n",
    "    g_row, g_col = base_env.goal\n",
    "    return base_env.move_cost * (abs(row - g_row) + abs(col - g_col))\n",
    "\n",
    "policy = MetaSearchPolicy()\n",
    "env = MetaSearchEnv(base_env, policy.eval_node)\n",
    "env.reset()\n",
    "agent.register(env)\n",
    "agent.register(policy)\n",
    "trace = agent.run_episode()\n",
    "print(trace['return'])"
   ]
  },
  {
   "cell_type": "code",
   "execution_count": 18,
   "metadata": {
    "collapsed": false,
    "hidden": true
   },
   "outputs": [
    {
     "name": "stdout",
     "output_type": "stream",
     "text": [
      "GOAL IS (13, 3)\n"
     ]
    },
    {
     "ename": "UnsupportedMode",
     "evalue": "<MetaSearchEnv instance> does not support rendering (requested mode: array)",
     "output_type": "error",
     "traceback": [
      "\u001b[0;31m---------------------------------------------------------------------------\u001b[0m",
      "\u001b[0;31mUnsupportedMode\u001b[0m                           Traceback (most recent call last)",
      "\u001b[0;32m<ipython-input-18-2ea0cec9fa23>\u001b[0m in \u001b[0;36m<module>\u001b[0;34m()\u001b[0m\n\u001b[1;32m     19\u001b[0m \u001b[0;34m\u001b[0m\u001b[0m\n\u001b[1;32m     20\u001b[0m \u001b[0menv\u001b[0m\u001b[0;34m.\u001b[0m\u001b[0mreset\u001b[0m\u001b[0;34m(\u001b[0m\u001b[0;34m)\u001b[0m\u001b[0;34m\u001b[0m\u001b[0m\n\u001b[0;32m---> 21\u001b[0;31m \u001b[0mX\u001b[0m \u001b[0;34m=\u001b[0m \u001b[0menv\u001b[0m\u001b[0;34m.\u001b[0m\u001b[0mrender\u001b[0m\u001b[0;34m(\u001b[0m\u001b[0mmode\u001b[0m\u001b[0;34m=\u001b[0m\u001b[0;34m'array'\u001b[0m\u001b[0;34m)\u001b[0m\u001b[0;34m\u001b[0m\u001b[0m\n\u001b[0m\u001b[1;32m     22\u001b[0m \u001b[0;34m\u001b[0m\u001b[0m\n\u001b[1;32m     23\u001b[0m \u001b[0mfrontier\u001b[0m \u001b[0;34m=\u001b[0m \u001b[0;32mFalse\u001b[0m\u001b[0;34m\u001b[0m\u001b[0m\n",
      "\u001b[0;32m/usr/local/lib/miniconda3/lib/python3.5/site-packages/gym/core.py\u001b[0m in \u001b[0;36mrender\u001b[0;34m(self, mode, close)\u001b[0m\n\u001b[1;32m    186\u001b[0m         \u001b[0mmodes\u001b[0m \u001b[0;34m=\u001b[0m \u001b[0mself\u001b[0m\u001b[0;34m.\u001b[0m\u001b[0mmetadata\u001b[0m\u001b[0;34m.\u001b[0m\u001b[0mget\u001b[0m\u001b[0;34m(\u001b[0m\u001b[0;34m'render.modes'\u001b[0m\u001b[0;34m,\u001b[0m \u001b[0;34m[\u001b[0m\u001b[0;34m]\u001b[0m\u001b[0;34m)\u001b[0m\u001b[0;34m\u001b[0m\u001b[0m\n\u001b[1;32m    187\u001b[0m         \u001b[0;32mif\u001b[0m \u001b[0mlen\u001b[0m\u001b[0;34m(\u001b[0m\u001b[0mmodes\u001b[0m\u001b[0;34m)\u001b[0m \u001b[0;34m==\u001b[0m \u001b[0;36m0\u001b[0m\u001b[0;34m:\u001b[0m\u001b[0;34m\u001b[0m\u001b[0m\n\u001b[0;32m--> 188\u001b[0;31m             \u001b[0;32mraise\u001b[0m \u001b[0merror\u001b[0m\u001b[0;34m.\u001b[0m\u001b[0mUnsupportedMode\u001b[0m\u001b[0;34m(\u001b[0m\u001b[0;34m'{} does not support rendering (requested mode: {})'\u001b[0m\u001b[0;34m.\u001b[0m\u001b[0mformat\u001b[0m\u001b[0;34m(\u001b[0m\u001b[0mself\u001b[0m\u001b[0;34m,\u001b[0m \u001b[0mmode\u001b[0m\u001b[0;34m)\u001b[0m\u001b[0;34m)\u001b[0m\u001b[0;34m\u001b[0m\u001b[0m\n\u001b[0m\u001b[1;32m    189\u001b[0m         \u001b[0;32melif\u001b[0m \u001b[0mmode\u001b[0m \u001b[0;32mnot\u001b[0m \u001b[0;32min\u001b[0m \u001b[0mmodes\u001b[0m\u001b[0;34m:\u001b[0m\u001b[0;34m\u001b[0m\u001b[0m\n\u001b[1;32m    190\u001b[0m             \u001b[0;32mraise\u001b[0m \u001b[0merror\u001b[0m\u001b[0;34m.\u001b[0m\u001b[0mUnsupportedMode\u001b[0m\u001b[0;34m(\u001b[0m\u001b[0;34m'Unsupported rendering mode: {}. (Supported modes for {}: {})'\u001b[0m\u001b[0;34m.\u001b[0m\u001b[0mformat\u001b[0m\u001b[0;34m(\u001b[0m\u001b[0mmode\u001b[0m\u001b[0;34m,\u001b[0m \u001b[0mself\u001b[0m\u001b[0;34m,\u001b[0m \u001b[0mmodes\u001b[0m\u001b[0;34m)\u001b[0m\u001b[0;34m)\u001b[0m\u001b[0;34m\u001b[0m\u001b[0m\n",
      "\u001b[0;31mUnsupportedMode\u001b[0m: <MetaSearchEnv instance> does not support rendering (requested mode: array)"
     ]
    },
    {
     "data": {
      "text/plain": [
       "<matplotlib.figure.Figure at 0x10c4b11d0>"
      ]
     },
     "metadata": {},
     "output_type": "display_data"
    }
   ],
   "source": [
    "from IPython.display import HTML\n",
    "from matplotlib import animation, rc\n",
    "rc('animation', html='html5')\n",
    "\n",
    "def display_animation(anim):\n",
    "    plt.close(anim._fig)\n",
    "    return HTML(anim_to_html(anim))\n",
    "\n",
    "\n",
    "fig = plt.figure()\n",
    "\n",
    "\n",
    "from matplotlib import colors\n",
    "from matplotlib import pyplot as plt\n",
    "cdef = ['#ffffff', '#111111', '#FC4754', '#4A74FF']\n",
    "cmap = colors.ListedColormap(cdef)\n",
    "bounds = np.arange(cmap.N + 1)\n",
    "cnorm = colors.BoundaryNorm(bounds, cmap.N)\n",
    "\n",
    "# env.reset()\n",
    "env = surface_env\n",
    "X = env.render(mode='array')\n",
    "\n",
    "frontier = False\n",
    "if frontier:\n",
    "    im = plt.imshow(X, aspect='equal', cmap=cmap, norm=cnorm, animated=True)\n",
    "    frames = policy.saved['frontier']\n",
    "    def updatefig(h):\n",
    "    #     r,c = h['state']\n",
    "        X1 = X.copy()\n",
    "        for (r,c) in h:\n",
    "            X1[r,c] = 3\n",
    "        im.set_array(X1)\n",
    "        return im,\n",
    "else:\n",
    "    trace = env.surface_agent.ep_trace\n",
    "    im = plt.imshow(X, aspect='equal', cmap=cmap, norm=cnorm, animated=True)\n",
    "    frames = iter(trace['actions'])\n",
    "    def updatefig(a):\n",
    "        env.step(a)\n",
    "        X = env.render(mode='array')\n",
    "        im.set_array(X)\n",
    "        return im,\n",
    "\n",
    "anim = animation.FuncAnimation(fig, updatefig, interval=200, blit=True, \n",
    "                        frames=frames, )\n",
    "anim\n",
    "# anim.save('a-star.gif', writer='imagemagick', fps=10)"
   ]
  },
  {
   "cell_type": "code",
   "execution_count": 22,
   "metadata": {
    "collapsed": true,
    "hidden": true
   },
   "outputs": [],
   "source": [
    "def heuristic(env, obs):\n",
    "    row, col = obs\n",
    "    g_row, g_col = env.goal\n",
    "    return env.move_cost * (abs(row - g_row) + abs(col - g_col))\n",
    "\n",
    "from agents import *\n",
    "from envs import GridWorld\n",
    "agent = Agent()\n",
    "env = GridWorld.random_maze(16)\n",
    "env.reset()\n",
    "env.render()\n",
    "\n",
    "policy = Astar(heuristic)\n",
    "agent.register(env)\n",
    "agent.register(policy)\n",
    "trace = agent.run_episode()\n",
    "print(len(trace['actions']), trace['return'])"
   ]
  },
  {
   "cell_type": "markdown",
   "metadata": {},
   "source": [
    "# Pain"
   ]
  },
  {
   "cell_type": "code",
   "execution_count": 43,
   "metadata": {
    "collapsed": true
   },
   "outputs": [],
   "source": [
    "def plot_line(env, trace, title=None):\n",
    "    im = plt.imshow(env.rewards, aspect='equal', cmap='Reds_r')\n",
    "#     txt = plt.text(0, 0, 'A', color='#4A74FF', weight='bold', size=24,\n",
    "#                      verticalalignment='center', horizontalalignment='center')\n",
    "    plt.scatter(*np.stack(trace['states']).T, c='w', edgecolors='b', linewidths=1)\n",
    "    if title:\n",
    "        plt.title(title)\n",
    "    plt.show()"
   ]
  },
  {
   "cell_type": "code",
   "execution_count": 49,
   "metadata": {
    "collapsed": false
   },
   "outputs": [
    {
     "name": "stdout",
     "output_type": "stream",
     "text": [
      "best_finished = Node(state=(9, 8), path=[2, 2, 2, 1, 2, 1, 2, 2, 2, 2, 2, 1, 1, 1, 1, 1, 1, 1], reward=-21.591173790832588, done=True)\n"
     ]
    },
    {
     "data": {
      "image/png": "[encoded data removed]",
      "text/plain": [
       "<matplotlib.figure.Figure at 0x10cd97d30>"
      ]
     },
     "metadata": {},
     "output_type": "display_data"
    },
    {
     "name": "stdout",
     "output_type": "stream",
     "text": [
      "best_finished = Node(state=(9, 8), path=[2, 2, 2, 1, 2, 1, 2, 2, 2, 2, 2, 1, 1, 1, 1, 1, 1, 1], reward=-21.591173790832588, done=True)\n"
     ]
    },
    {
     "data": {
      "image/png": "[encoded data removed]",
      "text/plain": [
       "<matplotlib.figure.Figure at 0x10b245eb8>"
      ]
     },
     "metadata": {},
     "output_type": "display_data"
    },
    {
     "data": {
      "image/png": "[encoded data removed]",
      "text/plain": [
       "<matplotlib.figure.Figure at 0x10b2ee9b0>"
      ]
     },
     "metadata": {},
     "output_type": "display_data"
    }
   ],
   "source": [
    "from agents import *\n",
    "from envs import *\n",
    "from meta import *\n",
    "\n",
    "R = -np.random.random((10, 10)) - 1\n",
    "base_env = GridWorld('pain', size=10, rewards=R)\n",
    "\n",
    "def heuristic(env, obs):\n",
    "    row, col = obs\n",
    "    g_row, g_col = env.goal\n",
    "    return - ((abs(row - g_row) + abs(col - g_col)))\n",
    "\n",
    "agent = Agent()\n",
    "astar = Astar(lambda env, s: 0)\n",
    "agent.register(base_env)\n",
    "agent.register(astar)\n",
    "trace = agent.run_episode()\n",
    "plot_line(base_env, trace, 'Optimal')\n",
    "\n",
    "agent = Agent()\n",
    "astar = Astar(heuristic)\n",
    "agent.register(base_env)\n",
    "agent.register(astar)\n",
    "trace = agent.run_episode()\n",
    "plot_line(base_env, trace, 'A*')\n",
    "\n",
    "agent = Agent()\n",
    "policy = MetaBestFirstSearchPolicy()\n",
    "env = MetaBestFirstSearchEnv(base_env, policy.eval_node)\n",
    "agent.register(env)\n",
    "agent.register(policy)\n",
    "agent.run_episode()\n",
    "plot_line(base_env, env.surface_agent.ep_trace, 'Metareasoning')"
   ]
  },
  {
   "cell_type": "code",
   "execution_count": 100,
   "metadata": {
    "collapsed": false
   },
   "outputs": [
    {
     "data": {
      "text/plain": [
       "<matplotlib.legend.Legend at 0x10ce2a588>"
      ]
     },
     "execution_count": 100,
     "metadata": {},
     "output_type": "execute_result"
    },
    {
     "data": {
      "image/png": "[encoded data removed]",
      "text/plain": [
       "<matplotlib.figure.Figure at 0x10d8e2208>"
      ]
     },
     "metadata": {},
     "output_type": "display_data"
    }
   ],
   "source": [
    "from agents import *\n",
    "from envs import *\n",
    "from meta import *\n",
    "\n",
    "envs = []\n",
    "def data(N=1):\n",
    "    min_cost = -1\n",
    "    extra_cost = -10\n",
    "    mean_cost = min_cost + extra_cost / 2\n",
    "    thetas = {\n",
    "        'A*': [-1000, 1, min_cost],\n",
    "        'learned': None,\n",
    "        'meta-greedy': [-1000, 1, mean_cost]\n",
    "    }\n",
    "    for i in range(N):\n",
    "        R = min_cost + extra_cost * np.random.random((10, 10))\n",
    "        R[-1] = 0\n",
    "        base_env = GridWorld('pain', size=10, rewards=R)\n",
    "        envs.append(base_env)\n",
    "        for name, theta in thetas.items():\n",
    "            agent = Agent()\n",
    "            policy = MetaBestFirstSearchPolicy(theta)\n",
    "            env = MetaBestFirstSearchEnv(base_env, policy.eval_node, expansion_cost=.2)\n",
    "            agent.register(env)\n",
    "            agent.register(policy)\n",
    "            r = agent.run_episode()['rewards']\n",
    "\n",
    "            yield {'env': i, 'name': name, 'computation': sum(r[:-1]),\n",
    "                   'pain': r[-1], 'total': sum(r)}\n",
    "\n",
    "df = pd.DataFrame(data(10))\n",
    "sns.set_style('whitegrid')\n",
    "df.groupby('name')['computation', 'pain', 'total'].mean().plot()\n",
    "sns.set_style('white')\n",
    "plt.legend()\n"
   ]
  },
  {
   "cell_type": "code",
   "execution_count": 302,
   "metadata": {
    "collapsed": false
   },
   "outputs": [
    {
     "name": "stderr",
     "output_type": "stream",
     "text": [
      "Widget Javascript not detected.  It may not be installed properly. Did you enable the widgetsnbextension? If not, then run \"jupyter nbextension enable --py --sys-prefix widgetsnbextension\"\n"
     ]
    },
    {
     "name": "stdout",
     "output_type": "stream",
     "text": [
      "\n"
     ]
    },
    {
     "data": {
      "text/plain": [
       "[-49.110824845761996,\n",
       " -49.110824845761996,\n",
       " -49.110824845761996,\n",
       " -49.110824845761996,\n",
       " -49.110824845761996,\n",
       " -49.110824845761996,\n",
       " -49.110824845761996,\n",
       " -49.110824845761996,\n",
       " -49.110824845761996,\n",
       " -49.110824845761996,\n",
       " -49.110824845761996,\n",
       " -49.110824845761996,\n",
       " -49.110824845761996,\n",
       " -49.110824845761996,\n",
       " -49.110824845761996,\n",
       " -49.110824845761996,\n",
       " -49.110824845761996,\n",
       " -49.110824845761996,\n",
       " -49.110824845761996,\n",
       " -49.110824845761996]"
      ]
     },
     "execution_count": 302,
     "metadata": {},
     "output_type": "execute_result"
    }
   ],
   "source": [
    "from agents import *\n",
    "from envs import *\n",
    "from meta import *\n",
    "\n",
    "agent = Agent()\n",
    "policy = MetaBestFirstSearchPolicy()\n",
    "env = MetaBestFirstSearchEnv(base_env, policy.eval_node, 0)\n",
    "agent.register(env)\n",
    "agent.register(policy)\n",
    "# trace = agent.run_many(50)\n",
    "trace = agent.run_many(20)\n",
    "# trace = agent.run_episode()\n",
    "trace['return']"
   ]
  },
  {
   "cell_type": "code",
   "execution_count": 304,
   "metadata": {
    "collapsed": false
   },
   "outputs": [
    {
     "data": {
      "text/plain": [
       "array([[ 0.258,  0.952],\n",
       "       [ 0.259,  0.951],\n",
       "       [ 0.26 ,  0.95 ],\n",
       "       [ 0.261,  0.949],\n",
       "       [ 0.262,  0.948],\n",
       "       [ 0.263,  0.947],\n",
       "       [ 0.264,  0.946],\n",
       "       [ 0.265,  0.945],\n",
       "       [ 0.266,  0.944],\n",
       "       [ 0.267,  0.943],\n",
       "       [ 0.268,  0.942],\n",
       "       [ 0.269,  0.941],\n",
       "       [ 0.27 ,  0.94 ],\n",
       "       [ 0.271,  0.939],\n",
       "       [ 0.272,  0.938],\n",
       "       [ 0.273,  0.937],\n",
       "       [ 0.274,  0.936],\n",
       "       [ 0.275,  0.935],\n",
       "       [ 0.276,  0.934],\n",
       "       [ 0.277,  0.933]], dtype=float32)"
      ]
     },
     "execution_count": 304,
     "metadata": {},
     "output_type": "execute_result"
    }
   ],
   "source": [
    "np.stack([w.flat for w in policy.saved['weights']])"
   ]
  },
  {
   "cell_type": "code",
   "execution_count": 292,
   "metadata": {
    "collapsed": false
   },
   "outputs": [
    {
     "data": {
      "image/png": "[encoded data removed]",
      "text/plain": [
       "<matplotlib.figure.Figure at 0x12d086c18>"
      ]
     },
     "metadata": {},
     "output_type": "display_data"
    }
   ],
   "source": [
    "im = plt.imshow(env.env.rewards, aspect='equal', cmap='Reds_r')\n",
    "frontier = True\n",
    "if frontier:\n",
    "#     im = plt.imshow(env.env.rewards, aspect='equal', cmap='Reds_r')\n",
    "    env.env.render()\n",
    "    scatter = plt.scatter([], [], c='w', edgecolors='b', linewidths=1)\n",
    "    frames = policy.saved['frontier']\n",
    "    def updatefig(h):\n",
    "        scatter.set_offsets(h)\n",
    "        return scatter,\n",
    "else:\n",
    "    trace = env.surface_agent.ep_trace\n",
    "    txt = plt.text(0, 0, 'A', color='#4A74FF', weight='bold', size=24,\n",
    "                     verticalalignment='center', horizontalalignment='center')\n",
    "    frames = iter(trace['states'])\n",
    "    def updatefig(s):\n",
    "        txt.set_position(s)\n",
    "#         env.step(a)\n",
    "#         X = env.render(mode='array')\n",
    "#         im.set_array(X)\n",
    "        return txt,\n",
    "\n",
    "scatter.set_offsets(frames[20])\n",
    "# anim = animation.FuncAnimation(fig, updatefig, interval=200, blit=True, \n",
    "#                         frames=frames, )\n",
    "# anim\n",
    "# anim.save('a-star.gif', writer='imagemagick', fps=10)"
   ]
  },
  {
   "cell_type": "code",
   "execution_count": 157,
   "metadata": {
    "collapsed": false
   },
   "outputs": [
    {
     "data": {
      "text/plain": [
       "array([[-0.576, -0.232, -0.123],\n",
       "       [-0.635, -0.257, -0.621],\n",
       "       [-0.574, -0.547, -0.462]])"
      ]
     },
     "execution_count": 157,
     "metadata": {},
     "output_type": "execute_result"
    }
   ],
   "source": [
    "env.env.rewards[:3, :3]"
   ]
  },
  {
   "cell_type": "code",
   "execution_count": 158,
   "metadata": {
    "collapsed": false
   },
   "outputs": [
    {
     "data": {
      "text/plain": [
       "<matplotlib.image.AxesImage at 0x10ef65f98>"
      ]
     },
     "execution_count": 158,
     "metadata": {},
     "output_type": "execute_result"
    },
    {
     "data": {
      "image/png": "[encoded data removed]",
      "text/plain": [
       "<matplotlib.figure.Figure at 0x10a812c50>"
      ]
     },
     "metadata": {},
     "output_type": "display_data"
    }
   ],
   "source": [
    "plt.imshow(env.env.rewards[:3, :3], cmap='Reds_r')"
   ]
  },
  {
   "cell_type": "code",
   "execution_count": null,
   "metadata": {
    "collapsed": false
   },
   "outputs": [],
   "source": [
    "env.reset()\n",
    "env.render(mode='human')\n",
    "for a in tr['actions']:\n",
    "    time.sleep(1)\n",
    "    env.step(a)\n",
    "    env.render(mode='human')\n"
   ]
  },
  {
   "cell_type": "code",
   "execution_count": null,
   "metadata": {
    "collapsed": false
   },
   "outputs": [],
   "source": [
    "N_EP = 40\n",
    "SIZE = 10\n",
    "from agents import *\n",
    "from envs import ForageWorld\n",
    "env = ForageWorld(SIZE, 4, .05)\n",
    "agent = Agent()\n",
    "agent.register(env)\n",
    "env.reset()\n",
    "V = BayesianRegressionV()\n",
    "agent.register(V)\n",
    "agent.register(SearchPolicy(V, noise=0))\n",
    "trace = agent.run_many(N_EP, max_steps=100)"
   ]
  },
  {
   "cell_type": "code",
   "execution_count": null,
   "metadata": {
    "collapsed": false
   },
   "outputs": [],
   "source": [
    "np.random.randn()"
   ]
  },
  {
   "cell_type": "code",
   "execution_count": null,
   "metadata": {
    "collapsed": true
   },
   "outputs": [],
   "source": [
    "from scipy.stats import norm"
   ]
  },
  {
   "cell_type": "code",
   "execution_count": null,
   "metadata": {
    "collapsed": false
   },
   "outputs": [],
   "source": [
    "def ret(n, sig):\n",
    "    return sum(np.random.randn() * sig for _ in range(n))\n",
    "\n",
    "d = [ret(2, 1) for _ in range(1000)]\n",
    "sns.distplot(d)\n",
    "norm.fit(d)\n",
    "    "
   ]
  },
  {
   "cell_type": "code",
   "execution_count": null,
   "metadata": {
    "collapsed": false
   },
   "outputs": [],
   "source": [
    "softmax([1,1,2])"
   ]
  },
  {
   "cell_type": "code",
   "execution_count": null,
   "metadata": {
    "collapsed": false
   },
   "outputs": [],
   "source": [
    "x = np.random.rand(4)\n",
    "theta = np.random.rand(4, 2)\n",
    "x @ theta"
   ]
  },
  {
   "cell_type": "code",
   "execution_count": null,
   "metadata": {
    "collapsed": false
   },
   "outputs": [],
   "source": [
    "plt.plot(rolling_max(map(get('v'), agent.policy.node_history), 200))"
   ]
  },
  {
   "cell_type": "code",
   "execution_count": null,
   "metadata": {
    "collapsed": false
   },
   "outputs": [],
   "source": [
    "df = pd.DataFrame(trace)\n",
    "df['return'].plot()"
   ]
  },
  {
   "cell_type": "code",
   "execution_count": null,
   "metadata": {
    "collapsed": false
   },
   "outputs": [],
   "source": [
    "sns.set_style('whitegrid')\n",
    "w = V.model.w\n",
    "idx = [0,1,2,3,4,5,6,7,8,9,10,len(w)-1]\n",
    "w = w[idx]\n",
    "var = V.model.sigma_w[idx]\n",
    "# plt.bar(range(len(idx)), w)\n",
    "plt.errorbar(range(len(idx)), w, var)\n",
    "# plt.fill_between(range(len(idx)), w-var, w+var, alpha=0.4)\n",
    "# plt.ylim(-2, 2)"
   ]
  },
  {
   "cell_type": "code",
   "execution_count": null,
   "metadata": {
    "collapsed": false
   },
   "outputs": [],
   "source": [
    "from utils import dict_product\n",
    "from envs import ForageWorld\n",
    "from agents import *\n",
    "\n",
    "def rolling_max(seq, length):\n",
    "    seq = iter(seq)\n",
    "    best = next(seq)\n",
    "    lst = np.zeros(length) - 1000\n",
    "    lst[0] = best\n",
    "    for i, x in enumerate(seq, start=1):\n",
    "        best = max(x, best)\n",
    "        lst[i] = best \n",
    "    for j in range(i, length):\n",
    "        lst[j] = best\n",
    "    return lst\n",
    "    \n",
    "        \n",
    "\n",
    "def data(params, n=20):\n",
    "    for i, pr in enumerate(params):\n",
    "        print(pr)\n",
    "        env = ForageWorld(**pr)\n",
    "        agent = Agent()\n",
    "        agent.register(env)\n",
    "        V = FixedV([0, 1] + [0] * (pr['size'] ** 2))\n",
    "        agent.register(V)\n",
    "        agent.register(SearchPolicy(V, noise=0))\n",
    "        rets = []\n",
    "        for _ in range(n):\n",
    "            agent.run_episode()\n",
    "            nh = agent.policy.node_history\n",
    "            rets.append(rolling_max(map(get('v'), nh), 2000))\n",
    "        yield {**pr, 'ret': np.stack(rets).mean(0)}\n",
    "\n",
    "params = {\n",
    "    'size': [6,8,10,12],\n",
    "    'n_berry': 5,\n",
    "    'time_cost': 0.05,\n",
    "}\n",
    "df = pd.DataFrame(data(dict_product(params)))"
   ]
  },
  {
   "cell_type": "code",
   "execution_count": null,
   "metadata": {
    "collapsed": false
   },
   "outputs": [],
   "source": [
    "time_cost = np.arange(2000) * -0.001\n",
    "colors = iter(sns.color_palette('deep'))\n",
    "color = defaultdict(lambda: next(colors))\n",
    "ls = {0.05: '-', 0.1: '--'}\n",
    "for (nb, s, tc), dd in df.groupby(['n_berry', 'size', 'time_cost']):\n",
    "    x = dd.ret.iloc[0] + time_cost\n",
    "    plt.plot(x[:1000], c=color[s], ls=ls[tc])\n",
    "plt.legend()"
   ]
  },
  {
   "cell_type": "code",
   "execution_count": null,
   "metadata": {
    "collapsed": false
   },
   "outputs": [],
   "source": [
    "from matplotlib.animation import FuncAnimation\n",
    "from IPython.display import HTML, Image\n",
    "sns.set_style('whitegrid')\n",
    "\n",
    "def display_animation(anim):\n",
    "    plt.close(anim._fig)\n",
    "    return HTML(anim.to_html5_video())\n",
    "\n",
    "def get_states(path):\n",
    "    env.reset()\n",
    "    yield (SIZE // 2, SIZE //2)\n",
    "    for a in path:\n",
    "        s1, r, done, _ = env.step(a)\n",
    "        yield env._state[:2]\n",
    "\n",
    "def init():\n",
    "    pathcol.set_offsets([[], []])\n",
    "    return [pathcol]\n",
    "\n",
    "def update(i, pathcol, nodes):\n",
    "    data = np.array(list(get_states(nodes[i].path)))\n",
    "    pathcol.set_offsets(data)\n",
    "    return [pathcol]\n",
    "\n",
    "fig = plt.figure()\n",
    "ax = plt.axes(xlim=(-0.5, SIZE+.5), ylim=(-0.5, SIZE+.5))\n",
    "plt.xticks(range(0,SIZE))\n",
    "plt.yticks(range(0,SIZE))\n",
    "ax.scatter(*np.array(list(env.berry_locs.keys())).T, \n",
    "           c='r', marker='x',  s=120)\n",
    "pathcol = ax.scatter([], [], s=100)\n",
    "\n",
    "nodes = agent.policy.node_history[200:300]\n",
    "T = len(nodes)\n",
    "\n",
    "anim = FuncAnimation(\n",
    "    fig, update, init_func=init, fargs=(pathcol, nodes), interval=200, frames=T, \n",
    "    blit=True, repeat=True)\n",
    "\n",
    "display_animation(anim)"
   ]
  },
  {
   "cell_type": "code",
   "execution_count": null,
   "metadata": {
    "collapsed": true
   },
   "outputs": [],
   "source": [
    "plot = plt.scatter([], [], s=100)\n",
    "fig1 = plt.figure()\n",
    "plt.axis('equal')\n",
    "plt.xlim(0, SIZE)\n",
    "plt.ylim(0, SIZE)\n",
    "\n",
    "nodes = agent.policy.node_history\n",
    "ani = FuncAnimation(fig1, plot_node, 20, fargs=(nodes, plot),      \n",
    "                                   interval=100, blit=True)\n",
    "display_animation(ani)"
   ]
  },
  {
   "cell_type": "code",
   "execution_count": null,
   "metadata": {
    "collapsed": false
   },
   "outputs": [],
   "source": [
    "df = pd.DataFrame(trace)\n",
    "sns.factorplot('berries', 'return', data=df)\n",
    "plt.axis('equal')\n",
    "# plt.plot([0, 2], [0, 2], ls='--')"
   ]
  },
  {
   "cell_type": "code",
   "execution_count": null,
   "metadata": {
    "collapsed": false
   },
   "outputs": [],
   "source": [
    "# N_EP = 50\n",
    "# trace = agent.run_many(N_EP, max_steps=100)\n",
    "roll = 2\n",
    "\n",
    "df = pd.DataFrame(trace)\n",
    "cols = ['v0', 'vx', 'vy', 'vb'] \n",
    "# cols.extend(['vxy', 'vxb', 'vyb'])\n",
    "tdf = pd.DataFrame(list(df.theta_v), columns=cols).clip(-10, 100)\n",
    "df = df.join(tdf).drop('theta_v', axis=1)\n",
    "# sns.factorplot('berries', 'return', data=df)\n",
    "# df['return'].rolling(roll).mean().plot()\n",
    "# sns.lmplot('i_episode', 'vb', data=df)\n",
    "df[cols + ['return', 'berries']].rolling(roll).mean().plot()\n",
    "plt.axhline(0, ls='--', c='gray')"
   ]
  },
  {
   "cell_type": "code",
   "execution_count": null,
   "metadata": {
    "collapsed": false
   },
   "outputs": [],
   "source": []
  },
  {
   "cell_type": "code",
   "execution_count": null,
   "metadata": {
    "collapsed": true
   },
   "outputs": [],
   "source": []
  },
  {
   "cell_type": "code",
   "execution_count": null,
   "metadata": {
    "collapsed": false
   },
   "outputs": [],
   "source": [
    "from sklearn.linear_model import SGDRegressor\n",
    "n_samples, n_features = 100, 5\n",
    "X = np.random.randn(n_samples, n_features)\n",
    "theta = np.random.randn(n_features)\n",
    "y = X @ theta + 0.5 * np.random.randn(n_samples)\n",
    "clf = SGDRegressor()\n",
    "clf.fit(X, y)\n",
    "theta_hat = np.linalg.inv(X.T @ X) @ (X.T @ y)\n",
    "def rms_error(y1, y2):\n",
    "    return ((y1 - y2) ** 2).mean() ** 0.5\n",
    "\n",
    "print('{:.3f}  {:.3f}'.format(\n",
    "    rms_error(y, clf.predict(X)),\n",
    "    rms_error(y, X @ theta_hat)),\n",
    ")\n"
   ]
  },
  {
   "cell_type": "code",
   "execution_count": null,
   "metadata": {
    "collapsed": false
   },
   "outputs": [],
   "source": [
    "class LinearSGD(object):\n",
    "    \"\"\"Learns a linear approximation by SGD.\"\"\"\n",
    "    def __init__(self, shape, learn_rate=.1):\n",
    "        self.shape = shape\n",
    "        self.learn_rate = learn_rate\n",
    "        self.theta = np.random.random(self.shape)\n",
    "\n",
    "    def update(self, x, y):\n",
    "        yhat = x @ self.theta\n",
    "        error = y - yhat\n",
    "        self.theta += self.learn_rate * np.outer(x, error)\n",
    "\n",
    "    def predict(self, x):\n",
    "        return x @ self.theta\n",
    "\n",
    "mod = LinearSGD((n_features, 1), .1)\n",
    "for i in range(len(X)):\n",
    "    mod.update(X[i], y[i])\n",
    "\n",
    "yhat = [mod.predict(x)[0] for x in X]\n",
    "rms_error(y, yhat)"
   ]
  },
  {
   "cell_type": "code",
   "execution_count": null,
   "metadata": {
    "collapsed": false
   },
   "outputs": [],
   "source": [
    "from sklearn.linear_model import SGDRegressor\n",
    "n_samples, n_features, n_output = 10, 5, 2\n",
    "X = np.random.randn(n_samples, n_features)\n",
    "theta = np.random.randn(n_features, n_output)\n",
    "y = X @ theta\n",
    "# clf = SGDRegressor()\n",
    "# clf.partial_fit(X, y)\n",
    "y"
   ]
  },
  {
   "cell_type": "code",
   "execution_count": null,
   "metadata": {
    "collapsed": false
   },
   "outputs": [],
   "source": [
    "clf.fit(X, y)\n",
    "theta_hat = np.linalg.inv(X.T @ X) @ (X.T @ y)\n",
    "def rms_error(y1, y2):\n",
    "    return ((y1 - y2) ** 2).mean() ** 0.5\n",
    "\n",
    "print('{:.3f}  {:.3f}'.format(\n",
    "    rms_error(y, clf.predict(X)),\n",
    "    rms_error(y, X @ theta_hat)),\n",
    ")"
   ]
  },
  {
   "cell_type": "code",
   "execution_count": null,
   "metadata": {
    "collapsed": false
   },
   "outputs": [],
   "source": [
    "def bin(x):\n",
    "    return pd.cut(x, 10).apply(lambda x: x.mid)\n",
    "\n",
    "bdf = pd.DataFrame({\n",
    "    'vb': bin(df.vb),\n",
    "    'ep': bin(df.i_episode),\n",
    "    'return': df['return']\n",
    "})\n",
    "sns.heatmap(bdf.pivot_table('return', 'vb', 'ep'))"
   ]
  },
  {
   "cell_type": "code",
   "execution_count": null,
   "metadata": {
    "collapsed": true
   },
   "outputs": [],
   "source": []
  },
  {
   "cell_type": "code",
   "execution_count": null,
   "metadata": {
    "collapsed": false
   },
   "outputs": [],
   "source": [
    "agent.depth = 2\n",
    "agent.run_episode()"
   ]
  },
  {
   "cell_type": "code",
   "execution_count": null,
   "metadata": {
    "collapsed": false
   },
   "outputs": [],
   "source": [
    "V = agent.V.to_array().reshape(5, 5)\n",
    "sns.heatmap(V)"
   ]
  },
  {
   "cell_type": "code",
   "execution_count": null,
   "metadata": {
    "collapsed": false
   },
   "outputs": [],
   "source": [
    "from agents import QLearningAgent\n",
    "from envs import GridEnv\n",
    "\n",
    "env = GridEnv(5, 5)\n",
    "agent = QLearningAgent(env)\n",
    "agent.Q.theta\n",
    "# agent.Q.theta\n",
    "# trace = agent.run_many(500)\n",
    "agent.run_many(100)"
   ]
  },
  {
   "cell_type": "code",
   "execution_count": null,
   "metadata": {
    "collapsed": false
   },
   "outputs": [],
   "source": [
    "plt.plot(trace['return'])"
   ]
  },
  {
   "cell_type": "code",
   "execution_count": null,
   "metadata": {
    "collapsed": false
   },
   "outputs": [],
   "source": [
    "# agent.run_many(1000)\n",
    "print(agent.V.theta)\n",
    "# agent.V.theta = np.array([0, 100])\n",
    "X = np.linspace(-1,1, 101)\n",
    "plt.plot(X, lmap(agent.V, map(agent.phi, X)))"
   ]
  },
  {
   "cell_type": "code",
   "execution_count": null,
   "metadata": {
    "collapsed": true
   },
   "outputs": [],
   "source": [
    "\n",
    "\n",
    "\n",
    "\n",
    "\n",
    "\n",
    "\n",
    "\n",
    "\n",
    "\n",
    "\n",
    "\n",
    "\n",
    "\n",
    "\n",
    "\n",
    "\n",
    "\n",
    "\n",
    "\n"
   ]
  }
 ],
 "metadata": {
  "anaconda-cloud": {},
  "kernelspec": {
   "display_name": "Python [default]",
   "language": "python",
   "name": "python3"
  },
  "nav_menu": {},
  "toc": {
   "navigate_menu": true,
   "number_sections": true,
   "sideBar": true,
   "threshold": 6,
   "toc_cell": false,
   "toc_section_display": "block",
   "toc_window_display": false
  },
  "widgets": {
   "state": {
    "04ff169a3f144bd98c4ed4b89abbb41e": {
     "views": [
      {
       "cell_index": 11
      }
     ]
    }
   },
   "version": "1.2.0"
  }
 },
 "nbformat": 4,
 "nbformat_minor": 0
}
