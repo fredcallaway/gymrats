{
 "cells": [
  {
   "cell_type": "code",
   "execution_count": 1,
   "metadata": {
    "collapsed": false
   },
   "outputs": [],
   "source": [
    "%matplotlib inline\n",
    "%load_ext autoreload\n",
    "%autoreload 2\n",
    "\n",
    "import matplotlib.pyplot as plt\n",
    "import numpy as np\n",
    "import pandas as pd\n",
    "import seaborn as sns\n",
    "sns.set_style('white')\n",
    "sns.set_context('notebook', font_scale=1.3)\n",
    "\n",
    "import itertools as it\n",
    "from collections import Counter, defaultdict, deque"
   ]
  },
  {
   "cell_type": "code",
   "execution_count": 2,
   "metadata": {
    "collapsed": false
   },
   "outputs": [],
   "source": [
    "# ---------- Functional utils ---------- #\n",
    "from toolz import pipe\n",
    "from toolz.curried import *\n",
    "max = curry(max)\n",
    "min = curry(min)\n",
    "call = lambda f: f()\n",
    "@curry\n",
    "def attr(name, obj):\n",
    "    return getattr(obj, name)\n",
    "@curry\n",
    "def invoke(name, obj):\n",
    "    return getattr(obj, name)()\n",
    "\n",
    "lmap = curry(compose(list, map))\n",
    "amap = curry(compose(np.array, lmap))"
   ]
  },
  {
   "cell_type": "code",
   "execution_count": 3,
   "metadata": {
    "collapsed": true
   },
   "outputs": [],
   "source": [
    "import json"
   ]
  },
  {
   "cell_type": "code",
   "execution_count": 4,
   "metadata": {
    "collapsed": true
   },
   "outputs": [],
   "source": [
    "UP = 0\n",
    "RIGHT = 1\n",
    "DOWN = 2\n",
    "LEFT = 3\n"
   ]
  },
  {
   "cell_type": "code",
   "execution_count": 29,
   "metadata": {
    "collapsed": true
   },
   "outputs": [],
   "source": [
    "from envs import GridWorld\n",
    "from agents import *\n",
    "\n",
    "with open('maze_19_1.json') as f:\n",
    "    maze = json.load(f)\n",
    "spec = np.stack(maze['map'])\n",
    "goal = tuple(maze['goal'])\n",
    "spec[goal] = GridWorld.GOAL\n",
    "\n",
    "def heuristic(env, obs):\n",
    "    row, col = obs\n",
    "    g_row, g_col = env.goal\n",
    "    return env.move_cost * (abs(row - g_row) + abs(col - g_col))"
   ]
  },
  {
   "cell_type": "code",
   "execution_count": 126,
   "metadata": {
    "collapsed": false
   },
   "outputs": [
    {
     "name": "stdout",
     "output_type": "stream",
     "text": [
      "(5, 5)\n",
      "86 1.0\n"
     ]
    },
    {
     "data": {
      "image/png": "[encoded data removed]",
      "text/plain": [
       "<matplotlib.figure.Figure at 0x116827128>"
      ]
     },
     "metadata": {},
     "output_type": "display_data"
    }
   ],
   "source": [
    "from agents import *\n",
    "from envs import GridWorld\n",
    "agent = Agent()\n",
    "env = GridWorld.random_maze(16)\n",
    "env.reset()\n",
    "print(env.goal)\n",
    "env.render()\n",
    "policy = MetaSearchPolicy()\n",
    "agent.register(env)\n",
    "agent.register(policy)\n",
    "trace = agent.run_episode()\n",
    "print(len(trace['actions']), trace['return'])"
   ]
  },
  {
   "cell_type": "code",
   "execution_count": 89,
   "metadata": {
    "collapsed": false
   },
   "outputs": [
    {
     "data": {
      "text/html": [
       "<video width=\"576\" height=\"396\" controls autoplay loop>\n",
       "  <source type=\"video/mp4\" src=\"data:video/mp4;base64,AAAAHGZ0eXBNNFYgAAACAGlzb21pc28yYXZjMQAAAAhmcmVlAABCcW1kYXQAAAKtBgX//6ncRem9\n",
       "5tlIt5Ys2CDZI+7veDI2NCAtIGNvcmUgMTQ4IHIyNzQ4IDk3ZWFlZjIgLSBILjI2NC9NUEVHLTQg\n",
       "QVZDIGNvZGVjIC0gQ29weWxlZnQgMjAwMy0yMDE2IC0gaHR0cDovL3d3dy52aWRlb2xhbi5vcmcv\n",
       "eDI2NC5odG1sIC0gb3B0aW9uczogY2FiYWM9MSByZWY9MyBkZWJsb2NrPTE6MDowIGFuYWx5c2U9\n",
       "MHgzOjB4MTEzIG1lPWhleCBzdWJtZT03IHBzeT0xIHBzeV9yZD0xLjAwOjAuMDAgbWl4ZWRfcmVm\n",
       "PTEgbWVfcmFuZ2U9MTYgY2hyb21hX21lPTEgdHJlbGxpcz0xIDh4OGRjdD0xIGNxbT0wIGRlYWR6\n",
       "b25lPTIxLDExIGZhc3RfcHNraXA9MSBjaHJvbWFfcXBfb2Zmc2V0PS0yIHRocmVhZHM9NiBsb29r\n",
       "YWhlYWRfdGhyZWFkcz0xIHNsaWNlZF90aHJlYWRzPTAgbnI9MCBkZWNpbWF0ZT0xIGludGVybGFj\n",
       "ZWQ9MCBibHVyYXlfY29tcGF0PTAgY29uc3RyYWluZWRfaW50cmE9MCBiZnJhbWVzPTMgYl9weXJh\n",
       "bWlkPTIgYl9hZGFwdD0xIGJfYmlhcz0wIGRpcmVjdD0xIHdlaWdodGI9MSBvcGVuX2dvcD0wIHdl\n",
       "aWdodHA9MiBrZXlpbnQ9MjUwIGtleWludF9taW49NSBzY2VuZWN1dD00MCBpbnRyYV9yZWZyZXNo\n",
       "PTAgcmNfbG9va2FoZWFkPTQwIHJjPWNyZiBtYnRyZWU9MSBjcmY9MjMuMCBxY29tcD0wLjYwIHFw\n",
       "bWluPTAgcXBtYXg9NjkgcXBzdGVwPTQgaXBfcmF0aW89MS40MCBhcT0xOjEuMDAAgAAADYZliIQA\n",
       "E//+97GPgU3IAA2XOop6H+EVsfSQUXqx2aBk6gAAAwAAAwAAThap3vm/XLQI1gAAB6K8P+wPV/mJ\n",
       "5Ffb5eu8APmGgZG/Uk0rE+4dQ8ry29NvACPcO7uQXRpbdcVgjBxjmRMmdKYGbHwwjX7L02xgfn03\n",
       "m8grW/EMWIfQrZsuBmoxIYnckKfU1/4weEKAfi0FUsJSX1B30rd2uB0rlBW4T2LE/8hv7FwA3yUV\n",
       "t6fVmHJx8LFqwEhwfNClouZ8GUn7qusSChCWA1y6SF6Arl4OCw86COOW8aVTU5x9TjiRr50GDfAr\n",
       "nsbBprkpgAI4Bth4b1L2KSZVPEi+/D8wrHaeHVPPUt/Ki2E0nSjNJWWTD3y4qr49mhbA/o4OTpLl\n",
       "ZBEO+4mUnW9ZQoTgcGdshB4KoDwVzXMhdhogWzj+j7LmG6dto44w4Tl/n8VyCPOpJ9rUvwZKC0UG\n",
       "Z7m/SQ5Aj63/v9YMb7McUKrJnfaJbmawGdIxUK0FUhdV5UWroEpEjhtf+VZBllmLfn2qYA6GB/9c\n",
       "jqvWwxFCmIZ2RJ55JDmsu1htL1OQXVn/bVYefUe338jhlMBNMLgG/G51DPIayJPLNa4nyZLJUlBU\n",
       "Uyz5QC1ECGjLTAzbMT08wSUr+JOBtsKxWbJJLqsCIS+5Dqb1+921JsvSSNwitKADMxy4yr26ZF8+\n",
       "3Th3NhqSI196uh3AFQRZQxghcM+zbc1OIbCDTNrDItIpcYskpj6E4UeO1S6nhnI0EZ0IjElloByL\n",
       "Vk9lNp8tLo1mm4uqvXALebhBdGQ9V/L3QmrO5o0U+CYd0LESxXY/LKfYS/SVsIQWV4bkzllFdHDY\n",
       "b8omq+EP14XqvCAAVV+ObzUfN//dsBB2X/XKipmavINFlLr0sAAiZxG63Zm+8ZP1HoG9tOJW1r3+\n",
       "qD7C9ml39gVON9eHdh83iEQye4/fb6dswqQ/s1Aa7dgK5VcpTBmptHvDIXmfBXn6s5fYdsEB/Lny\n",
       "U3d+E0MvWNZiYiBKBz6KNaOmvkEykA/ugHy91V/2p4Savp+PTzijQ0PJp/2buOr/5F/e8SZJzX3F\n",
       "VYWmUME8ZQ6dKkEBNw9n23soDZB+IrTxUQIDGLjh95LGsbKZeyuN6pAPsUaW2BCxh+ZcdFR7rLaQ\n",
       "ylAgjW2OBYPIDgBHs6VxxTR/tuBE1dwSlkC7nf4GZ8fySzjcIkS/+PiY2xAC0F1ScuwBIIAW/HUs\n",
       "huMhUH7DTvZ7lINgw5D6k4k1hChZsZvRuMJtvlovN51YOQlOBR9cEF/9ngpr1rZYRZcNbUN9KFw9\n",
       "3IWGV6dXQR0FYjmnLAZeQwCR8XtzS6Qtru0SJzwyLRK/hviY6gDceCPKjiE1N1Zl9MYsSrYj7hIN\n",
       "tUxP7te2Hf1oouRF54WR6SOAsEIv6SbfCTKC6jvo1p1TfzTEQuwKuzgJo5zYCSU73lQJ4V++P+PF\n",
       "1vQwSQACdBNllg6YeGoEZMngz8y2vxqGukhonS8C92oir14vpOnXX7mBIaRRJ2eDLZ5M4u22aCRk\n",
       "E3uPrzOmXvASLvqVLmgWFIW5C39W/KRjWgiaBSvkNJYJe+irPbLcRvner/Uj6NSersKmu45N3LTL\n",
       "1/ItZBCYbEKQo+W+OC8cc2ws3o1elDX6/OTKAru3QP2IuFjpha4n18De0q4AtZvLGCdqAEUzLOeT\n",
       "7k4adCHnb7/zwhqZ3dpCI0S4pwSZH5yuYPDZPDwyzt617c8c7xBSPVdg9P10ncsu39BD8AnRV6aw\n",
       "Q3wkK7QgM3gpokrQU1lyBBnc/bT3NLJauVhIGm0yhGhE5+GS2duNaYjR1TY7/e6YZR2orvgZBasr\n",
       "MB5JhYzaBq8OEAlg8oF91GKoz/oVJLLvUmUFQ1QIfGDoYMDscsowzCGvrzGNw2Y91ZG6LZjSwWmn\n",
       "HX/8P//FAFtkEnH9h5xusmwUvzR9pWIFY+GA+isWPCHVDzXTfbOR/p0GPxs/6S7m2c8mjxCOZ+su\n",
       "+iKVzqnJPdTDil2kfbE83UJR/kY7PHlUX0RTYfYUhtuS/39s2JEGK/9toCb+HEMgGfz5K4DeCjFb\n",
       "/fNJ2A2TcjSupt4EjjXgVmhurKjAEfM6v2ejql8J7xuS6W8X2nEPf/ae0aUY+aKw++8dbBWbsvVU\n",
       "uCYfokzlABbpiK5hh3u5oMrC9BAXjsjtC8UCodhRyr0F64XOC2rkz7PnoE0h3wFWwlKPyUO0mSxV\n",
       "m9PAy5abEmAYEoaq2gAfOxKia0YeTBbCUguNAjOBa85Ac6d32Xsv52Kga9LtYPvB5pcs2hgHY7Lf\n",
       "egQrGuVs3fLBoDOYr1xK+N0E/2NOi0kfoMtjWe/IB/TclqyyO1Q/NKoCNhliIy0ba3dXtnpHx/r8\n",
       "X30fTgep2YBO99gxqxPikNS13vsBn6LeWU5VMsNLZV/yYQGm1aVo4FNdSrQAf9rWsm980LfbVx+o\n",
       "7fcvBDzUTSsryIBjA77W5ZOl7Mm2kTLkzy/YD1+O7B8hK4Hm86GCDHMW2w5pbJMe5/b/loy9K7RI\n",
       "LluKLToTrjBjvOAEP3144c+a4sKI1qxgFahYFirCt4vNt+KwMNdv9/gZL+IAIkGihWgOL1sfjdK1\n",
       "vdd9gt0WOTX7BTDHGFm8mBUXiPhp3w8qVMwLPIPK4ARxm1AfrBU1OXmD9gZLIgwJ2NLi+jxj/j91\n",
       "Qojw77/c8Fr39IYwK9ZnbXT1k3lDC1u+pw4K0Kki1Zc5LoPqFeU3J2O422gADY2Drq58dRlteEnL\n",
       "La4IOqk/TFliJvQhOAnQ5BGGMETF0U1JU9PWyao61+KVfC9qBi+8OLZfQqky+v+dYrGUyvr+iSNK\n",
       "SRSz//PVzufAIUhJU95vba3RSlGQl8N0KfgQqaackWuGmm3+ZUs7GB4zfbK+//ZWGAe9V+ndEntc\n",
       "h7gQXwEKDH3dkwpBnJ+H/wfwqpeoktAsRbaEYR+qWxTkpb+X5Sb/JyO/ssYve96tHJs5UD88PbHJ\n",
       "otLEzcyEBU30b+Xn1oPNuI1sJJwiV16ccMdYElkza1v9LA99RsbgkUYLKwRR2cIQAw3C9/80/iUd\n",
       "OqVGoyOpC1s94SPZcZZPN9E4BR/Qz4kR0QNVOfpXujQl3tY7DEwVtotWQJa7nmdA+h7TEZvm9chW\n",
       "b1BGU9KIyLsyg0vlUQ5Xe7mrYfnbPmZD/Jm5ubrix7JYPlCSSbqhpz4aKkRfq93fOMZ6XKBUvVpx\n",
       "Wk6iNWQGW8xRs686ab9RSpCnz08CVhZESyWVlsDMl7p53bHtyPhfVTanRgNHic9LeQJKhmmukmG3\n",
       "IzxsNWp/m8w4w5Som30prsuekvOyBoEbEYxtW2ewlxAlz/sQ35+bSJgDmHsbWXQKIxPvhjQ95z8e\n",
       "Fx+fj3pg6T/1HYWkYLTbnr1LhjPsJMGH59oFfjZQgkugaQ139aEXDupQ1CeZT1nkl8xmGFCSCD9A\n",
       "ESfE0bGRK3DdiAonppEvMnvM2f7l0t4JTXSo14ugrATH9VPpXpdR3C0YUK5fPRgSCU8Ztg2/joO3\n",
       "+XEoJ4Xj0jioJoMFp+d0JLrbekTTLS4eV2ReiqXgKrYxFb31iD6qvLYSazSRcMpl36s3SDz+QZWQ\n",
       "7kpLeyruvRXMc3QTKnGOUa9lnQARqQQI3E2JOJPdzm7WPoEvYye4Bq2ZtPmSI3gPC8m3mtEJdozH\n",
       "2M24+4Y3nzvej5LNUb4OjqwwRUNcVw5FU9UptHv0yRcmOXPmgL4BIRf9zx4k6pZQv9kBp3+vSLeS\n",
       "k1bM0AAcgYScMRtrrZ3ejTQkDaHEBaY1WXQK7Op+WZbVOUtHfkDZV9nvNcxa+lKbCM37SmtjbAmy\n",
       "Uvi+6cQmJibbLgVgAs5rBg6z7i/NspHXSU+RFIroUetm++aMx2YoWsoy6VBjqlncB+99HLfXChgo\n",
       "Hywy8A+rpRCachfawe55WQ7XmucaV7PdQbbMh5xsJtZ1Eg7S7Nvl2mJBWesDelFJcXklzDF7ddQX\n",
       "Gnsq4zsTTMt9FevNwgBnht6UsG4Og4fr7RbR1MSJ+ty3uUI/mSXMmtrw6en6IPRls78yKPEGGVc5\n",
       "/eiRksQw6meInj7WJMh9c6hP4wtknv4E6aBtkdQnGcJJZ/2WmijU/pdGPdvd4G9iXDunw03Fkfag\n",
       "1aV9zq+TrJRfoLYY0U88r4IrIOL+wg5U/LPtLxxOzSRt4M4cF3Sqpvq4K/hrY5HNzSpQA/VlaVbQ\n",
       "y77GXHFT/pQBjje1FLQ/KS953yoZIu/fbm++mgTbc588j2y52TyyQnqrJkPi2GmRhqtKxSg85UFl\n",
       "kcgzQDz3u4sF+thfeG6GB/jNb22pfXBzXvqQheVWPF3n5v3Uupdc8IbnBLsUlKyhp+9Uf5NAtFNW\n",
       "PDsezwHrEf5ni5VQNl74BcHddZb/nIWvOQjBE+hG9cVbfp8JnE5kvO8dsuXFhLhUsmmUbY1fTfX5\n",
       "HLciXv4+hVmDnYjfGkw7sRLZ2YEJl4n7fTnGN5Q6zyVvhGgSIG7mIN0by0SDczU1he7e6dmKI488\n",
       "tGwgtG9SqomLfZDeocqR1pWM2yNVweF0GOC6cF07udY4w3BWPtTMdFqTEktStz9WjJ5xDvotnDfF\n",
       "URQJaanuXpmfH+O6pBVnscVEo1a+Fgpf1ZgAFOvx9bXAAAADARkAAAGbQZokbEEv/rUqgABb+HNX\n",
       "4yDpAAUdB8RtUoorYWsaJoDed+k9IhjYEL5BP+6O03kbf2cF00fIS/S73CpX3vkZOnBCUQhVZwu2\n",
       "n47iLtqb0V4Pcpi0q7tWfjkWegC1mH6ZZ0Bv12UO3h5EFgBaseiIAPVwtz/UAUO4IkhREkRwmPMg\n",
       "Aqz79TcVylGSCCBB0Vrg1AzE8ypyVDSM4rYud///OISArNaUpjZKXyjCENUVVC5ougMi2O077KUb\n",
       "Hx+Yp3gb9UBBrX6DppwJh6T+GVJgR4CIT2H9K1DfOEQ+tB60b3NPZjZvydK9Lb0f7AFjTEdUylWU\n",
       "kVpkU0OUsJEKy/vnlUf/yAallkPMNJWhIRuhiF8tG2mH6sz+fRrt0V5SFj4yLpwf2c8rijk3n9YY\n",
       "N4NQhj7fmgQ6YoO/PiCz94m2Cwkvy5v4zC1m9twg8sTHDyY5tuz4gRIEDW2aMSOVY/PoFUgWq0jV\n",
       "8WlnYHURa9Vq9LuTGraFukLojCV+LviSKVxThsqBPG2fVw8zbnpuu2aHvASNWc5on0MOumBsAAAA\n",
       "ikGeQniCHwAAdqwBvs9pYABfKe783DYq9xQcaHKnwiNBm/wORZFpo6rcf/HkB+PeI8X0D8Ma8jau\n",
       "wjvCWuGRWSjZP1kAN9xuIql/MmO4TfDdiprLB2Ln35k3Ki761UiHmayl+Y/N22kFRc0oZoVac2Ri\n",
       "19nUoj7in7oaUJFlzwhagXwIumz/C+KCXwAAAEMBnmF0Q/8AAplbEDougQnpCTtwn9CQAOuICdGC\n",
       "E3AK0USTcYYGogQ5tdhEJLIIEk1bH6wBdvStb7SoJ+iDSKDnzITAAAAApAGeY2pD/wABBWjIqNxr\n",
       "a0AG0bV1my7pLVvOOY5WNTPZ3vDOL8e/YGbF1JFBSYl1J2Kz7XCy5Ag7jVgreXkcG/29A4Ka4yAG\n",
       "/BTolm+RPMiwXt3LRgVxEMn9TEUj8guLXwwWA9Y3m9KUdphcBYIVMPu2CncJKKMtsA1Bl5TFHWWI\n",
       "JGBQdzUKxOiVLS+GxPerHOy0oc1hs887hhpzCa57QOX6azzBAAABJkGaZUmoQWiZTAgn//61KoAA\n",
       "W4BfAUtQNjB1gAS+u4IEZHAYH4N+gNoZmPLAcUEkrru5+BdubJpmjVNnpRHyfcwYaXPDqmf0VQNz\n",
       "QxA8CiP+Vcum3kKw8ooUjZM9KlOgq42LQoPNgZfd8dy7k012Y78OBOJ62dmq2AtWmE8ZsVNdzf8n\n",
       "94aasvDccf6ZUaYmV48xMld3jfyevFrQzyyac5WmNEyzVZTiTk5oX/MztOgX1HxB8o1QvIKnKRnF\n",
       "y4cXxGCUknSQ43YsJslDltfppxDiPYhtSD1SdtHFfwB9Pwb4xixYl5xJGFfeMjg7+niiKlUpmTwD\n",
       "bzBdvkFkJ50AJ4k+3AlmDC+Y+ixp/v1FHlTCh82l5WgaBREpSqyijVe4ygxPh+Xa+QAAAKxBmoZJ\n",
       "4QpSZTAgp//+1oywAIT4jAROWAHRiYElpXTagcmCz77bIZRb7u8oOpwGtKbzcXc1dpF70v1F7qzn\n",
       "XgOPUID++m40PtohKRfxEQ2jxntxhvSuz+0EglHUtpwrQb2Vna0KrRAbbOwBuv0WosDzfME10+Bw\n",
       "8bhDzPfiqG2UrsxxuHsuvtw+cLiTY/1LkXO7aFvBRraZKjSLMV7vg74U9vz6Fc2fVAc1ztSBAAAA\n",
       "0kGaqknhDomUwIJ//rUqgAH1yhbggP//D4AF1CeG05b+TIsDhMzj/3DdpXuXpM93MIwACddGtve5\n",
       "xbev//n17rCgwxpRbShmrKk5xeY8mgQXHLx87Z7W9fxwUPLVqE0SC804bCKfBAY8lvOLalRe+ubk\n",
       "Nc7m3AJKKIaz7CysoJHx78qMWpJ22EfGRHr+7xGKxWbobGGSpLohS1IT0QyasOX1f3BBjavMWhbx\n",
       "4wP9Wvrzg7JRBukAQTIj8+q/59i/H+I21WmTHegoONsPtIu+jQDpgQAAAK1BnshFETwQ/wACdVny\n",
       "20cBHHFhyduO70iXb6H2ADnLzkqVykRfnWO0p4M5bb6eISEZSAgAVuM1cZwSgUmuQHhTb7zwM8zm\n",
       "PlS+HNOk4Vxis2OIMHXUo51vuo3w8mYu+nfkCqJ5tQcxcsWu2GL3YqCjvwH0aAxFoGYXGngPVqsr\n",
       "jQ8Yl/glEs0IKI9J3wGRCL59snoaLcPwUd6zCqs5u1q2pfDFZDCUSebvgzAB0wAAAEwBnud0Q/8A\n",
       "AO1XsxvagQ5AB4pGN4yW0PcusFg6u++tTX56MZQdu7NkjLUFho3PwDS6z0EbHl4CMMyLPUT4UGst\n",
       "speaK6P+CmWjDgJOAAAAjQGe6WpD/wAFiR81D5i1E5bf82wAhTh4ezymXgmym76VdTiOcW6nDYt6\n",
       "jJwQZvryKKGzU6u8WqTge0AaNoEv5rFaoNK9K+fFYj1khsiQ+u4yTdYakAc+1inof9iPLMyGXptV\n",
       "TFXty+X4LWsuViFIXT7VYtvjavajLegM7Sh+fSw2Y6cBgmlxjQG5+ACNgQAAAbVBmu5JqEFomUwI\n",
       "J//+tSqAAiO5P6Yy64wAcNFLkoYRYbg+Yt/n2u/D7w2MpZyaScirZMKz6BZLmRCSjO7QzhNdhm7q\n",
       "Medt5+gmaRKiSi9eMRVNN1bnXY5pLNiGAgvWrKM7+7UUzJ8u4+Y1d/giIsVQL6na+GVWOMC/eOvW\n",
       "ooq0karrOTgFfEzptqSi3b3TK5V/h13TtvtW9o/8rWGmkODD3YkZVLUPkfXpt4TczygsI/uQHkIu\n",
       "aGLIi0p+e9L4isQKfR8jq8+RBTa59SmOI87eMvXLOs7pSker+OD842ylNVHcZXMPQW72kWX2rq4u\n",
       "mFXNGDsFtgH/Mqts4hk9fTus7I7nC0v+CeOh/HW2yOPbG+Y32PVRWk7OTcs6wWPE3aBoS+9MYLSS\n",
       "x8VQveWASLI3rbcyIV/uqlaFZ+fOU0DRdP3bSx2BTzwFT9nnxTQqDe0Xh71Ig4zy0zf4o3QPSRtT\n",
       "UhCoQnRxNRIAhDWV5mq3ZIZGTABek69crrfohoyi5kUtX3k2I0ZPTiLFIY8p1IYn6Ue7/wpkXHQM\n",
       "YjO4MpWnf7ZmIPprjhv/DHVwpYT5OUABtSAJWAAAADtBnwxFESwQ/wACsfOlzQAKf3WDiHlAvXU2\n",
       "usMPa4QIES0UBsJvqElDD7GpL9tn7qGzOELvwqDqWwAE7AAAAEUBnyt0Q/8ABff+dH2h3+QAJcF7\n",
       "/V/nstsMF2qPOn3bbfFskyhzhV/P/+DJQhUS/p6NooopQDVe9I2uUo8zDxio+RmADpkAAAA6AZ8t\n",
       "akP/AABpfHNPyCH7ACZTNc0FOPK/K93+974+X3u0jxiQoraMHDXNdXOl09vmE1iJuGITn0AEDQAA\n",
       "AP5BmzBJqEFsmUwUTBT//taMsACQn/rVKoTVUoAA2z8PkXng7d+oJaYhrIjEqcNRKYg6EwFFzAr5\n",
       "wvfBAytvAXd/cUb/8LXkvcc4Y9+N8sSL4rRullUx/pBQhwj7C+PecHAEf96CFY7xc2w8bhx3xI/t\n",
       "e7lPbXXjbNpnRZwr8Fskkelda/wl/ZyqOyLsrLEXhuU5iOa1c8yLyX+xl9Jnh3Su3z2E52xUhxCN\n",
       "YXTql3ximEKjpeZczS2yniCW1OH0enEkxitI+qf+KGCDXb4PmGhjGpR8eB+ZWJXBNDoeKuiwsG6+\n",
       "Q+HV4CVnl4TkcM+LymPJA2goAx4CjhqfEdByyQAAADYBn09qQ/8ABh8zl3gXJ9gCI2v44cPx7QAQ\n",
       "X4vrhU32xiq/88WZGTgfobA2aizuqhQ+zgSACpgAAAFvQZtUSeEKUmUwIKf//taMsACU8/4wVN0Y\n",
       "AC34oJ6M1ycwI9sHaX4NowiEVP6mINW3hcZDMHHzT1hyjUYSeNFbl//9iActv7DWJDjtjQqvVKqa\n",
       "x7hPKCqLq6a6Oqkt7+pmM15GnH8oxnhTv7++LCNgv6WrJpTi9EOIePYI1LkWZrwhWbAySklbKewZ\n",
       "RiX7XwYlQ/1NESO9BexxKXnWaDeahr1bzFTeSWP/jhjEvbnM0ZB0FoJIwid4GG3nj9izel7tiXnD\n",
       "+XYZEWcG71JM2TDQ4HOzYRldiH3al0inaxd938yGVisfn09gDEcm5j8WCvwMK/msKdVL3j72rBzA\n",
       "NvGEY+v7mzmraM0OREZXN5Tz9l1VQTjhhwKYQRNacjHOq0SfgZ9n7ymK6y8WeoS1WMS1d7h+TkHM\n",
       "WscDPzXCEdeq9sIfrdv5CIWmOaCaMwmJS4oE5LDt9YYbmEHoo25dao9R5rR0FslPC+bzRrMad3CX\n",
       "gAAAAENBn3JFNEwQ/wAC1i9Y0QCw0wwVBn4Ou4CgAW93X7la8P9hzDc8EOER+ra7hrvv+5Gv2aN4\n",
       "L/NGyLLNsgSBMrDCAHdBAAAAZwGfkXRD/wAAJquSZbcAF9cPDsnIOWdggM9khfYlcQ+tfwJQS4Of\n",
       "hAGw3GJ3Cd1BhVn/MiupmkumquedgDzcT3Iz1Acy1K9bj09zvzQsVwtkoUAwdZiZhEGbRJLYqGSY\n",
       "9ZSb5mAA8YAAAAAhAZ+TakP/AAZHxzUBQ4kYBFQdvet6MrGTLxs7IuTgAA3oAAAA+EGbmEmoQWiZ\n",
       "TAgp//7WjLAAlCkVwVMJi5d9IPvs42X8jOHgBbeeuohs9gb/IWV5kHW7ShEBciJcHFoUqFRoYaQO\n",
       "UAQ7sD5wATWpEaykRQ8N9bdvLJoamK0Nqs9ftvn9KNXff06BBh+8gFQhqVfoPIT+kGXRfIgZzFz1\n",
       "VYu839/SrlkaO1HBtC1tPKiYOKhEn6AUNu4k9tRHLO9aGkgsYhC6cs+vMVEDs3FfIMX9nulk+zqm\n",
       "j5GEtiThTt62pV6vt55gepBfhW/bbX0RF6PWXh3jnPssX+CwLq5JBq5eQDDYfq1FAxxpKv64Ax8Z\n",
       "ZRiUNjnilCYyTAu5AAAAK0GftkURLBD/AALWL11lK4f6ILBdQvB7nG2x/e6tag8CjQmAXzOdQtk8\n",
       "AfMAAAAgAZ/VdEP/AAYe6TNZlI30jgeeiVwJ9C9AxdhLRwsQA+8AAAAcAZ/XakP/AAZHxzUSZHrZ\n",
       "0nMsWgisrEUbAJQEHQAAARFBm9xJqEFsmUwIJ//+tSqAAAIT9qHCHvzML+iMX3bgEFRS5m09GTGk\n",
       "MwQtt04E5K3vY6/0PxmkfZdpDaZlb+Q/t7PjaArgA+mBQCGZPRPCFLSM/eNgefmmb/UlC38Weoy+\n",
       "AHyWaXtQDwId/XwO6LkjqcRmV1L2ZCS5gQ9R8OTpC8LEI9zgdpLiCbQB5ZzDpg90KwA7Yx8PJzXX\n",
       "y2PvH7PVi9esspm9ONmyLYxGLVG4Rv/eAhSBkBvocp6dDl6jAFSgPq4aIXxtbhmPmf2s/qL7p2b8\n",
       "nNxFYo80peou5dhKgH5FVcg1ExAAcE7dcjtI5mnAI6Rf4pYFl4XyT07ZzI8SSy6KG1ETcG1na74c\n",
       "Fp/QKSAAAACyQZ/6RRUsEP8AAAMCxFp0MdOA0zLNnmmoL9DP4YIAOW/znxGUbd8DIcxbVNPKxofC\n",
       "uaE1o8HU/pPuuyOPWY+qqpgEyH0Llj7whHsc6GETD5K23Zotj3Cp2JxwnOvnE6VUi172RyzeWHUh\n",
       "tVwhihEsZJV/ljohjX/5s70SL1V6lxXbelzwnrKU/cv/6pB4mJ2XN9RbHTy3T1geplRJ8OX62W74\n",
       "KIQloKBf+T/+ZjpfHNQImQAAACEBnhl0Q/8AAAZH/C2uKgP5K9vnQDz8+29TMVoXL94wD5gAAACB\n",
       "AZ4bakP/AAAGRzF0cugfKsZih9QAZwK4ILR/k/DIbLJQ7v/tfeuQiM6Mb6fqItAUTn0/eWfoUqo3\n",
       "dIShJvJMqcknev6UV+Bim3fUIH4a1FHvpT0FLHG6dXPXdIPD6J8bTND/uMx5Mvx9/1aL2TmGGDWZ\n",
       "QJGd2zeZ4q7tuEvNOAalAAAA6UGaAEmoQWyZTAgn//61KoAAAGC+UhlS8v/w5gCr5P//BPugTn3F\n",
       "nPaOHjSW3DcwxtRvx8MHjphBBXp1MmiA4HfLAixxJBgSHp3thXsP9hCmsLPvun3MmOMo4Ht9xVl9\n",
       "qKfEW3Bk+KP6aSqpEX93XzLPu570zHqKmPBrvl2/xzCBI/xuXLgzDI7greq1HSESmYLsOwrGzN6N\n",
       "tUp4lqq/vUZmamg4xadZBL8ty+ilqsBg4MFumlnmyQMqRvpbRgUjqkB1DFl9FoSi0np1XmEeGWmu\n",
       "Rt0fiyPnlQzOFmKgIusNyy51Aqt7NAbhAAAAQ0GePkUVLBD/AAADAr1Z+gPM1lcFeCaykOCWUXFG\n",
       "44xU4EANtgbp5tk23GCWxlBLAw741kj7VJg0b+Dil8PqM6agC2gAAAAkAZ5ddEP/AAAGHuk7nA6e\n",
       "xE9zKo/6azo+4pKBR5Ycu58biFJAAAAAJwGeX2pD/wAABh/Hfj9lGxuhlReRr1KTpKYjCZUAGtq+\n",
       "D8EsW+bCgwAAAThBmkRJqEFsmUwIJ//+tSqAAABZPhKx98o+4NPiQ+B8FYs6ms4v95l889gATJWa\n",
       "XNRpBL1GyDjPuy3tv3q7w0eibGOw/vT0PDZyusstdL2pkDFXXNe9aAnQxuMeBFJMY2avX7Pbyuw8\n",
       "TcH50YMIrQd77K89it+8P7ac18vpXxEgYdoBitjaxUzYh0/topd1yFbXG1NpCFdJVxf9KVWDwuaI\n",
       "gKgDKr+OtQ8J/AR78LqwV12F2ihy6v0eX3gev6mZPmG1jk+3kBkB2jkrKQGcoeG7+6e7ckTZQma6\n",
       "Ri39rNFs3OMyz4qe7nTOOr01yBG8cb8XzytmedaDMXuN5/MwMx25DHqfczC8J8liZOtwS9r2YUYJ\n",
       "tcMWXDLWmffuQsldRfOFr+IHHUOEnJDUVysZhpfq9MLeupda34AAAAA8QZ5iRRUsEP8AAAMCxFpo\n",
       "2mPl4owWk9tz5DfUUtnwEQAV//mph/M3lus88NDTJxDclr8h8+wKez95et0nAAAAHwGegXRD/wAA\n",
       "Bh7pO4UASlmQQmnf5hZ7Q2WtfVJqEQsAAAArAZ6DakP/AAAGH8d7XvrF9MgQkZXJ9ntsaLoAOxPi\n",
       "yNs/B3XOXXR/1u2h8wAAARhBmohJqEFsmUwIJf/+tSqAAAAO/8axtwN3s7/galIABDqExH62Ysa8\n",
       "rpUIfFPCJncz83dVKksrmKUtWj7B+WjVTKxBphYBTopMiP3RwcaXiArXd8y1gsebIb/bZCXooAVk\n",
       "ob9nrfrn/YtMmuTtVFbIEjpOg9eXwsv667QUPyN3v2UL7N1xBUTp41XsThwwtC0CxbwJjRikwc2m\n",
       "d5n6vbNBK2NGKNKoaijzPHyxGKOXxrCFpfUyKXKCMxnJk/ck3uJW9uqvDf/ONYfwxunDtWyQdxi6\n",
       "IgQnvpv0QhsUM/gV+bYZfhcL7q7xCnbzCOb2RluuyXQFMOU1+VAjiU796N/Ula2n1fhxFIAiUqPT\n",
       "kOzLKFgBB4i705uBAAAAikGepkUVLBD/AAADAsRaaIbTLT+YOgaMMdI7fMVAAPElJzqIeTQ/4/20\n",
       "r7IuALqWjve+Hf8ic6BwPJHui7HWuKFE768qnmRtmNDkHUB9wfTzrggVKUQF4X1h40qIQE6UcTjw\n",
       "9OxzXMsNXhsAs095qIcvtlr7lMZvbOeH8FxoVqok5u1AtPC5KgQkvQAAAC0BnsV0Q/8AAAYe6TiA\n",
       "er7So1gFHxdrvYYV5EAF7++0iZiGbrmcyWMI9O2+O6EAAABYAZ7HakP/AAAGH8d7UTrGAcHIjJu6\n",
       "8objGAB2l2V5xo+vA5aUimW2SGMiZ/FLtN01tvPaaaHqUhv0kWyqw+CdT9Vhd9bttypD/+gXTRdA\n",
       "XCTgeTCsfPzpuAAAAFZBmslJqEFsmUwIJf/+tSqAAAAfOOTWHr1f5MAATFuwbyP3kSFAJiYfeV7N\n",
       "UB0icuBKz7zFKGxpJ4KuWt/0ePEMHpvXfaj65DcFAjbW23pzQJIHk/0HrAAAADRBmupJ4QpSZTAg\n",
       "l//+tSqAAABQTZNYSsAGkpfNFD6BzHOjNVffkoN489Gic8n+IQoq4DPhAAAAMkGbC0nhDomUwIJ/\n",
       "/rUqgAAAynNIuZBQVOuYaL4ACi7v2T36Y1FPvzyFYOuNeC7N4gI2AAAAHkGbLknhDyZTAgn//rUq\n",
       "gAAAylQg9V5jIoUoyhAG/AAAAFBBn0xFETwQ/wAABjlkb8Sv1IAGXfPgaLFJqLr0FS3ipyYNBT9O\n",
       "Q3GZcRbTb67PpsZFJ9bHzGVw490qcx5TQvIS2Cc/dTOjSkzKgIOE+IXPmQAAAF8Bn21qQ/8AACJY\n",
       "5/h5dFABdVAt+3Y9+rHf8KLLv/y9/wrIylhA82z0lokWGRFsyTf18JNjpd8AGFzeK76vidq0ufsb\n",
       "jnpJOmSJWRH1TysWWyxX1TjFrJWkmXJBJ8zBwQAAAGdBm3BJqEFomUwU8E///rUqgAAABgvlKO9d\n",
       "RdFoCKRgRTf7NY7DzWi0a3AAky/c+ajhE3gcUoNjReHkxJ0LYN82QiOpFpn5GbUhHsbL8H5EpocL\n",
       "XG/UD+j0uUZ5snW6KL22IGV6InqxAAAAIAGfj2pD/wAABg+mbcWATh88d9eIojos9fArWS6H2kJg\n",
       "AAABQUGbk0nhClJlMCCf//61KoAAAAMCY/ZFCzpR9779I9WZLYVmec+xxFZPspLivttL0YLmFtQ/\n",
       "BZ2Br/8j4Xn1cY4Z9XGv9mDuMRWfkS3QW8i9Av2PtOOkjPkq5EUynnht09qiES3XpTAsDcTcM1Un\n",
       "WWVR8n54YwExvuEQ3eBPzMoQlRZO0Qd4ZfU3onLNDWaNefpIFPR9abUU8+yjZCQZzS5ZRdqLRz8M\n",
       "H44CKJWVwonMsUlHuRvfUs1ym5UGBLqQJ+UEQA0gwOoJaUY+afr7YMuk6M5VNmam1ht4vkcyh1jT\n",
       "Zbj6nBN9+4DjIbx3qkPDlWVZ0hZudpYq/WnRiibBrXGb7zM69UGcKPQ3XMbUp8X+2/A36XtfG5aT\n",
       "veN/MbHVU2XPV8kxj7pcr+nEUO8ee0OmrYSIaVU8ZC1mWMeA1BLqDgAAAINBn7FFNEwQ/wAAAwK9\n",
       "WfmqQuWlP9hYsX2VF6SeNuHr+NCPm4090mGsdtyIAWHU//v8CWapx2wznJRFWfUc59uYS+3lGoQe\n",
       "EaLF147/VFyf72f6QOnqoMgJtJtOBlfZrXGycZHWOp3Wgd/hIrotAxgoov5lc3enmZaLH7cxrTB/\n",
       "jsdp3wAAAB8Bn9JqQ/8AAAYfx3r1kTpLYZzhX/+o5VpiKnFXovdAAAAA00Gb10moQWiZTAgl//61\n",
       "KoAAAAMA2VBxQeJntCJ3gEjLP1xMKEO3ailhm7jGuWALcAM3z2b4v9hjwqTOXbam1KyLA1LY1B/L\n",
       "TKZ3MkDJ3V/BwrefgVGLnLEPYbTYQIdqPBhvHBpXQHMy577fzcYxpw4EK6GTXDnyrwA6kwSm9qQE\n",
       "JcBYkGPuHrFX7AyN11i3gUy7eeeXoARHJ650Aa5C0+EZ0Pune4VSA7p5vnKNrY/yX03LGGpTQx0j\n",
       "6kxypWVUN8WzB/IzBHmwFktJhYaSjqI2gaYAAADIQZ/1RREsEP8AAAMCxFpodvLASmU/B9pm/+P/\n",
       "YMAHxJo8ze1VqNvPekmtQNvHpz+f6NKwf/E0C1vYXd34YMBfOonOT7CiIiuIjnd1e90IE7SUqauU\n",
       "v6o1HLDpeIDoEMx7FkeKY+cP5rYcB/cCxTgLC4IKsS4pNdLufY/MoGdTSui/4B5HeRAR4zmifm8u\n",
       "KocO91ki5Q5d08Qnp1yaNw//4fayHW7eBH9J4UT005/XxATLO1GidK/sQTYlU9ZVl4cjYMSFPfE7\n",
       "4+EAAAAvAZ4UdEP/AAAGHuk36QIFi2lK1++QhXEAAbF7svnjVD928vWhi1rI9XMs1HyvSzQAAAAe\n",
       "AZ4WakP/AAAGH8d64uFIWt5AnCPW1x3fJhtW5/LxAAABEUGaGkmoQWyZTAgl//61KoAAAATHmm/k\n",
       "adB4ALpccjt3NIeFihhKna7cNTH4SczLYlDbtFL9TfeHE+Yf553opBHeJ7KTcWWb+LTkbTz64NNj\n",
       "GR4kfZTG0igoLNArY+dtNHJtT/s9JkDBNl8FpbxMVreSDv1IMBuES80m96ZEj4AsLdE1vyEqvJcA\n",
       "Pnxyj0k0XMkXjLdeUIk23Zy+JnuWGAH07/4WJRAFyg4SoAnhi+4gKVLSE8vk3oyRjJUsWMhXxaKr\n",
       "SAPCGLfaAaKsGXC4fzZF7Az4TMFEIfyuGljv34m4aA1j72VzQtkkbacCPuU8/AEEj1mSDqfUgxi5\n",
       "6QFaidb4gsI1zzctRgT3d94fywj24QAAAHVBnjhFFSwQ/wAAAwLEWmh7ZOnH2NB4aF5VTpiW/QHJ\n",
       "AAHQVCOw8sSHwhwbd17clOYF5rX10kATGGm+jycIP/qvJgnQ1cvbTRW2eIIFMHrtvhrRxA3ibjg8\n",
       "EKGhUR/XUDlZ9mvqbtqjqcMpDEfYihUcyqlLr4AAAACDAZ5ZakP/AAAGH8d7CyjPqlrWRIkTlipQ\n",
       "AEHy4deO98Y/ZR13y0KcRL6CUZTa8AXqTI5EH72Sv/+DaoYvu5tKB4xvt3YXPcutr76rUC2MGL8I\n",
       "sWTYvlckiHnCcKr6aNsf3u3pCRC5LG2OQhMb5YgsIdXj6AzoyqVwx30x151Sn4sqdIEAAABqQZpb\n",
       "SahBbJlMCCX//rUqgAAADA2UtYg+JwMAIRUSdE5xlBzWxBmSzd5vtUKM9pktbLpsrEXsh6d0+9sP\n",
       "z7BS4+AQw2mUQ12tjd4sA09AdZVtfgQAmj5t8HmA6iON3Ie9WT3OxyrksD/WwAAAAEFBmnxJ4QpS\n",
       "ZTAgl//+tSqAAAAd2OTWFyAATkCY50+vA+epG9EvQdeUyRmODL6hrESl/vVkqSGrGtr83tnmhsDF\n",
       "gQAAADlBmp1J4Q6JlMCCX/61KoAAAEwepHg8QAeUxw90D+Kv7Er1hqkxrq3ghgu0TlOb3v2NA3j4\n",
       "Pd9wuIEAAABFQZq+SeEPJlMCCX/+tSqAABvvneACY1eF4CZwVKcATr45wF5jFEzoNK6k2pVE5ojF\n",
       "0/IeC0yq6xa5S44/fGxJ0BRzoKSAAAAAZ0Ga30nhDyZTAgl//rUqgAAEx5pv48reQAfyD4jh6h2Y\n",
       "Vdt96YrUt29Cvw6dzaPTIgWzLcNppKVXIHsPuVtw0fA/sEFrpLIffXW6K/FwLmghp/CLtN1ywO8s\n",
       "WRPA+LEio7seME84v8AAAABBQZrgSeEPJlMCCX/+tSqAAAwNlLWErABbBhfJlzyi0cRsp0Ywijxp\n",
       "o5L2bdtgrsiXSXhSTEnbts95LwnlcMUlXzEAAABMQZsBSeEPJlMCCf/+tSqAAB3679bs7UxIABRf\n",
       "7mfJxaMAVqS0QyqAdR5Y/iQ7O9TM+vlIE7iT+ma8h5Dax+6vEJ4aPYREUXOEc6AwIAAAAKRBmyNJ\n",
       "4Q8mUwURPBP//rUqgACu9a1AZ3+hfCOMI2+1A2L/TPHXcEE9E7V4XWwnavWUnAM4tyBbmyMVeJ5B\n",
       "rJLL22zMQZPYq1JIR2UnBkMa2Bw4PD/l5mrYRsNRla+v8c5wFGmR9lhPLxMzOedSDGDTMA3Q8uqg\n",
       "28jkEA/jJ/C4oyCgpgwqwxEezmR/jN6RC//k5Z7+tgt/vrmHYQVyeSSIbtviYQAAAHEBn0JqQ/8A\n",
       "ANEXzt9ImBABdKEj+zshEKHNNfihntAxyUkPBBwWow9nPb1pV/14dknkJMOixoq+gaAGOBLvZQys\n",
       "9wxsPoxhMVPjktwAGyHwkM3NZxD9FXcXB7sLrTCQNBa/zwppikfeKugU7J88dqAEzAAAALFBm0VJ\n",
       "4Q8mUwU8E//+tSqAAb7LS/8QnP1Cf4rjf/PKV+74vAAuwv6qLuMNO2O1qea1Zyz1MSGMNGj1bYOq\n",
       "mhX6N3wbgmVX3elc+fjMAlbU3KEVdtg6kzyiny5XGPY8biMsm8SN5wRut0DZF0latMC2c7ydPIkd\n",
       "OLMngROe5L2XsnIqRPLoqJQgJgRHACOfgQllGGyHyCnRs6Ca8+wfmeEygfoDZW6jiG0Asf7LRaaP\n",
       "I5cAAAB+AZ9kakP/AAHl7GRYU2UdNcsXhDKniACdR7rxMA7toWQuvLHoXPKqK5+QrDBnQLbHg2CN\n",
       "YV1vBjsAWLIJPQPUNtTDYVooJkWYODgKlTD7g5w+8s6pd2CY69BvVJwBpgSrxwYer/dNUw07P63D\n",
       "0BotCUQxqPW2Tja+72iBogOnAAAB0EGbaUnhDyZTAgn//rUqgAHUy0rFC27igA3AneD8ebSHwIpQ\n",
       "3UN4TbInwyIJa64e7mHyVc7AvSVv3/afIN+Dwien3RFNnZ4lEU0xGR7Zla5SFnVjvIYECwmJI+6Q\n",
       "4/8bXBVBeQWzN4Fa/oIw5g3nJ14YjIMiwQfoXG5eU1l/aEZdEF15P/9SiKrmu4zZhLliiXBEhcTT\n",
       "wUle+ORZtJEqh/6VUWr+dwD7myBB4Oox9naYnMdYc3lJGVTm+Q2pKIezH8qiB7wdoEt+yomzz6Cx\n",
       "7OwEoXw2QgbEuRyQ44PDodn7WQyYraCL+4rfcHw4Ra0xdFYgmJI4e/0j473N3ROtZLQm0ZAZq1fa\n",
       "YE3+JceMf9eAcVEPD8Iv6spB7VaStHIULy0q7pPBcmqCTsFyBwJY+FMV9MlB1fFxkQzVd5obgfEv\n",
       "o0nMznPCz9SfojhMRjwmTdMDsqHEkdePoxezUUmJDAcCtjvMR4pmRoVqlLiKWNTHHFJXDxWb+yJD\n",
       "QCWvZaNNWs8wIDR23UzTnAK7HnDvPpgy1WIQ+sOSijnEBZ4NJjLOicnkwxqqE0pNJ54t4OUbojnV\n",
       "EfNN/Vy0Uze9nvmOTH1LSSJYu8jmp3mbt4s/xdnTAAAAPUGfh0URPBD/AAJKh27wYOPoCTHMBMYr\n",
       "DiLWJyqySWVLAkLeys9PjY3SJT3TrYKlhZThanCbk0+ZUSlARI0AAAA9AZ+mdEP/AAUdSsp9oCuy\n",
       "FfJHsALCckp2qrNYdTzeRzAeemmBUlsoxAZJdmjL913hCY8gVHm4l5cGrbgETAAAAEIBn6hqQ/8A\n",
       "AAYfx3rvh1i/8FETLHUdXqe6YAR7JqnNvUo5nXxPuyrHJIlJwSvBo5TEJAH+rFDNFPLVj5kvSaZ3\n",
       "h3kAAAD0QZurSahBaJlMFPBP//61KoAB0oMdQAG18RRWwS/pfrvx7nlTW2um2Ci5v/IdGvpXocNL\n",
       "uXfl+mITaXq90ZrT3fRXP9D3de++TXLYHk73kGv7owgy8zAvjofcDZG+yZSSAb4nEAmQMzDd6r+j\n",
       "nklmVr0ljfXmPJwHGZHQJx1PsWtbjI+nCj5lTYuEZZTLdO7oRqzEBI4MjVRw3pFwm8uCX4Y3rrm2\n",
       "eXdoxv4pm4dtNDGZGMFySSTBbV4qqKC+iMm8bLG7tE7UuwuHgeiByKQE4YPUI3B9barOdIRVgoH6\n",
       "ljHGPCKu1StG3+SUf2NS1/IUezyOfQAAAHwBn8pqQ/8ABRydS1EmdDaHBKfUs2sAF0Xm7urZwNW5\n",
       "hmNnVIZ3z/jOfexFp9YPmIfXP2b/H85+Q2nN/qxRltUy5fGO/CrSKayFLvLbKGT53QKw1SNEeZ4v\n",
       "eyPbIzJZ60034kbBWaSWJfwatR2+S+/VWTbpGyL84yYGP43AAAAApEGbzEnhClJlMCCf//61KoAA\n",
       "AEIdvSQA7ga4h2RGI6TcIxWX54Gc4eoGzhVwzt/2dy3d+LE3PMFC2uxTYixVDEPEHmUTO95HNwXL\n",
       "3fvCEVlvtP72F+/esSXA9vK0Wm9+VOD5184Fru39k+lT420Z0KiOOS5Tc8I3NHxoKIjFXN2UneXA\n",
       "j9gX7zAGJaxlnGQO2NWT5JMr95ZMCVVV2OV2PyB/ijLgAAABWUGb8EnhDomUwIJ//rUqgAAArvWt\n",
       "Sg/23twZBqeR2fjxF8z63NEgR/cKwU2vkwu24NUAg1MHvc8dMoBGT32Pj5JfnPtJk2of/1OHprRv\n",
       "+xG+PP4aNLpDphVQfOnJLi4apY90LW2L9E1r17yN2KQ8/w99bcfQNpHbXoF8NcN5KBLFV/gf/dkG\n",
       "fJ76Q1cN6RXk8EUKwhc6+nYylN4KeAatSfIuuu2TXN4H+tFjmGcEoO6qkotliEWLDF/jkTq2Ycqw\n",
       "oeEskpGYbMKW4UK9D3BLxk9Q0BS/IU4jxabGvb8S5STj2KkG37HLmY9xE6gSE4kQIDngSqnG3S99\n",
       "LtyBMyMXGT4SimJP8uEiXT4lxpLazPN1W5O9FUrRpgjeuVH/WTmaOWHdcBvdbUHWN1myCLnKnWvF\n",
       "bUvpzqJuIB9XMToePxzCDPPK+VpELs8Fg82nzQs19OSIUMvkv43IeQAAAKNBng5FETwQ/wACOsi9\n",
       "gCqpD7iYicjgevbcjekThfLdAAvr58DWCpEX51jtA38lPKw4oQkIykBAArcZq4zglApNcgPCm33n\n",
       "gZ5nNr0Lgavz5OJMuDV8n8sb3xiCcvlPthEUkNmBuanWg8r+mfU0elG5r0LXCDHLhTJ9xsF7tdRI\n",
       "Et94tKlAStz09qMqHKcNJCk7GPdyCfYgN3Bi1fyMBWti6kg5AAAAcwGeLXRD/wAABh7pOPiRrH9i\n",
       "/ZjYidAAhwysBBj/8DuLaXiljWLaSPC9K5h7zPWsWNqNovyO7XvoqtcKNfLX/rMLTW8CdNREC5m9\n",
       "vDwm+EaWDIV4fQtqi3KbYdtlbL89YI1m9lm3XO/ti7roCrltG5s/6u8AAABsAZ4vakP/AAAGH8eA\n",
       "0Rn1e3XmIRPc67ZgTpgA2qgW+26Oz7QCP//gecfGoEAQWq5CIQBRlKL8fPjKChMP/IuqlknSBRxm\n",
       "JYL67RhAT49s5GfOc5mFQ3drqhcUR3IChVwXybtyiRI3dEytKgPCAAAAbEGaNEmoQWiZTAgn//61\n",
       "KoAAAKl8ssIAbL9cWAgGpbyXfYdh55fjXy9wIME1+V/EJh6/8V0Qjj4SwUVMJYJFw0gmXBsz/dza\n",
       "8MbGjKu0h6Py14TvYJr17Kw6Mx8C04yOJANbvbell2Z5EAyRPAAAAEtBnlJFESwQ/wACOtsieQ+S\n",
       "n28+Xr1F/e5Fxe6otbNm91WfEAQ72eIAAdbw65X6pAqdDUej5dc2LGIiRJf+BxV59ADmvaTluMIs\n",
       "d0EAAAAbAZ5xdEP/AAAGHuk+0kcUaZFggz43RmoIcdQQAAAAGgGec2pD/wAABh/HeuNf78gqJlMc\n",
       "jD7pFwuAAAAA+EGaeEmoQWyZTAgl//61KoAB1PnWOQzNRdF+NsX4keECv/8sQAul//kgu4Dl2vtD\n",
       "w0GvmU5qY0R9KCoCEK2r3BL9w9yj5X6fAWYIureE8O4PTp+dPGrn/CU+Vn6PL5rj7hF5mtwc3Pcc\n",
       "HbC1UtoI1oKo3dZ/exJH6F9VSivKe1GAG5wohhMF2c1Sl3QzbH0M4Zxfzqyonnk2545EdWk6QBVy\n",
       "wpKsyUqBxTPWfuTnx50JBGoetOt4+IrlrB5JEDnRtpucZZRdw8a3aODVLxHU+1w12fFf1NByjztS\n",
       "6R1t1GF/FAiyDrpP2LK1T7K0CkKK+c4TF1IOm4J3AAABH0GelkUVLBD/AAJVV6zrzgrwAWVUIi5L\n",
       "bpAU6oHUGr1I4ADPBiHnhKVg/+Jm5vF4AP3JBtgf1KXGyjqbRbpHm6iy31mYwh4d4uaMRPgewCXB\n",
       "GzTJZCuOT2WS3LJrc0y52HGKmrK1cPMSlj314eiLiSD3eNES/qMEzH5SHO2WGTFvHmWkr9I57NVJ\n",
       "do9ChbPpyuL3pJr3GcL0SR+ZDuThJ/+4OgwTzyyahNNO7RyNt1I7dbFdLKBTmvrWlBA4NjSP5RLL\n",
       "S/0ZyXSzPnxxIBKfmWFFvT+sYdat/dZCg4izicuuGO5XxvKK7+8OSp5S/g1pbEZgUUsIBFpf5O18\n",
       "Xem0eHl8EWfV/zy/ORu4c1RPyKOzlvLSB9W7r0yIxnJ8cgIOAAAAJQGetXRD/wAFPmaxaX8AAmyx\n",
       "eCN37r6bsO/e8QEx1L/ixZ0Qi4EAAAAkAZ63akP/AAVAnSAtUbikdzR1ib3tg1KdtGeNgXrX8T/k\n",
       "hoJfAAAAWkGauUmoQWyZTAgl//61KoAAAbKg4efjbW9kMq58+9AB+TKmUiudCc91orzrir/CTQHl\n",
       "I9bVFhXHKOGCTSTn3196Sm5ObZldEkapgNrO/fuvHAUPAvVmWZQC7gAAAKRBmtxJ4QpSZTAgj//+\n",
       "tSqAAArvEf9wcEsABfLoP9fM0AE5ttk0NkkAJqdH5oFc8dHapyuhVCSvI8uc4fhf7YncOUMqUGSN\n",
       "zPyq/eDVAJAdTSVNGngZ9I8fAeb7SDN6vWHJme1XrrsuHKB5Bwsk3yG7PAGdOwzRUmA/LBzQe946\n",
       "uQow/HTw1RJkXXocpnTUoRWe9cS+DfePvyjcxmkjADI+oEAwoQAAAGNBnvpFNEwQ/wAADX39Y1o2\n",
       "VS5lGgAJYrE74yoEkUcQkOTCbL//YZDVOH1tl+UGZSpiZjy9kSOPVoo8OU9oj8UoidX/LOxGLKGG\n",
       "5Em5XcgL6gj4mQlgaTYO3TM70DIdAtT7m9AAAABQAZ8bakP/AAAeWzlW3kLmy1zABtKTJbZIJ0C0\n",
       "jJb5oTq+CGxHIKS8n5zwP44aLXoSyLStxKgndg5DJ4WzET/aWgVcMG+zrmvh+WUAQbqAJmEAAACB\n",
       "QZsdSahBaJlMCCP//rUqgAAK31GIOgAC1RQf3ukFxDN/4Kg68A990QFpJOimWsaeJX+/FDgO1DpN\n",
       "Pc/vO7c0dB3OBzXRefd39LAnInKYw/SlDW+zP09BSYF5ZsMF6kfrhjpCB/VQM41ouh7trs1uz+S4\n",
       "O6oE5d1lodf3zCgHIAGLAAAAcUGbPknhClJlMCCP//61KoAAGpsparSwgA68F6AevoX96atNAc/W\n",
       "iBGJkKlUbGWtpq2epERq7DDNIXRGGbDHz+boOaTvDMGv9OZ9bdU5vdYTpPOuDPsnm+EbhGHfeCwM\n",
       "VxXbhQnqQlhidvwEq7Mm4AOaAAAAU0GbX0nhDomUwII//rUqgABCHqSxNO51PCjMgr5kh736AC9k\n",
       "GLVBt+26RjTza5/Kr5Q027J2PnSjRyCjV3KgUQGMpz2/56bqTHP5vbgXbh6gAHpAAAAAH0GbYUnh\n",
       "DyZTBRE8P//+qZYAAgPzEuI9JiwH2hgAA6cAAABWAZ+AakP/AAHO/gKAZyOGABNOLpcSFkiQMoHf\n",
       "ajEfd0Jn0fb7lMpucmKGNgZ36NDzB3CXvC3ffg/cwJ4pV/CE1PCZkI1OMw2YmbnS1LAPmX4nR0jA\n",
       "CygAAAdPbW9vdgAAAGxtdmhkAAAAAAAAAAAAAAAAAAAD6AAATJAAAQAAAQAAAAAAAAAAAAAAAAEA\n",
       "AAAAAAAAAAAAAAAAAAABAAAAAAAAAAAAAAAAAABAAAAAAAAAAAAAAAAAAAAAAAAAAAAAAAAAAAAA\n",
       "AAAAAgAABnl0cmFrAAAAXHRraGQAAAADAAAAAAAAAAAAAAABAAAAAAAATJAAAAAAAAAAAAAAAAAA\n",
       "AAAAAAEAAAAAAAAAAAAAAAAAAAABAAAAAAAAAAAAAAAAAABAAAAAAkAAAAGMAAAAAAAkZWR0cwAA\n",
       "ABxlbHN0AAAAAAAAAAEAAEyQAAAQAAABAAAAAAXxbWRpYQAAACBtZGhkAAAAAAAAAAAAAAAAAAAo\n",
       "AAADEABVxAAAAAAALWhkbHIAAAAAAAAAAHZpZGUAAAAAAAAAAAAAAABWaWRlb0hhbmRsZXIAAAAF\n",
       "nG1pbmYAAAAUdm1oZAAAAAEAAAAAAAAAAAAAACRkaW5mAAAAHGRyZWYAAAAAAAAAAQAAAAx1cmwg\n",
       "AAAAAQAABVxzdGJsAAAAtHN0c2QAAAAAAAAAAQAAAKRhdmMxAAAAAAAAAAEAAAAAAAAAAAAAAAAA\n",
       "AAAAAkABjABIAAAASAAAAAAAAAABAAAAAAAAAAAAAAAAAAAAAAAAAAAAAAAAAAAAAAAAAAAAGP//\n",
       "AAAAMmF2Y0MBZAAW/+EAGWdkABas2UCQM/uEAAADAAQAAAMAKDxYtlgBAAZo6+PLIsAAAAAcdXVp\n",
       "ZGtoQPJfJE/FujmlG88DI/MAAAAAAAAAGHN0dHMAAAAAAAAAAQAAAGIAAAgAAAAAFHN0c3MAAAAA\n",
       "AAAAAQAAAAEAAAKoY3R0cwAAAAAAAABTAAAAAQAAEAAAAAABAAAoAAAAAAEAABAAAAAAAQAAAAAA\n",
       "AAABAAAIAAAAAAIAABAAAAAAAQAAKAAAAAABAAAQAAAAAAEAAAAAAAAAAQAACAAAAAABAAAoAAAA\n",
       "AAEAABAAAAAAAQAAAAAAAAABAAAIAAAAAAEAABgAAAAAAQAACAAAAAABAAAoAAAAAAEAABAAAAAA\n",
       "AQAAAAAAAAABAAAIAAAAAAEAACgAAAAAAQAAEAAAAAABAAAAAAAAAAEAAAgAAAAAAQAAKAAAAAAB\n",
       "AAAQAAAAAAEAAAAAAAAAAQAACAAAAAABAAAoAAAAAAEAABAAAAAAAQAAAAAAAAABAAAIAAAAAAEA\n",
       "ACgAAAAAAQAAEAAAAAABAAAAAAAAAAEAAAgAAAAAAQAAKAAAAAABAAAQAAAAAAEAAAAAAAAAAQAA\n",
       "CAAAAAADAAAQAAAAAAEAACAAAAAAAgAACAAAAAABAAAYAAAAAAEAAAgAAAAAAQAAIAAAAAACAAAI\n",
       "AAAAAAEAACgAAAAAAQAAEAAAAAABAAAAAAAAAAEAAAgAAAAAAQAAIAAAAAACAAAIAAAAAAcAABAA\n",
       "AAAAAQAAGAAAAAABAAAIAAAAAAEAABgAAAAAAQAACAAAAAABAAAoAAAAAAEAABAAAAAAAQAAAAAA\n",
       "AAABAAAIAAAAAAEAABgAAAAAAQAACAAAAAABAAAQAAAAAAEAACgAAAAAAQAAEAAAAAABAAAAAAAA\n",
       "AAEAAAgAAAAAAQAAKAAAAAABAAAQAAAAAAEAAAAAAAAAAQAACAAAAAABAAAoAAAAAAEAABAAAAAA\n",
       "AQAAAAAAAAABAAAIAAAAAAEAABAAAAAAAQAAIAAAAAACAAAIAAAAAAMAABAAAAAAAQAAGAAAAAAB\n",
       "AAAIAAAAABxzdHNjAAAAAAAAAAEAAAABAAAAYgAAAAEAAAGcc3RzegAAAAAAAAAAAAAAYgAAEDsA\n",
       "AAGfAAAAjgAAAEcAAACoAAABKgAAALAAAADWAAAAsQAAAFAAAACRAAABuQAAAD8AAABJAAAAPgAA\n",
       "AQIAAAA6AAABcwAAAEcAAABrAAAAJQAAAPwAAAAvAAAAJAAAACAAAAEVAAAAtgAAACUAAACFAAAA\n",
       "7QAAAEcAAAAoAAAAKwAAATwAAABAAAAAIwAAAC8AAAEcAAAAjgAAADEAAABcAAAAWgAAADgAAAA2\n",
       "AAAAIgAAAFQAAABjAAAAawAAACQAAAFFAAAAhwAAACMAAADXAAAAzAAAADMAAAAiAAABFQAAAHkA\n",
       "AACHAAAAbgAAAEUAAAA9AAAASQAAAGsAAABFAAAAUAAAAKgAAAB1AAAAtQAAAIIAAAHUAAAAQQAA\n",
       "AEEAAABGAAAA+AAAAIAAAACoAAABXQAAAKcAAAB3AAAAcAAAAHAAAABPAAAAHwAAAB4AAAD8AAAB\n",
       "IwAAACkAAAAoAAAAXgAAAKgAAABnAAAAVAAAAIUAAAB1AAAAVwAAACMAAABaAAAAFHN0Y28AAAAA\n",
       "AAAAAQAAACwAAABidWR0YQAAAFptZXRhAAAAAAAAACFoZGxyAAAAAAAAAABtZGlyYXBwbAAAAAAA\n",
       "AAAAAAAAAC1pbHN0AAAAJal0b28AAAAdZGF0YQAAAAEAAAAATGF2ZjU3LjU2LjEwMQ==\n",
       "\">\n",
       "  Your browser does not support the video tag.\n",
       "</video>"
      ],
      "text/plain": [
       "<matplotlib.animation.FuncAnimation at 0x1180abeb8>"
      ]
     },
     "execution_count": 89,
     "metadata": {},
     "output_type": "execute_result"
    },
    {
     "data": {
      "image/png": "[encoded data removed]",
      "text/plain": [
       "<matplotlib.figure.Figure at 0x119a0fdd8>"
      ]
     },
     "metadata": {},
     "output_type": "display_data"
    }
   ],
   "source": [
    "from IPython.display import HTML\n",
    "from matplotlib import animation, rc\n",
    "rc('animation', html='html5')\n",
    "\n",
    "def display_animation(anim):\n",
    "    plt.close(anim._fig)\n",
    "    return HTML(anim_to_html(anim))\n",
    "\n",
    "\n",
    "fig = plt.figure()\n",
    "\n",
    "\n",
    "from matplotlib import colors\n",
    "from matplotlib import pyplot as plt\n",
    "cdef = ['#ffffff', '#111111', '#FC4754', '#4A74FF']\n",
    "cmap = colors.ListedColormap(cdef)\n",
    "bounds = np.arange(cmap.N + 1)\n",
    "cnorm = colors.BoundaryNorm(bounds, cmap.N)\n",
    "\n",
    "env.reset()\n",
    "X = env.render(mode='array')\n",
    "\n",
    "frontier = True\n",
    "if frontier:\n",
    "    im = plt.imshow(X, aspect='equal', cmap=cmap, norm=cnorm, animated=True)\n",
    "    frames = policy.saved['frontier']\n",
    "    def updatefig(h):\n",
    "    #     r,c = h['state']\n",
    "        X1 = X.copy()\n",
    "        for (r,c) in h:\n",
    "            X1[r,c] = 3\n",
    "        im.set_array(X1)\n",
    "        return im,\n",
    "else:\n",
    "    im = plt.imshow(X, aspect='equal', cmap=cmap, norm=cnorm, animated=True)\n",
    "    frames = iter(trace['actions'])\n",
    "    def updatefig(a):\n",
    "        env.step(a)\n",
    "        X = env.render(mode='array')\n",
    "        im.set_array(X)\n",
    "        return im,\n",
    "\n",
    "anim = animation.FuncAnimation(fig, updatefig, interval=200, blit=True, \n",
    "                        frames=frames, )\n",
    "anim\n",
    "# anim.save('a-star.gif', writer='imagemagick', fps=10)"
   ]
  },
  {
   "cell_type": "code",
   "execution_count": null,
   "metadata": {
    "collapsed": false
   },
   "outputs": [],
   "source": [
    "env.reset()\n",
    "env.render(mode='human')\n",
    "for a in tr['actions']:\n",
    "    time.sleep(1)\n",
    "    env.step(a)\n",
    "    env.render(mode='human')\n"
   ]
  },
  {
   "cell_type": "code",
   "execution_count": null,
   "metadata": {
    "collapsed": false
   },
   "outputs": [],
   "source": [
    "N_EP = 40\n",
    "SIZE = 10\n",
    "from agents import *\n",
    "from envs import ForageWorld\n",
    "env = ForageWorld(SIZE, 4, .05)\n",
    "agent = Agent()\n",
    "agent.register(env)\n",
    "env.reset()\n",
    "V = BayesianRegressionV()\n",
    "agent.register(V)\n",
    "agent.register(SearchPolicy(V, noise=0))\n",
    "trace = agent.run_many(N_EP, max_steps=100)"
   ]
  },
  {
   "cell_type": "code",
   "execution_count": null,
   "metadata": {
    "collapsed": false
   },
   "outputs": [],
   "source": [
    "np.random.randn()"
   ]
  },
  {
   "cell_type": "code",
   "execution_count": null,
   "metadata": {
    "collapsed": true
   },
   "outputs": [],
   "source": [
    "from scipy.stats import norm"
   ]
  },
  {
   "cell_type": "code",
   "execution_count": null,
   "metadata": {
    "collapsed": false
   },
   "outputs": [],
   "source": [
    "def ret(n, sig):\n",
    "    return sum(np.random.randn() * sig for _ in range(n))\n",
    "\n",
    "d = [ret(2, 1) for _ in range(1000)]\n",
    "sns.distplot(d)\n",
    "norm.fit(d)\n",
    "    "
   ]
  },
  {
   "cell_type": "code",
   "execution_count": null,
   "metadata": {
    "collapsed": false
   },
   "outputs": [],
   "source": [
    "softmax([1,1,2])"
   ]
  },
  {
   "cell_type": "code",
   "execution_count": null,
   "metadata": {
    "collapsed": false
   },
   "outputs": [],
   "source": [
    "x = np.random.rand(4)\n",
    "theta = np.random.rand(4, 2)\n",
    "x @ theta"
   ]
  },
  {
   "cell_type": "code",
   "execution_count": null,
   "metadata": {
    "collapsed": false
   },
   "outputs": [],
   "source": [
    "plt.plot(rolling_max(map(get('v'), agent.policy.node_history), 200))"
   ]
  },
  {
   "cell_type": "code",
   "execution_count": null,
   "metadata": {
    "collapsed": false
   },
   "outputs": [],
   "source": [
    "df = pd.DataFrame(trace)\n",
    "df['return'].plot()"
   ]
  },
  {
   "cell_type": "code",
   "execution_count": null,
   "metadata": {
    "collapsed": false
   },
   "outputs": [],
   "source": [
    "sns.set_style('whitegrid')\n",
    "w = V.model.w\n",
    "idx = [0,1,2,3,4,5,6,7,8,9,10,len(w)-1]\n",
    "w = w[idx]\n",
    "var = V.model.sigma_w[idx]\n",
    "# plt.bar(range(len(idx)), w)\n",
    "plt.errorbar(range(len(idx)), w, var)\n",
    "# plt.fill_between(range(len(idx)), w-var, w+var, alpha=0.4)\n",
    "# plt.ylim(-2, 2)"
   ]
  },
  {
   "cell_type": "code",
   "execution_count": null,
   "metadata": {
    "collapsed": false
   },
   "outputs": [],
   "source": [
    "from utils import dict_product\n",
    "from envs import ForageWorld\n",
    "from agents import *\n",
    "\n",
    "def rolling_max(seq, length):\n",
    "    seq = iter(seq)\n",
    "    best = next(seq)\n",
    "    lst = np.zeros(length) - 1000\n",
    "    lst[0] = best\n",
    "    for i, x in enumerate(seq, start=1):\n",
    "        best = max(x, best)\n",
    "        lst[i] = best \n",
    "    for j in range(i, length):\n",
    "        lst[j] = best\n",
    "    return lst\n",
    "    \n",
    "        \n",
    "\n",
    "def data(params, n=20):\n",
    "    for i, pr in enumerate(params):\n",
    "        print(pr)\n",
    "        env = ForageWorld(**pr)\n",
    "        agent = Agent()\n",
    "        agent.register(env)\n",
    "        V = FixedV([0, 1] + [0] * (pr['size'] ** 2))\n",
    "        agent.register(V)\n",
    "        agent.register(SearchPolicy(V, noise=0))\n",
    "        rets = []\n",
    "        for _ in range(n):\n",
    "            agent.run_episode()\n",
    "            nh = agent.policy.node_history\n",
    "            rets.append(rolling_max(map(get('v'), nh), 2000))\n",
    "        yield {**pr, 'ret': np.stack(rets).mean(0)}\n",
    "\n",
    "params = {\n",
    "    'size': [6,8,10,12],\n",
    "    'n_berry': 5,\n",
    "    'time_cost': 0.05,\n",
    "}\n",
    "df = pd.DataFrame(data(dict_product(params)))"
   ]
  },
  {
   "cell_type": "code",
   "execution_count": null,
   "metadata": {
    "collapsed": false
   },
   "outputs": [],
   "source": [
    "time_cost = np.arange(2000) * -0.001\n",
    "colors = iter(sns.color_palette('deep'))\n",
    "color = defaultdict(lambda: next(colors))\n",
    "ls = {0.05: '-', 0.1: '--'}\n",
    "for (nb, s, tc), dd in df.groupby(['n_berry', 'size', 'time_cost']):\n",
    "    x = dd.ret.iloc[0] + time_cost\n",
    "    plt.plot(x[:1000], c=color[s], ls=ls[tc])\n",
    "plt.legend()"
   ]
  },
  {
   "cell_type": "code",
   "execution_count": null,
   "metadata": {
    "collapsed": false
   },
   "outputs": [],
   "source": [
    "from matplotlib.animation import FuncAnimation\n",
    "from IPython.display import HTML, Image\n",
    "sns.set_style('whitegrid')\n",
    "\n",
    "def display_animation(anim):\n",
    "    plt.close(anim._fig)\n",
    "    return HTML(anim.to_html5_video())\n",
    "\n",
    "def get_states(path):\n",
    "    env.reset()\n",
    "    yield (SIZE // 2, SIZE //2)\n",
    "    for a in path:\n",
    "        s1, r, done, _ = env.step(a)\n",
    "        yield env._state[:2]\n",
    "\n",
    "def init():\n",
    "    pathcol.set_offsets([[], []])\n",
    "    return [pathcol]\n",
    "\n",
    "def update(i, pathcol, nodes):\n",
    "    data = np.array(list(get_states(nodes[i].path)))\n",
    "    pathcol.set_offsets(data)\n",
    "    return [pathcol]\n",
    "\n",
    "fig = plt.figure()\n",
    "ax = plt.axes(xlim=(-0.5, SIZE+.5), ylim=(-0.5, SIZE+.5))\n",
    "plt.xticks(range(0,SIZE))\n",
    "plt.yticks(range(0,SIZE))\n",
    "ax.scatter(*np.array(list(env.berry_locs.keys())).T, \n",
    "           c='r', marker='x',  s=120)\n",
    "pathcol = ax.scatter([], [], s=100)\n",
    "\n",
    "nodes = agent.policy.node_history[200:300]\n",
    "T = len(nodes)\n",
    "\n",
    "anim = FuncAnimation(\n",
    "    fig, update, init_func=init, fargs=(pathcol, nodes), interval=200, frames=T, \n",
    "    blit=True, repeat=True)\n",
    "\n",
    "display_animation(anim)"
   ]
  },
  {
   "cell_type": "code",
   "execution_count": null,
   "metadata": {
    "collapsed": true
   },
   "outputs": [],
   "source": [
    "plot = plt.scatter([], [], s=100)\n",
    "fig1 = plt.figure()\n",
    "plt.axis('equal')\n",
    "plt.xlim(0, SIZE)\n",
    "plt.ylim(0, SIZE)\n",
    "\n",
    "nodes = agent.policy.node_history\n",
    "ani = FuncAnimation(fig1, plot_node, 20, fargs=(nodes, plot),      \n",
    "                                   interval=100, blit=True)\n",
    "display_animation(ani)"
   ]
  },
  {
   "cell_type": "code",
   "execution_count": null,
   "metadata": {
    "collapsed": false
   },
   "outputs": [],
   "source": [
    "df = pd.DataFrame(trace)\n",
    "sns.factorplot('berries', 'return', data=df)\n",
    "plt.axis('equal')\n",
    "# plt.plot([0, 2], [0, 2], ls='--')"
   ]
  },
  {
   "cell_type": "code",
   "execution_count": null,
   "metadata": {
    "collapsed": false
   },
   "outputs": [],
   "source": [
    "# N_EP = 50\n",
    "# trace = agent.run_many(N_EP, max_steps=100)\n",
    "roll = 2\n",
    "\n",
    "df = pd.DataFrame(trace)\n",
    "cols = ['v0', 'vx', 'vy', 'vb'] \n",
    "# cols.extend(['vxy', 'vxb', 'vyb'])\n",
    "tdf = pd.DataFrame(list(df.theta_v), columns=cols).clip(-10, 100)\n",
    "df = df.join(tdf).drop('theta_v', axis=1)\n",
    "# sns.factorplot('berries', 'return', data=df)\n",
    "# df['return'].rolling(roll).mean().plot()\n",
    "# sns.lmplot('i_episode', 'vb', data=df)\n",
    "df[cols + ['return', 'berries']].rolling(roll).mean().plot()\n",
    "plt.axhline(0, ls='--', c='gray')"
   ]
  },
  {
   "cell_type": "code",
   "execution_count": null,
   "metadata": {
    "collapsed": false
   },
   "outputs": [],
   "source": []
  },
  {
   "cell_type": "code",
   "execution_count": null,
   "metadata": {
    "collapsed": true
   },
   "outputs": [],
   "source": []
  },
  {
   "cell_type": "code",
   "execution_count": null,
   "metadata": {
    "collapsed": false
   },
   "outputs": [],
   "source": [
    "from sklearn.linear_model import SGDRegressor\n",
    "n_samples, n_features = 100, 5\n",
    "X = np.random.randn(n_samples, n_features)\n",
    "theta = np.random.randn(n_features)\n",
    "y = X @ theta + 0.5 * np.random.randn(n_samples)\n",
    "clf = SGDRegressor()\n",
    "clf.fit(X, y)\n",
    "theta_hat = np.linalg.inv(X.T @ X) @ (X.T @ y)\n",
    "def rms_error(y1, y2):\n",
    "    return ((y1 - y2) ** 2).mean() ** 0.5\n",
    "\n",
    "print('{:.3f}  {:.3f}'.format(\n",
    "    rms_error(y, clf.predict(X)),\n",
    "    rms_error(y, X @ theta_hat)),\n",
    ")\n"
   ]
  },
  {
   "cell_type": "code",
   "execution_count": null,
   "metadata": {
    "collapsed": false
   },
   "outputs": [],
   "source": [
    "class LinearSGD(object):\n",
    "    \"\"\"Learns a linear approximation by SGD.\"\"\"\n",
    "    def __init__(self, shape, learn_rate=.1):\n",
    "        self.shape = shape\n",
    "        self.learn_rate = learn_rate\n",
    "        self.theta = np.random.random(self.shape)\n",
    "\n",
    "    def update(self, x, y):\n",
    "        yhat = x @ self.theta\n",
    "        error = y - yhat\n",
    "        self.theta += self.learn_rate * np.outer(x, error)\n",
    "\n",
    "    def predict(self, x):\n",
    "        return x @ self.theta\n",
    "\n",
    "mod = LinearSGD((n_features, 1), .1)\n",
    "for i in range(len(X)):\n",
    "    mod.update(X[i], y[i])\n",
    "\n",
    "yhat = [mod.predict(x)[0] for x in X]\n",
    "rms_error(y, yhat)"
   ]
  },
  {
   "cell_type": "code",
   "execution_count": null,
   "metadata": {
    "collapsed": false
   },
   "outputs": [],
   "source": [
    "from sklearn.linear_model import SGDRegressor\n",
    "n_samples, n_features, n_output = 10, 5, 2\n",
    "X = np.random.randn(n_samples, n_features)\n",
    "theta = np.random.randn(n_features, n_output)\n",
    "y = X @ theta\n",
    "# clf = SGDRegressor()\n",
    "# clf.partial_fit(X, y)\n",
    "y"
   ]
  },
  {
   "cell_type": "code",
   "execution_count": null,
   "metadata": {
    "collapsed": false
   },
   "outputs": [],
   "source": [
    "clf.fit(X, y)\n",
    "theta_hat = np.linalg.inv(X.T @ X) @ (X.T @ y)\n",
    "def rms_error(y1, y2):\n",
    "    return ((y1 - y2) ** 2).mean() ** 0.5\n",
    "\n",
    "print('{:.3f}  {:.3f}'.format(\n",
    "    rms_error(y, clf.predict(X)),\n",
    "    rms_error(y, X @ theta_hat)),\n",
    ")"
   ]
  },
  {
   "cell_type": "code",
   "execution_count": null,
   "metadata": {
    "collapsed": false
   },
   "outputs": [],
   "source": [
    "def bin(x):\n",
    "    return pd.cut(x, 10).apply(lambda x: x.mid)\n",
    "\n",
    "bdf = pd.DataFrame({\n",
    "    'vb': bin(df.vb),\n",
    "    'ep': bin(df.i_episode),\n",
    "    'return': df['return']\n",
    "})\n",
    "sns.heatmap(bdf.pivot_table('return', 'vb', 'ep'))"
   ]
  },
  {
   "cell_type": "code",
   "execution_count": null,
   "metadata": {
    "collapsed": true
   },
   "outputs": [],
   "source": []
  },
  {
   "cell_type": "code",
   "execution_count": null,
   "metadata": {
    "collapsed": false
   },
   "outputs": [],
   "source": [
    "agent.depth = 2\n",
    "agent.run_episode()"
   ]
  },
  {
   "cell_type": "code",
   "execution_count": null,
   "metadata": {
    "collapsed": false
   },
   "outputs": [],
   "source": [
    "V = agent.V.to_array().reshape(5, 5)\n",
    "sns.heatmap(V)"
   ]
  },
  {
   "cell_type": "code",
   "execution_count": null,
   "metadata": {
    "collapsed": false
   },
   "outputs": [],
   "source": [
    "from agents import QLearningAgent\n",
    "from envs import GridEnv\n",
    "\n",
    "env = GridEnv(5, 5)\n",
    "agent = QLearningAgent(env)\n",
    "agent.Q.theta\n",
    "# agent.Q.theta\n",
    "# trace = agent.run_many(500)\n",
    "agent.run_many(100)"
   ]
  },
  {
   "cell_type": "code",
   "execution_count": null,
   "metadata": {
    "collapsed": false
   },
   "outputs": [],
   "source": [
    "plt.plot(trace['return'])"
   ]
  },
  {
   "cell_type": "code",
   "execution_count": null,
   "metadata": {
    "collapsed": false
   },
   "outputs": [],
   "source": [
    "# agent.run_many(1000)\n",
    "print(agent.V.theta)\n",
    "# agent.V.theta = np.array([0, 100])\n",
    "X = np.linspace(-1,1, 101)\n",
    "plt.plot(X, lmap(agent.V, map(agent.phi, X)))"
   ]
  },
  {
   "cell_type": "code",
   "execution_count": null,
   "metadata": {
    "collapsed": true
   },
   "outputs": [],
   "source": [
    "\n",
    "\n",
    "\n",
    "\n",
    "\n",
    "\n",
    "\n",
    "\n",
    "\n",
    "\n",
    "\n",
    "\n",
    "\n",
    "\n",
    "\n",
    "\n",
    "\n",
    "\n",
    "\n",
    "\n"
   ]
  }
 ],
 "metadata": {
  "anaconda-cloud": {},
  "kernelspec": {
   "display_name": "Python [default]",
   "language": "python",
   "name": "python3"
  },
  "language_info": {
   "codemirror_mode": {
    "name": "ipython",
    "version": 3
   },
   "file_extension": ".py",
   "mimetype": "text/x-python",
   "name": "python",
   "nbconvert_exporter": "python",
   "pygments_lexer": "ipython3",
   "version": "3.5.2"
  },
  "nav_menu": {},
  "toc": {
   "navigate_menu": true,
   "number_sections": true,
   "sideBar": true,
   "threshold": 6,
   "toc_cell": false,
   "toc_section_display": "block",
   "toc_window_display": false
  }
 },
 "nbformat": 4,
 "nbformat_minor": 0
}
