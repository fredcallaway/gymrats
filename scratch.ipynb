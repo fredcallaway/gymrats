{
 "cells": [
  {
   "cell_type": "code",
   "execution_count": 15,
   "metadata": {
    "collapsed": false
   },
   "outputs": [
    {
     "name": "stdout",
     "output_type": "stream",
     "text": [
      "The autoreload extension is already loaded. To reload it, use:\n",
      "  %reload_ext autoreload\n"
     ]
    }
   ],
   "source": [
    "%matplotlib inline\n",
    "%load_ext autoreload\n",
    "%autoreload 2\n",
    "\n",
    "import matplotlib.pyplot as plt\n",
    "import numpy as np\n",
    "import pandas as pd\n",
    "import seaborn as sns\n",
    "sns.set_style('white')\n",
    "sns.set_context('notebook', font_scale=1.3)\n",
    "sns.set_palette('muted', color_codes=True)\n",
    "\n",
    "import itertools as it\n",
    "from collections import Counter, defaultdict, deque"
   ]
  },
  {
   "cell_type": "code",
   "execution_count": 16,
   "metadata": {
    "collapsed": false
   },
   "outputs": [],
   "source": [
    "# ---------- Functional utils ---------- #\n",
    "from toolz import pipe\n",
    "from toolz.curried import *\n",
    "max = curry(max)\n",
    "min = curry(min)\n",
    "call = lambda f: f()\n",
    "@curry\n",
    "def attr(name, obj):\n",
    "    return getattr(obj, name)\n",
    "@curry\n",
    "def invoke(name, obj):\n",
    "    return getattr(obj, name)()\n",
    "\n",
    "lmap = curry(compose(list, map))\n",
    "amap = curry(compose(np.array, lmap))"
   ]
  },
  {
   "cell_type": "code",
   "execution_count": null,
   "metadata": {
    "collapsed": true
   },
   "outputs": [],
   "source": [
    "from IPython.display import HTML\n",
    "from matplotlib import animation, rc\n",
    "rc('animation', html='html5')\n",
    "\n",
    "def display_animation(anim):\n",
    "    plt.close(anim._fig)\n",
    "    return HTML(anim_to_html(anim)\n",
    "\n",
    "from matplotlib import colors\n",
    "from matplotlib import pyplot as plt\n",
    "cdef = ['#ffffff', '#111111', '#FC4754', '#4A74FF']\n",
    "cmap = colors.ListedColormap(cdef)\n",
    "bounds = np.arange(cmap.N + 1)\n",
    "cnorm = colors.BoundaryNorm(bounds, cmap.N)"
   ]
  },
  {
   "cell_type": "markdown",
   "metadata": {
    "heading_collapsed": true
   },
   "source": [
    "# Maze"
   ]
  },
  {
   "cell_type": "code",
   "execution_count": 3,
   "metadata": {
    "collapsed": false,
    "hidden": true
   },
   "outputs": [
    {
     "ename": "TypeError",
     "evalue": "__init__() got an unexpected keyword argument 'init_state'",
     "output_type": "error",
     "traceback": [
      "\u001b[0;31m---------------------------------------------------------------------------\u001b[0m",
      "\u001b[0;31mTypeError\u001b[0m                                 Traceback (most recent call last)",
      "\u001b[0;32m<ipython-input-3-619d807eec04>\u001b[0m in \u001b[0;36m<module>\u001b[0;34m()\u001b[0m\n\u001b[1;32m      3\u001b[0m \u001b[0;32mfrom\u001b[0m \u001b[0mmeta\u001b[0m \u001b[0;32mimport\u001b[0m \u001b[0;34m*\u001b[0m\u001b[0;34m\u001b[0m\u001b[0m\n\u001b[1;32m      4\u001b[0m \u001b[0magent\u001b[0m \u001b[0;34m=\u001b[0m \u001b[0mAgent\u001b[0m\u001b[0;34m(\u001b[0m\u001b[0;34m)\u001b[0m\u001b[0;34m\u001b[0m\u001b[0m\n\u001b[0;32m----> 5\u001b[0;31m \u001b[0mbase_env\u001b[0m \u001b[0;34m=\u001b[0m \u001b[0mGridWorld\u001b[0m\u001b[0;34m.\u001b[0m\u001b[0mrandom_maze\u001b[0m\u001b[0;34m(\u001b[0m\u001b[0;36m16\u001b[0m\u001b[0;34m)\u001b[0m\u001b[0;34m\u001b[0m\u001b[0m\n\u001b[0m\u001b[1;32m      6\u001b[0m \u001b[0mbase_env\u001b[0m\u001b[0;34m.\u001b[0m\u001b[0mrender\u001b[0m\u001b[0;34m(\u001b[0m\u001b[0;34m)\u001b[0m\u001b[0;34m\u001b[0m\u001b[0m\n\u001b[1;32m      7\u001b[0m \u001b[0;34m\u001b[0m\u001b[0m\n",
      "\u001b[0;32m/Users/fred/Projects/gymrats/envs.py\u001b[0m in \u001b[0;36mrandom_maze\u001b[0;34m(cls, size)\u001b[0m\n\u001b[1;32m    262\u001b[0m         \u001b[0mgoal\u001b[0m \u001b[0;34m=\u001b[0m \u001b[0mm\u001b[0m\u001b[0;34m.\u001b[0m\u001b[0mfarthest_point\u001b[0m\u001b[0;34m\u001b[0m\u001b[0m\n\u001b[1;32m    263\u001b[0m         \u001b[0mspec\u001b[0m\u001b[0;34m[\u001b[0m\u001b[0mgoal\u001b[0m\u001b[0;34m]\u001b[0m \u001b[0;34m=\u001b[0m \u001b[0mcls\u001b[0m\u001b[0;34m.\u001b[0m\u001b[0mGOAL\u001b[0m\u001b[0;34m\u001b[0m\u001b[0m\n\u001b[0;32m--> 264\u001b[0;31m         \u001b[0;32mreturn\u001b[0m \u001b[0mcls\u001b[0m\u001b[0;34m(\u001b[0m\u001b[0mspec\u001b[0m\u001b[0;34m,\u001b[0m \u001b[0minit_state\u001b[0m\u001b[0;34m=\u001b[0m\u001b[0;34m(\u001b[0m\u001b[0;36m1\u001b[0m\u001b[0;34m,\u001b[0m\u001b[0;36m1\u001b[0m\u001b[0;34m)\u001b[0m\u001b[0;34m,\u001b[0m \u001b[0mgoal\u001b[0m\u001b[0;34m=\u001b[0m\u001b[0mgoal\u001b[0m\u001b[0;34m)\u001b[0m\u001b[0;34m\u001b[0m\u001b[0m\n\u001b[0m\u001b[1;32m    265\u001b[0m \u001b[0;34m\u001b[0m\u001b[0m\n\u001b[1;32m    266\u001b[0m \u001b[0;34m\u001b[0m\u001b[0m\n",
      "\u001b[0;31mTypeError\u001b[0m: __init__() got an unexpected keyword argument 'init_state'"
     ]
    }
   ],
   "source": [
    "from agents import *\n",
    "from envs import *\n",
    "from meta import *\n",
    "agent = Agent()\n",
    "base_env = GridWorld.random_maze(16)\n",
    "base_env.render()\n",
    "\n",
    "def heuristic(obs):\n",
    "    row, col = obs\n",
    "    g_row, g_col = base_env.goal\n",
    "    return base_env.move_cost * (abs(row - g_row) + abs(col - g_col))\n",
    "\n",
    "policy = MetaSearchPolicy()\n",
    "env = MetaSearchEnv(base_env, policy.eval_node)\n",
    "env.reset()\n",
    "agent.register(env)\n",
    "agent.register(policy)\n",
    "trace = agent.run_episode()\n",
    "print(trace['return'])"
   ]
  },
  {
   "cell_type": "code",
   "execution_count": 18,
   "metadata": {
    "collapsed": false,
    "hidden": true
   },
   "outputs": [
    {
     "name": "stdout",
     "output_type": "stream",
     "text": [
      "GOAL IS (13, 3)\n"
     ]
    },
    {
     "ename": "UnsupportedMode",
     "evalue": "<MetaSearchEnv instance> does not support rendering (requested mode: array)",
     "output_type": "error",
     "traceback": [
      "\u001b[0;31m---------------------------------------------------------------------------\u001b[0m",
      "\u001b[0;31mUnsupportedMode\u001b[0m                           Traceback (most recent call last)",
      "\u001b[0;32m<ipython-input-18-2ea0cec9fa23>\u001b[0m in \u001b[0;36m<module>\u001b[0;34m()\u001b[0m\n\u001b[1;32m     19\u001b[0m \u001b[0;34m\u001b[0m\u001b[0m\n\u001b[1;32m     20\u001b[0m \u001b[0menv\u001b[0m\u001b[0;34m.\u001b[0m\u001b[0mreset\u001b[0m\u001b[0;34m(\u001b[0m\u001b[0;34m)\u001b[0m\u001b[0;34m\u001b[0m\u001b[0m\n\u001b[0;32m---> 21\u001b[0;31m \u001b[0mX\u001b[0m \u001b[0;34m=\u001b[0m \u001b[0menv\u001b[0m\u001b[0;34m.\u001b[0m\u001b[0mrender\u001b[0m\u001b[0;34m(\u001b[0m\u001b[0mmode\u001b[0m\u001b[0;34m=\u001b[0m\u001b[0;34m'array'\u001b[0m\u001b[0;34m)\u001b[0m\u001b[0;34m\u001b[0m\u001b[0m\n\u001b[0m\u001b[1;32m     22\u001b[0m \u001b[0;34m\u001b[0m\u001b[0m\n\u001b[1;32m     23\u001b[0m \u001b[0mfrontier\u001b[0m \u001b[0;34m=\u001b[0m \u001b[0;32mFalse\u001b[0m\u001b[0;34m\u001b[0m\u001b[0m\n",
      "\u001b[0;32m/usr/local/lib/miniconda3/lib/python3.5/site-packages/gym/core.py\u001b[0m in \u001b[0;36mrender\u001b[0;34m(self, mode, close)\u001b[0m\n\u001b[1;32m    186\u001b[0m         \u001b[0mmodes\u001b[0m \u001b[0;34m=\u001b[0m \u001b[0mself\u001b[0m\u001b[0;34m.\u001b[0m\u001b[0mmetadata\u001b[0m\u001b[0;34m.\u001b[0m\u001b[0mget\u001b[0m\u001b[0;34m(\u001b[0m\u001b[0;34m'render.modes'\u001b[0m\u001b[0;34m,\u001b[0m \u001b[0;34m[\u001b[0m\u001b[0;34m]\u001b[0m\u001b[0;34m)\u001b[0m\u001b[0;34m\u001b[0m\u001b[0m\n\u001b[1;32m    187\u001b[0m         \u001b[0;32mif\u001b[0m \u001b[0mlen\u001b[0m\u001b[0;34m(\u001b[0m\u001b[0mmodes\u001b[0m\u001b[0;34m)\u001b[0m \u001b[0;34m==\u001b[0m \u001b[0;36m0\u001b[0m\u001b[0;34m:\u001b[0m\u001b[0;34m\u001b[0m\u001b[0m\n\u001b[0;32m--> 188\u001b[0;31m             \u001b[0;32mraise\u001b[0m \u001b[0merror\u001b[0m\u001b[0;34m.\u001b[0m\u001b[0mUnsupportedMode\u001b[0m\u001b[0;34m(\u001b[0m\u001b[0;34m'{} does not support rendering (requested mode: {})'\u001b[0m\u001b[0;34m.\u001b[0m\u001b[0mformat\u001b[0m\u001b[0;34m(\u001b[0m\u001b[0mself\u001b[0m\u001b[0;34m,\u001b[0m \u001b[0mmode\u001b[0m\u001b[0;34m)\u001b[0m\u001b[0;34m)\u001b[0m\u001b[0;34m\u001b[0m\u001b[0m\n\u001b[0m\u001b[1;32m    189\u001b[0m         \u001b[0;32melif\u001b[0m \u001b[0mmode\u001b[0m \u001b[0;32mnot\u001b[0m \u001b[0;32min\u001b[0m \u001b[0mmodes\u001b[0m\u001b[0;34m:\u001b[0m\u001b[0;34m\u001b[0m\u001b[0m\n\u001b[1;32m    190\u001b[0m             \u001b[0;32mraise\u001b[0m \u001b[0merror\u001b[0m\u001b[0;34m.\u001b[0m\u001b[0mUnsupportedMode\u001b[0m\u001b[0;34m(\u001b[0m\u001b[0;34m'Unsupported rendering mode: {}. (Supported modes for {}: {})'\u001b[0m\u001b[0;34m.\u001b[0m\u001b[0mformat\u001b[0m\u001b[0;34m(\u001b[0m\u001b[0mmode\u001b[0m\u001b[0;34m,\u001b[0m \u001b[0mself\u001b[0m\u001b[0;34m,\u001b[0m \u001b[0mmodes\u001b[0m\u001b[0;34m)\u001b[0m\u001b[0;34m)\u001b[0m\u001b[0;34m\u001b[0m\u001b[0m\n",
      "\u001b[0;31mUnsupportedMode\u001b[0m: <MetaSearchEnv instance> does not support rendering (requested mode: array)"
     ]
    },
    {
     "data": {
      "text/plain": [
       "<matplotlib.figure.Figure at 0x10c4b11d0>"
      ]
     },
     "metadata": {},
     "output_type": "display_data"
    }
   ],
   "source": [
    "from IPython.display import HTML\n",
    "from matplotlib import animation, rc\n",
    "rc('animation', html='html5')\n",
    "\n",
    "def display_animation(anim):\n",
    "    plt.close(anim._fig)\n",
    "    return HTML(anim_to_html(anim))\n",
    "\n",
    "\n",
    "fig = plt.figure()\n",
    "\n",
    "\n",
    "from matplotlib import colors\n",
    "from matplotlib import pyplot as plt\n",
    "cdef = ['#ffffff', '#111111', '#FC4754', '#4A74FF']\n",
    "cmap = colors.ListedColormap(cdef)\n",
    "bounds = np.arange(cmap.N + 1)\n",
    "cnorm = colors.BoundaryNorm(bounds, cmap.N)\n",
    "\n",
    "# env.reset()\n",
    "env = surface_env\n",
    "X = env.render(mode='array')\n",
    "\n",
    "frontier = False\n",
    "if frontier:\n",
    "    im = plt.imshow(X, aspect='equal', cmap=cmap, norm=cnorm, animated=True)\n",
    "    frames = policy.saved['frontier']\n",
    "    def updatefig(h):\n",
    "    #     r,c = h['state']\n",
    "        X1 = X.copy()\n",
    "        for (r,c) in h:\n",
    "            X1[r,c] = 3\n",
    "        im.set_array(X1)\n",
    "        return im,\n",
    "else:\n",
    "    trace = env.surface_agent.ep_trace\n",
    "    im = plt.imshow(X, aspect='equal', cmap=cmap, norm=cnorm, animated=True)\n",
    "    frames = iter(trace['actions'])\n",
    "    def updatefig(a):\n",
    "        env.step(a)\n",
    "        X = env.render(mode='array')\n",
    "        im.set_array(X)\n",
    "        return im,\n",
    "\n",
    "anim = animation.FuncAnimation(fig, updatefig, interval=200, blit=True, \n",
    "                        frames=frames, )\n",
    "anim\n",
    "# anim.save('a-star.gif', writer='imagemagick', fps=10)"
   ]
  },
  {
   "cell_type": "code",
   "execution_count": 22,
   "metadata": {
    "collapsed": true,
    "hidden": true
   },
   "outputs": [],
   "source": [
    "def heuristic(env, obs):\n",
    "    row, col = obs\n",
    "    g_row, g_col = env.goal\n",
    "    return env.move_cost * (abs(row - g_row) + abs(col - g_col))\n",
    "\n",
    "from agents import *\n",
    "from envs import GridWorld\n",
    "agent = Agent()\n",
    "env = GridWorld.random_maze(16)\n",
    "env.reset()\n",
    "env.render()\n",
    "\n",
    "policy = Astar(heuristic)\n",
    "agent.register(env)\n",
    "agent.register(policy)\n",
    "trace = agent.run_episode()\n",
    "print(len(trace['actions']), trace['return'])"
   ]
  },
  {
   "cell_type": "markdown",
   "metadata": {},
   "source": [
    "# Pain"
   ]
  },
  {
   "cell_type": "code",
   "execution_count": 43,
   "metadata": {
    "collapsed": true
   },
   "outputs": [],
   "source": [
    "def plot_line(env, trace, title=None):\n",
    "    im = plt.imshow(env.rewards, aspect='equal', cmap='Reds_r')\n",
    "#     txt = plt.text(0, 0, 'A', color='#4A74FF', weight='bold', size=24,\n",
    "#                      verticalalignment='center', horizontalalignment='center')\n",
    "    plt.scatter(*np.stack(trace['states']).T, c='w', edgecolors='b', linewidths=1)\n",
    "    if title:\n",
    "        plt.title(title)\n",
    "    plt.show()"
   ]
  },
  {
   "cell_type": "code",
   "execution_count": 49,
   "metadata": {
    "collapsed": false
   },
   "outputs": [
    {
     "name": "stdout",
     "output_type": "stream",
     "text": [
      "best_finished = Node(state=(9, 8), path=[2, 2, 2, 1, 2, 1, 2, 2, 2, 2, 2, 1, 1, 1, 1, 1, 1, 1], reward=-21.591173790832588, done=True)\n"
     ]
    },
    {
     "data": {
      "image/png": "[encoded data removed]",
      "text/plain": [
       "<matplotlib.figure.Figure at 0x10cd97d30>"
      ]
     },
     "metadata": {},
     "output_type": "display_data"
    },
    {
     "name": "stdout",
     "output_type": "stream",
     "text": [
      "best_finished = Node(state=(9, 8), path=[2, 2, 2, 1, 2, 1, 2, 2, 2, 2, 2, 1, 1, 1, 1, 1, 1, 1], reward=-21.591173790832588, done=True)\n"
     ]
    },
    {
     "data": {
      "image/png": "[encoded data removed]",
      "text/plain": [
       "<matplotlib.figure.Figure at 0x10b245eb8>"
      ]
     },
     "metadata": {},
     "output_type": "display_data"
    },
    {
     "data": {
      "image/png": "[encoded data removed]",
      "text/plain": [
       "<matplotlib.figure.Figure at 0x10b2ee9b0>"
      ]
     },
     "metadata": {},
     "output_type": "display_data"
    }
   ],
   "source": [
    "from agents import *\n",
    "from envs import *\n",
    "from meta import *\n",
    "\n",
    "R = -np.random.random((10, 10)) - 1\n",
    "base_env = GridWorld('pain', size=10, rewards=R)\n",
    "\n",
    "def heuristic(env, obs):\n",
    "    row, col = obs\n",
    "    g_row, g_col = env.goal\n",
    "    return - ((abs(row - g_row) + abs(col - g_col)))\n",
    "\n",
    "agent = Agent()\n",
    "astar = Astar(lambda env, s: 0)\n",
    "agent.register(base_env)\n",
    "agent.register(astar)\n",
    "trace = agent.run_episode()\n",
    "plot_line(base_env, trace, 'Optimal')\n",
    "\n",
    "agent = Agent()\n",
    "astar = Astar(heuristic)\n",
    "agent.register(base_env)\n",
    "agent.register(astar)\n",
    "trace = agent.run_episode()\n",
    "plot_line(base_env, trace, 'A*')\n",
    "\n",
    "agent = Agent()\n",
    "policy = MetaBestFirstSearchPolicy()\n",
    "env = MetaBestFirstSearchEnv(base_env, policy.eval_node)\n",
    "agent.register(env)\n",
    "agent.register(policy)\n",
    "agent.run_episode()\n",
    "plot_line(base_env, env.surface_agent.ep_trace, 'Metareasoning')"
   ]
  },
  {
   "cell_type": "code",
   "execution_count": 100,
   "metadata": {
    "collapsed": false
   },
   "outputs": [
    {
     "data": {
      "text/plain": [
       "<matplotlib.legend.Legend at 0x10ce2a588>"
      ]
     },
     "execution_count": 100,
     "metadata": {},
     "output_type": "execute_result"
    },
    {
     "data": {
      "image/png": "[encoded data removed]",
      "text/plain": [
       "<matplotlib.figure.Figure at 0x10d8e2208>"
      ]
     },
     "metadata": {},
     "output_type": "display_data"
    }
   ],
   "source": [
    "from agents import *\n",
    "from envs import *\n",
    "from meta import *\n",
    "\n",
    "envs = []\n",
    "def data(N=1):\n",
    "    min_cost = -1\n",
    "    extra_cost = -10\n",
    "    mean_cost = min_cost + extra_cost / 2\n",
    "    thetas = {\n",
    "        'A*': [-1000, 1, min_cost],\n",
    "        'learned': None,\n",
    "        'meta-greedy': [-1000, 1, mean_cost]\n",
    "    }\n",
    "    for i in range(N):\n",
    "        R = min_cost + extra_cost * np.random.random((10, 10))\n",
    "        R[-1] = 0\n",
    "        base_env = GridWorld('pain', size=10, rewards=R)\n",
    "        envs.append(base_env)\n",
    "        for name, theta in thetas.items():\n",
    "            agent = Agent()\n",
    "            policy = MetaBestFirstSearchPolicy(theta)\n",
    "            env = MetaBestFirstSearchEnv(base_env, policy.eval_node, expansion_cost=.2)\n",
    "            agent.register(env)\n",
    "            agent.register(policy)\n",
    "            r = agent.run_episode()['rewards']\n",
    "\n",
    "            yield {'env': i, 'name': name, 'computation': sum(r[:-1]),\n",
    "                   'pain': r[-1], 'total': sum(r)}\n",
    "\n",
    "df = pd.DataFrame(data(10))\n",
    "sns.set_style('whitegrid')\n",
    "df.groupby('name')['computation', 'pain', 'total'].mean().plot()\n",
    "sns.set_style('white')\n",
    "plt.legend()\n"
   ]
  },
  {
   "cell_type": "code",
   "execution_count": 367,
   "metadata": {
    "collapsed": false
   },
   "outputs": [
    {
     "name": "stderr",
     "output_type": "stream",
     "text": [
      "Widget Javascript not detected.  It may not be installed properly. Did you enable the widgetsnbextension? If not, then run \"jupyter nbextension enable --py --sys-prefix widgetsnbextension\"\n"
     ]
    },
    {
     "name": "stdout",
     "output_type": "stream",
     "text": [
      "\n"
     ]
    },
    {
     "data": {
      "text/plain": [
       "<matplotlib.axes._subplots.AxesSubplot at 0x135fd6fd0>"
      ]
     },
     "execution_count": 367,
     "metadata": {},
     "output_type": "execute_result"
    },
    {
     "data": {
      "image/png": "[encoded data removed]",
      "text/plain": [
       "<matplotlib.figure.Figure at 0x12f968748>"
      ]
     },
     "metadata": {},
     "output_type": "display_data"
    }
   ],
   "source": [
    "from agents import *\n",
    "from envs import *\n",
    "from meta import *\n",
    "\n",
    "agent = Agent()\n",
    "policy = MetaBestFirstSearchPolicy()\n",
    "env = MetaBestFirstSearchEnv(base_env, policy.eval_node, 0)\n",
    "agent.register(env)\n",
    "agent.register(policy)\n",
    "# trace = agent.run_many(50)\n",
    "trace = agent.run_many(20)\n",
    "df = pd.DataFrame(trace)\n",
    "df['return'].plot()\n",
    "# trace = agent.run_episode()"
   ]
  },
  {
   "cell_type": "code",
   "execution_count": 371,
   "metadata": {
    "collapsed": false
   },
   "outputs": [
    {
     "data": {
      "text/plain": [
       "array([[-0.629,  0.304],\n",
       "       [-0.628,  0.303],\n",
       "       [-0.627,  0.302],\n",
       "       [-0.626,  0.301],\n",
       "       [-0.625,  0.3  ],\n",
       "       [-0.624,  0.299],\n",
       "       [-0.623,  0.298],\n",
       "       [-0.622,  0.297],\n",
       "       [-0.621,  0.296],\n",
       "       [-0.62 ,  0.295],\n",
       "       [-0.619,  0.294],\n",
       "       [-0.618,  0.293],\n",
       "       [-0.617,  0.292],\n",
       "       [-0.616,  0.291],\n",
       "       [-0.615,  0.29 ],\n",
       "       [-0.614,  0.289],\n",
       "       [-0.613,  0.288],\n",
       "       [-0.612,  0.287],\n",
       "       [-0.611,  0.286],\n",
       "       [-0.611,  0.285]], dtype=float32)"
      ]
     },
     "execution_count": 371,
     "metadata": {},
     "output_type": "execute_result"
    }
   ],
   "source": [
    "np.stack([w.flat for w in policy.saved['weights']])"
   ]
  },
  {
   "cell_type": "code",
   "execution_count": 316,
   "metadata": {
    "collapsed": false
   },
   "outputs": [],
   "source": [
    "from models import BayesianRegression\n"
   ]
  },
  {
   "cell_type": "code",
   "execution_count": 323,
   "metadata": {
    "collapsed": false
   },
   "outputs": [
    {
     "data": {
      "text/plain": [
       "array([[-0.989,  0.76 ,  0.77 ,  0.497, -0.486,  1.826, -0.538, -1.144,  1.616, -1.153],\n",
       "       [-0.573, -1.471,  0.369, -2.317, -1.74 ,  0.08 ,  2.056, -0.762, -0.275, -1.649]])"
      ]
     },
     "execution_count": 323,
     "metadata": {},
     "output_type": "execute_result"
    }
   ],
   "source": [
    "X"
   ]
  },
  {
   "cell_type": "code",
   "execution_count": 327,
   "metadata": {
    "collapsed": false
   },
   "outputs": [
    {
     "data": {
      "text/plain": [
       "array([-1.082, -1.163,  0.963,  3.263, -3.969, -3.693, -1.08 ,  0.134, -2.038,  1.228])"
      ]
     },
     "execution_count": 327,
     "metadata": {},
     "output_type": "execute_result"
    }
   ],
   "source": [
    "X  @ beta"
   ]
  },
  {
   "cell_type": "code",
   "execution_count": 380,
   "metadata": {
    "collapsed": false
   },
   "outputs": [
    {
     "data": {
      "text/html": [
       "<video width=\"576\" height=\"396\" controls autoplay loop>\n",
       "  <source type=\"video/mp4\" src=\"data:video/mp4;base64,AAAAHGZ0eXBNNFYgAAACAGlzb21pc28yYXZjMQAAAAhmcmVlAAB0h21kYXQAAAKtBgX//6ncRem9\n",
       "5tlIt5Ys2CDZI+7veDI2NCAtIGNvcmUgMTQ4IHIyNzQ4IDk3ZWFlZjIgLSBILjI2NC9NUEVHLTQg\n",
       "QVZDIGNvZGVjIC0gQ29weWxlZnQgMjAwMy0yMDE2IC0gaHR0cDovL3d3dy52aWRlb2xhbi5vcmcv\n",
       "eDI2NC5odG1sIC0gb3B0aW9uczogY2FiYWM9MSByZWY9MyBkZWJsb2NrPTE6MDowIGFuYWx5c2U9\n",
       "MHgzOjB4MTEzIG1lPWhleCBzdWJtZT03IHBzeT0xIHBzeV9yZD0xLjAwOjAuMDAgbWl4ZWRfcmVm\n",
       "PTEgbWVfcmFuZ2U9MTYgY2hyb21hX21lPTEgdHJlbGxpcz0xIDh4OGRjdD0xIGNxbT0wIGRlYWR6\n",
       "b25lPTIxLDExIGZhc3RfcHNraXA9MSBjaHJvbWFfcXBfb2Zmc2V0PS0yIHRocmVhZHM9NiBsb29r\n",
       "YWhlYWRfdGhyZWFkcz0xIHNsaWNlZF90aHJlYWRzPTAgbnI9MCBkZWNpbWF0ZT0xIGludGVybGFj\n",
       "ZWQ9MCBibHVyYXlfY29tcGF0PTAgY29uc3RyYWluZWRfaW50cmE9MCBiZnJhbWVzPTMgYl9weXJh\n",
       "bWlkPTIgYl9hZGFwdD0xIGJfYmlhcz0wIGRpcmVjdD0xIHdlaWdodGI9MSBvcGVuX2dvcD0wIHdl\n",
       "aWdodHA9MiBrZXlpbnQ9MjUwIGtleWludF9taW49NSBzY2VuZWN1dD00MCBpbnRyYV9yZWZyZXNo\n",
       "PTAgcmNfbG9va2FoZWFkPTQwIHJjPWNyZiBtYnRyZWU9MSBjcmY9MjMuMCBxY29tcD0wLjYwIHFw\n",
       "bWluPTAgcXBtYXg9NjkgcXBzdGVwPTQgaXBfcmF0aW89MS40MCBhcT0xOjEuMDAAgAAAGD5liIQA\n",
       "FP/+98dPwKbo+WbLnUU9ITCK2PpIKL1Y7NAydQAAAwAAAwAAJwtU8iffrloEawAAAwPRXi//I7uj\n",
       "CbaN3CrDvAD5hoGR0/q7YWwpiQIt3BD9KpDJLNkXnloNFdEO8K7wCt40BfzfTp49CN2XXKFD80kO\n",
       "sbEMyvety8oBVAzWFJUtqM+ST60FCQI/fhOGG/iqivzyDHq0BRxi6nmBN2KYeRu6vEh1WDulSTNn\n",
       "9Rk/GVB5Iw1LyUDM3lSwarqI3ZwPfP03KXcDXPRTDTAR2a5iVC0Rhff/L/rkeMTdyv0wg/YDfQjm\n",
       "5jCf3Pcrh2cgXtWxvUeZsg5o41GysSnZOlPWXpC4hf4F/4NP06iVUV8f0qfLrpomJU2i34cxH46G\n",
       "DnGtH2pxAiRHnPY5bqE7uFpf5HP1Dn/vVYhZxwbbmSEM2zNBSh62i90ivZxwA3WuYBfVECLl9HFX\n",
       "Kziyd5aHfIWt/RPZGoYql8pfphFwPr5ka35fIfNlv0mujB67bDuSVySIXc5d9NACjCQ709VI3GcI\n",
       "dCH326OpWiCwowq+x0MSoJNBeELqH+5hdk2460PSQpCuRCplskAGkxwJQKOiEWagx3D1Y+aPkjoC\n",
       "YMXDD9H4ncb2ZfjVrio7rr7MSMimcGibR2bx/X1TWxcnJ6cw5w0BEsk5u0k6MvgQUAiJIoRyiD2y\n",
       "/rY73/mgpB77ZW+n2BpI+rCY0F0TXryCwbfQtaUbKlOD73WfwRxwCJMvX1/A3NjTzYnRDu8F39bN\n",
       "tsPr+3bHKSGwc4hgK06oV1RqWd0lmQsMjqkHMr4WbV5V+BcEbOlE8Oiumfg5317vDat3lQka5rkp\n",
       "FXcjBYUEZkqeBHMdySICV2raU8y5ptxueBauu/9R6P5oocBa6SwRNJ2baOZa3pcDy0lR9xBd9oOy\n",
       "J4oUQh6jzrJcEQpHpK4oj964ZtnDsGPJkbuOcXBCK/KDhWfaEDYClPREQBoK091WZkhLhnMyJ65L\n",
       "bFPztwiEkang4qtLgcb+FCMDE5eNu2+RP0Er5mQtgwwSNNDj4Mk9qhy6ARp8E9ep6Ngn6sJULh0T\n",
       "uZzD1nzJOxHMN1r6EjqXqZUz/RI+/AtGp40P8h//1J16bmvDx7GyMBweK+ebXaHduQe6WYJ3HIS6\n",
       "4mZNQv6ORDubxUA0gG1wo1DFgITq/L9SIHkQH5ikUsxCnR5Tekz9smrNDM+xzfJF+rPs90L3NIVP\n",
       "FUQXjJX0TxszWF/HfQPH5CprpkCWwust+4tRgTQJ5v4wl+8wsEPG0ptSysIz5eFItmz1Mwxc8OnU\n",
       "d90TxHs9UuxlF5C6Vrw9zio5YEY03Sd/bRNVJ02zutEHLGsvFcKVd9zCms+tyvyt7t/2lnH9M/S4\n",
       "Hv5pGcUcg7MroUL3GeJpmKl+ysv0blXfnqK31BhRRdGGmfX4rAmU0K+bE9b81qjcMHmseN/IKbC2\n",
       "qcr+gAQ6p5e+oo29Q7qpbEmZQhOj2s5S1S+vMylGSQhSt9EIJgWSzQJbd8EdtF1PXKk2ZnzwP8xO\n",
       "yEiZ5XDWeCf7gOptfYGgdIM/cGoMdrmx+huuVMfDn9KPtRX+Td2dJ7KKZZxZQqAnR736Vv+uIDQ7\n",
       "btNW6N6RolY3iFTRPklhxP2Pj5ofZAjG3vYq5+y2svaLhK/LpIQzkR88rHaEQP5EIo13eGvEAsnT\n",
       "tPBY4GMbdQFxxmFvZuBYpI4GT+t9naVLz9nGnXNw8rgSMoMhsk9mLibGoKg+AScWkBJzJykjG+Vm\n",
       "48gGmz1K+XULUi3KtXjj/dTYxO5ufL4iMfmWinZr+GKZarAcEJSgD2X4XKoUXCUlNkYYMOwKJFNc\n",
       "LJYb395D/lUCjUaEKvnRO1ELqfN2xYflkGYNb+XZeu2qluWxQ/RnOKuV64iSYpdYhXYSTq6FjI+E\n",
       "qYDMKLutVpdPG6YDgbt4y4UprQG5rKimsUzWTwVaSnnS0MRiF1NgKVXF3b3+sJd5gXNQ5ii6yQxl\n",
       "hBkiYymTeaMf1RUtd6RjoPWaHSt4cBlPcqlbiAJ8Vuag/zAQt7DruoCJaZiPqf5EBTKgLReTIrVs\n",
       "5peuITWJavVfzI3mFHfkExaVzgLK5TwtC29LyQZOet/4/axhUvGnHxik4jIaJmKh2xNzF6NwbKyC\n",
       "Xk7xAWKJUdD4bd/BLef3E8tgQ3mZYv/RrGMAphbo1in1Ob61N8xy+t+Yqoh5tpeGvEvEQEsqeEtM\n",
       "KzyfgFycV3CCuK4EhENmvj+Qt9NhpmmH7P3QCpOD2IBLBm0eWkcpBzLTxEB1IoRNE+DZxBTHbmsG\n",
       "A48seoDJYcMF0m2GdzLCWYbICNy03RdfJB/1R8s8szmIXvyVPwN/JPtFG5h+ZRxOB8SZvg85W2yo\n",
       "WWJwah52bE53ylHetdD1m1UpkDfESOFhHTrH1FzHZsaRVina3rvWQRIWZVjQbL7uihR7SVI5gOn4\n",
       "SM/uuazT8mdHny3daYway9oIFp54vb8ybQs0FVpaVOyyd2jwOOBB293/gDoq3kiCBFUNbh2n/wPH\n",
       "J9QdhmDU3eDd80kn+r8Lvp2XDWIsK7kTPGEqeVzTq1EpL3fU8yruJlfgi+tAxO/989R0mOwi4X4e\n",
       "JWj/bUVjRWPUax/PIHNIhWUhNvU21t61bub727xjYttLjqyGdbc0qFBH/KU9vIuJPofwcZbKlpYv\n",
       "9a+6DhNS7GnC6ZgDHcXmiMYzdx4CRePWaP0jZ258tCoEXRZ2I+Qh2tJUnxH7Ld56Yk4gfvQT2ZIY\n",
       "3wNnaegw0H2taPuCvniJluJJGjOh8BlFHPjX1tm9L5wga9KoKu05tZoDkG98rRNxoJjSOvxq052h\n",
       "5blCktloGa6Pl5jCW+FG1zlzcng+wPkiOS5DiDD/k/2fZThSOnXE/LST91mJofdkDQxcPOwCvuCn\n",
       "uCllh29aJ0Co50E1RA5JiST+zwDBGwDDDsPSkqbuJHkVyjwhonF2WDBJmBxdsdTTYLGggjhH0V9i\n",
       "58iYQu4CDWNLNh+51LPr+c4PFLAxzrhz0XTXvIxXzK6T1Dh/KavXmjfkCyOO/vQc/CTDFhHYrTp1\n",
       "w31E6QAZ1MRZE3q/RaP9Szjp4oVQF3nJhaCLeYeKerjGUBNRQAoxlqt/BLF4ywDHOBMhofYniMkO\n",
       "XWPrzEF1bSomkS62skJqGkcd3CwXvOpBVTBfMyU/+hwyjkza2CMIdR1UAJ4bTsHkblLk0xnEEhsE\n",
       "JXmhPwtPk0/d0QHQfqmv5kY/YwAqnfOaBysJczSpbYD7MuIuRRLNdklroBMuZwZD1XZI1AKlJ0Rl\n",
       "AnoarxCalw/nWrVspOu+cFastjnY1gH/NZUHg2hnSORH3nhOPcq+yOKCRbNyMzQRKHfPA/mP8VMm\n",
       "xr1ibuyhQQWk09J1OEyG2oV058uepc/oDVdt76RfyOXL05eojgs25vsWF4UbLK7olT+lXmeFqwJz\n",
       "IONTlzi1DYhREh2N4W+7Q5niKSrod4ab6YVIdz2K4f+gtPCjvNE7vqzDfu+OO2MEb2jQgNuGXq2+\n",
       "MxdDYy1jlYd7yCQPiwWQwMQjAL+dj6xetny9JNdCRriB0hvF5Cua3tio8QBt/Rl2R9PlEWp5xznA\n",
       "d2vHkjUuWL6AiDwB75Hl6F1cYA+yXMG3IjtIZAFwTkxGNkG0o3Sfo6sm8A0QZyyo5zXVXAXRbrgY\n",
       "QgaJnrGG5ZRSweUX5NOQ+MkxqieBjz6pB/1qgUdxhE2xmvuYbCLC8fq2Eb+DkyeBNzXKdh3R42D3\n",
       "t6ttytjkALaRMXUUY9pLRBrZogexP76W/HZ31A3DLswzMwdhxzpgKMFDuY7GX/NqbEehuT/1ccY3\n",
       "b3FMIVl2Q3u6Y7zxaOPlg6KGcnTGMS0Vvx2xCn2DWwm2MKNFVPC8PJuMzY172i551IyAy4ZJE/8r\n",
       "P/bFLfL1SB+K2Kbloa8kGo2ct1cr7+sOWuwdNJ7twk1VU/6gCTwAzpGZUng9+ztpebBvbKs9cMK6\n",
       "BVHzBsdGs8e77NS4ZELiUimJ2minQN3z3Z6IU5wvDR+yDBeHnbdycquV7+Ny9ofIlTwF/gyEOcPh\n",
       "XREl/vW/6rx/5UxhPbmhAwdTZ2sEXTE0ZU3gCH5rNEZfIrbU6DUvj/2OM59LGLS9q3YhlP/NueFG\n",
       "CNNc6Ua5k713RHpynjGcInt4W/DaiGPCGTJ47vmbAk81QXFiocsJndU5ad0gA8+wq6DkVsHtaVpl\n",
       "a5LFo+u2hnCo6fgqbFE69hfvcnkAIojaty7QVBSS8/LAbQ1GBHmH+G9/ktg5vKBIezbhyq513K84\n",
       "72PrcHmVXJD28Qp4qd4eoOTwFu9DrPwC2uswLE9Z2Nw3uOqa7PASQX9X16FYlkcSR6xhnHtEHZoH\n",
       "t2Mgw9ia1b56VvlbaaHkZgIPy813NMxC56iZeYtkVwqHPUyioTsaBa0YAhffG6Dmsym1U3n70i+U\n",
       "wp95iXfEMvWvb4qcXs+7meqY8Q0k3bpOBKwAACuBYwzTJsH+GAjFjJvALW9DE4S/3O2oB34HyAMb\n",
       "Rn5OtyMMoxe1EykseyM7AnI6qvn53mNDMnEDRuOszKvWWTQ6AADyW+FRrqjIDAqqRWqeRYl9b7vk\n",
       "FfQwHENmE+3sAQc2AwOeXoSLIUDQWza8T9ibiJCy7PbdlB2p1SPQIG2WqeTNgJjhYUliXme44+Vs\n",
       "icFPdzF/4v4rJmWMoQ5/wWctQVjuRNBc3Nm769hDy2Wus12RuznJqw4ycMO28ODaXKdX8pcDb7S8\n",
       "o2nYHF7FfSP1mFBO73SxHEAILgiN/QZBGWkp+3/CZl7m843F/m72+HaF3MIv8AEil5QlIm7Mg+fe\n",
       "k0aAK/o/lBNv3qMqOjAO4UDIuUQUmHYJTFXXwZaEHkpnfpGqS5Oqn/AvjQ4XWt56ThtILwmXPelq\n",
       "sL4i5sNQ+Y3AC73SnYRO7kqdaETLKmUbqdlnt9bQUrpOuIFxGM+acc1hssDCDsooiwKz2hpYyzqD\n",
       "8Ncf3T5wRpPIbTc12hfmadETWp66f2mJjE8LZf6Zk1FKV4AmWMpoMYkMF64jSMPePxNCiYePeMKO\n",
       "xJdy4JfwmNTwXm0Jb4uvDQqCpzT7IEjCtR9/m+o4jwW0SndK6N4LauBf4zauwlf4f147/+BbXL4y\n",
       "oWXYDs2CLZk2KCxg8wheKk8x+rN7PGyA0QRVqG6mKEP1aFbEn/Dym+CmWfY0+CH8Yct09cgLXqNT\n",
       "nnk85u6AADk0+sBs0UD6NMW1v0KbpbNhjeKixHCMN3Pi2AssODoQPLCAaennv2lR+00LEeRXKCKT\n",
       "L5G2cyvMPVZogKujpxd9Uw8zp533RV32eEDe8bLJjsydLuqWW9waazT2/31yr2ekmAT8LaTmpMWb\n",
       "/9uGfnn0TYbMBFKrGPWYTU7GnnMNZn6l4GpHTe5CPyRwbTIg3FwRoAHKsaf6oaLHdKiXq459luhe\n",
       "Oy8r4h8R5O1iaJXqXfHz5XSh0r4TG+b6z7HFeF4vRKDESSmOle5iSQ/s1+eRmGFnIFi575ludUfD\n",
       "ev8rdL3Od6SjjSs8qEmIf3jSJoxO9l4JuzkeZs/FjEYe473tfGiMnw2deIsTZ7LaJvuxEFjugXG5\n",
       "C9tv4CPxbZ7suqciEQyBMO9EiIW/MNQ4yHHa0a5MFgqag4xQIqljVSpvBnZ0evbr55oItJgf1rxK\n",
       "zxsWBS9Hq/6A2MMgfhaMFbOz/ZRR4Wx1yAl6UHRIIAjBwN7XBdDxI+QXxiKT/E+1FxqUg4yo/ZMt\n",
       "VAayvuBJDs7Hi1r503S7137AWMFzxH8pcjDNWejsVhlwAABjYSOGeNk3/G8JS4yytT5MpNvlSj4m\n",
       "8SqPT95aMLOFcyjjtMhHdWfAjDSILRv5uvVfmxLpmQc7PunRZgedEBUlwU5RfEv2cff/dAuPAetb\n",
       "0nkFEELLYuIJN8j3k/yIXWjqtK3pgMLlA+H7KzF0nJOa9mlSWSbsgc+BRYCqBl+YcXXR1XfDTVnt\n",
       "LokprjtEusrYp5vHhFyT5TMaV2b7WHcqhj/u+Dws1casLEN6a8V+fgZx1MOYHbVOm3lJIlm4B9OB\n",
       "w6ilJB+vx/ooQe7YBGTX6lrr4z1DRxHMt9kpjnXFC8nD0p3WDGeCDatOyAZcve0qfle7nBgKkm+N\n",
       "Ez3uYjwbqJ5jv/icpfmhTd1hFBslN23ieAKOi5665clBnO4+ivKeOG04ynKUXw4cdYFCb4zSkKjC\n",
       "GsxG2wo7lECYx94/KzjRvtyCSktznbQKtkcbYLlPNcsWy5PClrb0FGmpgPsPnCCti6C6Nu29WLJE\n",
       "0W3jLVszHlLBBfyNRIFnCdAnmSERhf2DSVqVQgm5otF/dK04CYbtQwAAKUT6+3yOLJrCpgBwomnm\n",
       "vMkbjoGA62/Xv8D2SLuNI2k5aiPsNxsvDh1tS9N7DhsQHQWAlSNk0F0jVB8TmZF7CRhbrINUvQJA\n",
       "qoBh0EIm6kBw39SWvnU7O2G5yTD80jqa0hwACfTke0GZ6h5wL6W1q20xYzJfdQmVxu360CkwXIkf\n",
       "MvvlLI5dFlR8nyhFyP+KsRXKERH92tSi2Ko+JqUuSrJrgykkpnW0X83vMt9aV7Lgo5bURRMu2yOA\n",
       "ARq8dw1Ok1Dk0WMZb4dvQFEztSfNERSx867nz4ps5yhHWBCYz4OeoqyEDNs/4Os2nZt1IXHdXbWU\n",
       "DqBkYnIflDdjwxqdGr4xE342EwEySTWzLjnZ5GqyAJxPXn1LP809o+lMhF+duNhF34f5jsS2BDSA\n",
       "ScUycCTEYYaRDjtF8oULTz1mv+se5CxucE+J+vNr8NePiWg2fxLuAUZ3OVQqV20vS/K6khDG3jxV\n",
       "l4foBXVqJRGeHxKBnzlLttbjbwxjgghhZhqBYVBaRjweqB8eXLkkn/IGKGkrj4YY8UClYB9c046A\n",
       "pE6IWqPyFehRKVc83KOsLgSWQLDQ5TYba/gCJFiEJPNESntj9+i2VPbtWjuE4Zd/dHqO4PDzyk9q\n",
       "SpVUuhMI1My/1uM+EQllm9Ea8NtR8Z22o6Ok81lFc1Qd9BavIWjziXlQlqlEl7bm1dunUlF1AUfw\n",
       "zmVQGR1AQE07I9kIfJqQl+ZPAAB72xv7se5dMKUdzQj/9w0J7v5DdA1bMAphC5gZcXoe2kBOHqW4\n",
       "fmlTnqcw4h/uiH/FypACh21MDnWBuSXbDO4UlSFzrL8vfqtUdDzfGOZFs6/23pjQ5MzQTmwi6Cqd\n",
       "15mUHpFsTt46IgNNashEle48CF5zJ7cAT0u2nuVPbbvQ3ajbLcKkvPBMvY1GgXQO0/AlWPVPFJep\n",
       "005sbeqr1WII0JTpQaUde0qEgQN6oQFF90eMnoREXhvVRjP3D+VHJnGMEFiS+08WdEaM61Q9rohW\n",
       "Ozhq/xlKNOxHVEzu4OPXz9dbvjmEvkDvrCMGmX2Bw0u9caAm6zLGhfkaia2s2qjYO/mafhNB3UwA\n",
       "OZ4q6cOzkI1kqEtviYhcE7KCjFKeHyg+OSu+vZrjAsq7NdLmwmT5Ccyw9+n1tVKs3AEhXB96wJSc\n",
       "+1Fo6HnzZQA4j1XDeD3xD7sQjAPD+Q1RWkBNz/BiSKaC9XewubvFvGJGy7OJnoTAmyAdiRjewXJI\n",
       "ITVeCDQSclzRlcq/z53wGInMmYrkHU5oWpvwOYh1lamU++92j3sI5PitV5RmcWs5Y6WtjqkF16M/\n",
       "MZL49cB1mAVWbNvNs21QQx7gYe/iyLZ8bVIHYtbRM6WnxIQJ5VTHEXZlhNFMWGogAA9gnCvYjvJv\n",
       "2xKnCQ6AIq6xd/lt4F7eeJ+TExtSBplggGRUwp7jxCwyDKOlCREzdecHPU3WSU7DztNDNadj/DoY\n",
       "o0fynvZjzsssb6JN05URYF1ZuHDIUkC5Vye3Tnwf7tnFXHbqVhrDEVGisVy4oqJOawaizFxg+UBo\n",
       "+Wknec3bJ0oBGcpCxy9KpiuoSg5X6y9k6zGEuCKB4euEaRu/xJBnLrkqvgRVz7lD4VzCtTigBo1p\n",
       "n0PVTPhSvR7oJoz6Gw+H4Yk5cjV5ylgpOnLwEG3VXGMcl5BLyzQ0nWIAeEo3Y+KrVSMjTX8Pz3Ne\n",
       "rcB3CZv0VbagY2pFeHzjlo267IIrJ5HZP1/xiL/tZcS96MTfZ/kgfNMqEVhjJfBfjLJW21KlZRoW\n",
       "MC7i900911DHBQyW4vG6+vTTe2SJHpkMthF4IiBRJHGDB9u5didGVex81ZecCUztj6YpN+cZItci\n",
       "phChwnHp2paPvpGDwmON6NLo01QmZ8dSlXVpD/fKBQPWKAtRAw8YN92m05kgw6zrCNGAoiZv1Sf9\n",
       "NTQvXUTvhSg2kgyJNAFtb/uvBlWZcjdtV7j5NgU8rWyOOar834AAAGnKeyABDwAAA7RBmiRsQU/+\n",
       "1oywAZWvrB5+25UAYN1498lH0cGlQZ2/e1UiAB3Ez7gcB1N7yOxJiC0F1DqPrSsLMonQhixrxZtT\n",
       "HVUIJ3/gCuBpCglI6Z5ORml0v4/V231db7O62NQUe7Hby3sEdSZTBrrsYdunZ6YshbKJCjHmxo/a\n",
       "UjwR8rbCWLdsMH3GVptBLQ8W25jElhQCb+xTcszqaoVfYAlW7SUBTf3A2aEze4j/9vBr+mU5OZba\n",
       "MODPeujf1uO9mOSD/8bvnjpJiVt/pifqD8V1FEAqOYJU56xMWJsDgBqj770DhVCNWjw09O3ykEu6\n",
       "x2anBiOyXwvxk+jGXR7+i3Q7xyfbTWp1rvFFRKsztwCkTitEfKizHK7k85BvALuhN3QWw+/zX+oL\n",
       "LKh0QimDaq3Bn0QIta0hZ+9b4szses+wSDUv7ZZ0TjPfarBCXX1CLn3LUXNvnEJfmsSpIpdPKbGw\n",
       "p9fdPQUThs7SkE8mFp2vCm63FA5YFO54x80053An44eLYjGGLHN0Fl7N+I9FfUjzTxy/S+cSSdny\n",
       "e8gYJK5YIT7HE/r5j03UDEVM9uh9SnjtdaMSRcl0vfumIuFXzIV7RDSCeKte9SrxHOWpLSO/1oXI\n",
       "OvlCVMqT+fPdqdeFKTXo0Xw8PjqogUyNC1doyX3FCrzVpkMfhNRALF+ggFvnkEFgVfxWrwdBpuIo\n",
       "+Fjv3Fqmtw5Tj3yXplX1ZyXaGahRKd23jvRB2rJBZr5p90SYWA1fbwg4Un3yVsu0wPJjmzb13Qx+\n",
       "jVwCyvFF6ABhJjLBcRtrqoBw+YyHXUuQjZw4iJkiqKKHfG/mv03fI0DKPts0n8uV/rG06zkbFaMF\n",
       "/WJFQaRRwm1bAorFpkUJWlVrAaD3ByWF5mMbfCRuL59ydXiug1I2fsgx/hG0mCZpYmQ4nUZOSWhf\n",
       "3f5ocODuImZpu40i2N8t0fXxxpjfeADqeEU2OOOc9quJ+EP279nsveW4z5K81CAo5GTqUO7IRYLS\n",
       "rU9nB4p4fbwx9EJqrUZxqUVLvvOlDThUhWAJeAy0hDSg5jc75jYISPxx7tMHsI6yUwwf2aobZeXP\n",
       "F4Uag6C6vRrIQMgBe5/boLYrWfjuTLYHFSfIapr4BnZE6g6BNy3Xl7ZTq0iTfFPBwO6G16SAi6Ny\n",
       "UkLuhIyuCmKxAYD5C74cAqzDCkwv2DLtQOd9R31LWqLF/XxRN7oDG4gXQEn2dHdqYxFb7hxDrlXD\n",
       "DtgCFHP/qbIJos0eJ5Gda33MD4MuczPtEgQ8EbAAAACfQZ5CeIIfAAeWe4OaADSylHU5TeAAwQue\n",
       "1G5KD+qR2Tf4IVZDTmVIu9tUCv6ro7DWun+vgKu4vuOJ0k6XNJgv+u7IdxDiHcDtPaRBKkGG/92r\n",
       "L52IKCZoBpfNVLxzGT6I0UMIdL34IQsD8YpLjiJ3a/3o0WqT7dgIW8yGui2UZfliPHsgLzk8mtam\n",
       "JuCHXmOozuvFlDqAKEMB0zGk9+EnAAAAOwGeYXRD/wAQ2MuP0fljnAviHDCCIrNeYFlM/pkWmy9p\n",
       "wZvXvrcABuPG+QH+uhBPQWiTQoGYt1VLFA6YAAAAfwGeY2pD/wACsk6lnLjF2I0m7z/SG/l4P6+A\n",
       "E1fHmVRe3J7FSx7xqu3uOtjJiWeASWw9BMtJkIj242mi7flcXRBJV6geFVcNg7btJF5Y66Zg47vW\n",
       "hFK7N4xcBue7hflkmmwbUOBOmEsQOmm3batpKpCaXYMneI7tRQ9q07ZwOmEAAAMVQZpoSahBaJlM\n",
       "CCn//taMsAGKsz5JYn//bwzVgALVXp0xeJ00y81i3ELH7HLF8dB6u546eCKq/giTgS/6yMj8QIpi\n",
       "y1FNhQEiC+4eCfhT3gqBGkmwdhH/MZGLum4pjnVPJUJm/okuU9jgvG/vAH9A8e45yrivvuiPmd35\n",
       "zl7Lhxgn9ew1hwCMARflcCrXcMushdb7nBhGtDpMAoD5WxL1tgQoQHcM9ek+FiuSNOuaeujSSYBC\n",
       "XqArubQ2a0gnGjcw/hAJex1EzoJ73LIgZbB7cX1TnS+v5OLgOcMAlJjMCHiOrntNcz/BesFfnugB\n",
       "9+Hxh4Fk6rYsx8J1BtAbUh42VthJX79KNon4tVIxnrugDPK4YhF3Rua/+ISZHxu9KAtw2wYC447H\n",
       "ZFWExrG3N4ypB9JnoRg1WMMoL855DLArYqPw9JMrZMX9aLYAIaxtpcRosnI5xbKVtCjWkEN2roa5\n",
       "9HSMri+wIUAG5+iZQcul2YcKR18PZku01qzE+Tmo4tN1GFR0wcS4kTl4JON8b3GEsn1vEuCbed2b\n",
       "QD0xf0uXbrTFovgqFcpqBLZ88kQIGmAV0djhNh9++fFL8VJLsaw/vFH7SGyiIHlrkO27H2zWFEZr\n",
       "bOdhrgFzUjWuCBiWm8ZBUX9U6hwntA1VIKF2LpLhwpkqVlzOyiHqBBiAoYW5Xe0ntwFBHGvtEdyv\n",
       "Z3U/i17v49AAg33XjiDDRVENTQbTwbtYnrZLsAIW8Qcgn0YlCBhbdRg8AkZV/PiDy3PZv48vlnzP\n",
       "pF6ixdvvNgjaShEqiK3AvHYkFxCf/c8E95AcyOjBvnBlvjckzGg43D/PH6hOgdUZLbf4HGKJF3zP\n",
       "iib0GvaZj6jnYJpwEPXSvri1voZZ/ADsM68fWcLDS/nYWB+/DiIaBadbBH6L4r/zeegpFqt7bf1W\n",
       "ghY2ReEPpkUl4NkXK4i70ukQWeYcxpy0E6Y/96k1Le4FARaQfnuV9zLVRd1ZeJbYEvdmMztMWYri\n",
       "tHseLJXm+A8tQG2KeRgH/GOlzGHAV1HKfjYxOv4gJaPNYAA163wpAAAAa0GehkURLBD/AAaW/uoe\n",
       "efMk7v7rKgA+LOgwqDgjANrOlCzU3AZXVd9xiksrr8Vp37EFpSY1cfjJftgoI/luXKuiGGOA6DG0\n",
       "h9wdhJce2/zXUPkYiVlO2rUFJ2nN0qXwHBINzjnGAJO3qgj5AAAAagGepXRD/wAGb3tEEgQAbD5c\n",
       "8oooU5F+35GRAvMAH8IF+W0R6QPOzwsqV/JiHHj8wq6oHo0d1SrXS1ZwCWHqRfmnQZbacq/9WSye\n",
       "U4OorLXL09d4xDTjIZPXusicWfdFuNB0xbxeO0AA+YEAAABrAZ6nakP/AA80swACT8QkHi5gFv34\n",
       "/BXEFnfsGvd0ojDRCSfYoSUW9+HbFyQiUTQEKlGMN68b8eE2LaIIo6QSIpyLycElztVcJr1xrjWr\n",
       "RnyHEpDDwVts/dobKB8H7ib56Vjf2+tYZyAAB6wAAAJrQZqsSahBbJlMCCn//taMsAFcAz5QXW/7\n",
       "sreFEGAPvX6LURB6YQGqkretx0c5Rx9mbT9IgaOcRzA/sfallq+LXRddUi7dcWoMN67aOBB2lztn\n",
       "pfoDTmuTTMW8SbRLuGoWgyjY/bZiJ8kDZy6ET8HKM9kWuCNDhWDbLfxEMnvkqET/UBkSJPjDiA+O\n",
       "vkmIyU6PJnePpWJpdNaUv9L0aRO4rqTZpwJF8sUq20jjz/XFgLxDc8VKBIv/7SYRrepsLkl85f/8\n",
       "bjVji+Oru8xg5FvxoLuCDCRxjScSUXcQ0CvZewYwORQovMHLbrAGNN6RoxbH6TtH5EZk1Ni1SuwK\n",
       "8jQjUJm7VD/6Xguv1f72cV/WPFQQrg79JXmNzKRQrkfJMdQFF3YhPQ4i5agVHSxBSVgo5Ub0R60R\n",
       "N37n2MgXPR97xRt3Ju6shy2UxMPProY9VSZp+4CNL8htWy+UiAOG2ZQug6/O3Qj8KVViWH375Q9J\n",
       "bwWETKQmFr0YcRFvgQMGs6oSOwdCGR4YeP2MzL/Y34r6u9paOSrLCg0v95tP4HC2W+R3wRKRMs5q\n",
       "b0wngK6AYObb4JOCJ6IZlzdcsgD48DrTH/ICSD5jd2IWlwIauJ8ZKt8BEJfIL76tzldhKDloFfZj\n",
       "8l8foBBj5mrB5+PCrc41CghNP59gyPcbsM+l1kUcgLsk2MYd66V3lAkStnGsAoH1wDSkQQAOKOOO\n",
       "OksmTvGCn8PiT8U6jSk1kI59sMyqEq/TotoRdGMeHITjFAT8z8I8doo+7zBKMc5vNQzQsPpiQ61U\n",
       "pxA9/18ehz+66s6KoH0L98+xQQADjBYrhAAAAHRBnspFFSwQ/wAGlohJApRqDVCGdQV/6dFka4cA\n",
       "LW8A1e1pfLaxYMv3HQOQT14/1eHbEhxPMc4iKCrb0+tw728fUr4OMHiT4Hd83Q9qi81g3u3Vmc/x\n",
       "r5Gu6HX5K8u7AlbjaYt7ft/TvuSEKEZrtACd41OSsQAAAIUBnul0Q/8ADn19sZ7/94YgBAAuUa5Q\n",
       "maflg8BBFwoW1HYcPoodcZ2ufs/SVI72GfRlofMzzQme7n49OfEYnzAVt9q1zVBBIgKQvRV7pR9/\n",
       "WFOAclhPZGpDys7/27FFFN+PgWd9ZBgM+maEdpycyrpDVGw48kdwejwqM3/BN6KlyXF0AARMAAAA\n",
       "fAGe62pD/wAFiJ4afrC5jtPkms4X7d0LX/ZoABxvhgvIo37u9Q0miHZp02BdqRzDAxkVy6A1dE9J\n",
       "xPrzJKU+BcHv2o0P1qokz3ufW0JzD0QhhKHyDc2Xa540Tpl6AXGkjE1olDShalrVOPTsVZo/DBrN\n",
       "A8i05Szfg2EQAUkAAAMFQZrwSahBbJlMCCn//taMsAEgcjXACMt+C8WTZDfaHlPm2mJS/auumJBe\n",
       "65JhHNaCJoes9GuGLo4DgABnwCzpvJrY/rpAaEaqvUDWulT5VKFYyCy7bBWft9KB1Qz2db/SLm3p\n",
       "J/MSOd96BCAQTCKZ6PsnHMKHemOaMVchrg3hJR0U/9PgNVJSWfOVXoijNDbqEZut5JsZKXs6d2g8\n",
       "XcmnngmXyY0WSuRBib0q8tVM1FgrqLPgK8Cz+KcG5QHeWRpp7QkbawNash5TmPRXgLTFbD2VihXV\n",
       "tJX1/LQZNmnwyT2GrpEOL9CzncnBCSTJJovbraiHNZCLZDkxBtqdtEC0kDDWHGTb1St1n5X388nW\n",
       "VdJlBqoJMbMHPtgMtVU++TBX5EUE6+w28wFZuC9eQl2XwABOffrdy7IlSkq85mKwTgK+QHRTaCoH\n",
       "1JmlPjqBBKqDvT6lueyeHOtWZbgeYwEZ+HwNCaTsWkBHUDyG5BS2K+dt5i3P7UXxDtLrQiecdeXZ\n",
       "47i5eBzJkvFt9eUT7ZHVJz5YLyEF16f66cwYdJIGs6V1TlJa1f+W1dyQVNng6QMI/FsFOVLqwujz\n",
       "kvmbv7hXnDsXrMbTnm55jsgLIfzbmpdLAh7T9nA4HR7rNouDW0yvXFu/xdQDjkdyfL5G6+wg/3lm\n",
       "sqOy/vwAapMB1rWPoUIBwNDHabMwi1G5aQV9gvtwxG/PIb2pfvkLijeS81lU/X+3nNNvHxgOv9Ac\n",
       "wT1HH1usa1Alr8OuWExX/I/SVgDYxW3trOaurBxAN+4gZYVs8yo0Z70eehs6YwDF0u/JljUWCa4D\n",
       "NgKbh13RCXSwD6zLg4lr8pVJi5aUUcYv1PcU2MeU6guLZx94u7MF4BFDkYZe+SroeIcNEBPtFZXP\n",
       "iIfPZvbTjiAovJY6HT3MywoA4R8GOuxpjkPt+JzbVn1kbL2VhxvYAg6B3+W0/VGC+AJmacDPMMGr\n",
       "2e6ZbhCMaLkT/vokx5CeGoeFiv5d14PwNR2dhlCM7IvLhbrkebPw78gAHu6oumEAAABxQZ8ORRUs\n",
       "EP8ABYhesavWLlWiPDyvj/upr9eBaADV3jvq29/L56u4putQOBQlwUf3H9vGB7AjC2oeqH8wO9oC\n",
       "bbweAXdACAJGEiAT8F9+4aTNmd0g5F4EFDJfMmwLfU+Y87VZq0fTRoAZXEABimZuGzEAAABnAZ8t\n",
       "dEP/AAT5S1gOr38Te0+UeHKQcDR+qG+7oAP4QL8jKvPXlg3jYoMAvHEjSyqAdBeDye0vfw7gVAne\n",
       "nMkY5DFEGgyz2TDKAWSymT8HUVumt6eu7Yic4yGT18uDcQfm0A9NoAABUwAAAG4Bny9qQ/8ADHEC\n",
       "/1ZWAHzQAkoNKjVRkgXy/qZMBZbjuF5RfL8Rt3DTv4mHhds4iIeIOngukW6FJM6J2MfYolBudaEz\n",
       "0lYIraa1MhAfcBuFeMXWIfwQBAOr3luELjys4Vpv+pIuKmi0PZ2dwAB8wAAAAVVBmzRJqEFsmUwI\n",
       "Kf/+1oywASBSK4/BOQ6QAXz008YxjCXoeJwKD4/6nkE0WauAJOZvA9eBeW3eomnCJxBCdqLH9925\n",
       "ljHZj4L3KrOHv5B1lmDLcy0K7tC+fRMoLsAozT8MCUjV9vLsbTMCccsAHI2UBbK3gbXhUEcXLifW\n",
       "AeBiqjW6yDnOcLD0R66SLQgAqwVaglqYx+JRuaBOgbeJIFDVmQC6njKjKXgPpPfs7hZpQ1DJ7X4o\n",
       "tZ/Cp2mlsrfAHk3D8AtAC0hKBJjiXiRY0TGU0D4+/FJmmGEHlob72oTUrKQZZrLXSBYHKazg+Nmd\n",
       "Id9CCTxZJ3f8OmILG/tyK41/mLu7pFwU3/aATrOMncftsrV7JOirlH57g0O5j0RaAADH6EXqlBVx\n",
       "KjYEFdnjgnOtMgN/swERQ+JkAqGc84C/yr3Ab6tkXSIzBxxP+/fkRFwALMWosAAAAI9Bn1JFFSwQ\n",
       "/wAFh+dNGmbaADN0SLzvEk4MfOzI4cGysYWxgTFc+nxjnSZ6CudiVGqj9jURUkRunyoAzYPxQ5R4\n",
       "tjEA46mldFWae2RyLuWzIEHlxcbKQ0NkNmY38A3zF/OLOvU4BCtsPSLUfz6TxkEuMfoPXbsqKXi1\n",
       "P7tceOQt8n4p5vpr+ABcwAXt39zV0wAAAIEBn3F0Q/8ADD3RhAgRgBKo9GR3xKoGR2TUT+wzdtuq\n",
       "bBcDOe96AHM2BiGGNoCqQDvm1ACuf8+WB1bCayRYMnInRADwduBGzkKnlIEfylv2nQdfGiF3AiHF\n",
       "PltlONGBp/AozhltHyo2Ek+igHnPGvIc7tVLt6g9q2hUZxa29xAALaAAAAB+AZ9zakP/AAsROfbw\n",
       "z/AcP4jDJ6ABuCbt8Oojp1mBi/XhgQtdNZlLRtPuyIFODM3rePzNi6ZQBfGUZ67LvX4s+BvP6ZXX\n",
       "NiC7XGTANf3mQQIvZNBtzIq3k2rLvOYljh+05Xwo16+jxImlhf6BZzRthanupGmMy8EJgB8gAHtA\n",
       "AAAB9EGbeEmoQWyZTAgp//7WjLAAkDjrAAvp6LJe/qdpGIpH1FZVZR2A3lItyvi3vsbNfL5dIhRC\n",
       "RJhuzI2BQoJedo4AsOxchOCidhPELyveVZz9s7jAoJwcVhmsc9bTT3nb4KenBL4AeCLfsrhgsKl1\n",
       "Y74K1cZDM/tBZDMamrt6i2wx/V1vSOnLJ2RNIrOUg54P8CaFj9lLNBokJCoUMHNvJR5e9arvIGKt\n",
       "2nwJsZxfdzmjxHsOfMwcpDEz0RK7+utJp3pxwFIbJkxtAngS9MlAabewGZFnMJzkR6RVNc/Nm5zs\n",
       "vd2zHaxO54Let0hBbHhhH9jtmsyUubYiTy7+S5p+lRh5a3+uorwUnaOMYUqENZKCCufZu8BwVr7m\n",
       "YV736Zlfm8nhAGLV2DTZrNk9KFjADPrChPCGAewU0c5oiIztTSdwjCqhgRDVZuiLIWzVCpiqfLDm\n",
       "0WVXosIwNSUzgsszzGVQEYvuETIKJi2LC0jA0dog6LtIq/DjOL8Qws09dKSSI5ItLEIFPd/g/ZYP\n",
       "/gmvsPdX2Uk6RafjMeHkldrH6u4wlp+bj1J4jtkorM7/QD3eNlYME6DcN53sFOTihhjpPw6gbFqy\n",
       "/bxcaUUtIIC3HK7VsKIXmDLoxfTRcTpz9NwTkBvvHh0i0GgMWdQhJkW+yh4MoBLxAAAAmUGflkUV\n",
       "LBD/AADN0PujoaH8x9etp8aU3+TifngAuq3k0f+w4POOQV+LISvwXJ93QdVxSnAlBFaXbwON6ccH\n",
       "mP4aGBAh2wCyoKbtIbmeAqKXGFsoHOA2ikZI4RZWOKbDjiMeDlSoOz+lOKBmY1EP+e02adI404x3\n",
       "EmefQHQCmh7QMbPCrGtQRxhQbh9iMAoa7l9aZgTZWpSPgAAAAHwBn7V0Q/8AAFQFxhhz+EKWEAEZ\n",
       "XShH6OdHV7BVylVWY9DCnWq2bvALCwx/R/1QDqLU19yQMf2DGZTWrg8RHGqNXBDydx2Sgnv6Y810\n",
       "cHxTCZRy/CniMXJksmJz3Kwwa5b50fXEop0Oq3dTqttkKA1XY1tHOxA0eD9BAApJAAAAfgGft2pD\n",
       "/wAAVBH33Bef/hO9LAC3raa7BB5/0r413tZH/OC3J45K6k25uRyJUMruNIvXcw2LzgDzxv1rXhZE\n",
       "SZeRSOk+ArWFU+QVA80OyknBYqkh/8oSU3vRUFP8JL8DU09Y0/ABU6Pq8wFzbIdEF3gfbQ5RpfbU\n",
       "hGnpFgC7gQAAA/VBm7xJqEFsmUwIKf/+1oywAJA46wAL566aGx3L8aSahbbHWI+xGoBnEQpw5Wc9\n",
       "u7Dyjme5G+/ZZr5c+Oak4/W5lAQCrUCxU5BJx8rO8Pl0v98s5dCUr/SqDvO+OcHIa8l5M6Hm/ulu\n",
       "I62MBounCqQG8LjN3Rmvnz0g+nKMXGFCESnhhD+f5Saf9Lzy+/SmP4aAfJq7GMbd/6+p3LLkB3qO\n",
       "7niQnvY0PBXfxQF25SxFyfr39IaL7gfVLg4Sq2bSJgYQ8dQgBZkNhtuIjodXWVKRPe1tY4SGvQRH\n",
       "T+aXu8ACuhzR2tzQh1r9bx3NiboXjN0Vpb5m1BCzFX4tv3FykpFxp0ZFTUAIIJqS7xBkv+DSavsF\n",
       "JMVMLLmIYGOaycR9Pab25o0vloYGGb8wjc3RKOo5+Mhp7yEDx/ji9yc6ry02+aq6QI9vD0IsW3/x\n",
       "ulKgbyLOj+7aZIcLuX8hBCGaJT7YYImL17saDzgFX5tExO8xbMmxtlsk/z5AMBvxTdgw+0neDz3c\n",
       "RGDkOwdzflfpZLDrAJVAwZsvINUZwH7eM6APPNeiY23QsVm/7TRuBFhv7PeJxZZBd/wQ+/r4BXS9\n",
       "8yEzhWGqe8JM+MC35M8GsKqSSj61hBUUkMt4nQrGvEdEyscvnVM5zmeI4vUGKIOMydc8bTTdg5eh\n",
       "MWYp+Em/1CpGz/eT5XLi9wls5JWlNczqIbPOprNGZr/wJK7nUwm7zju2AsVqunJcpmoBBFF969Ke\n",
       "Tf/FeHSxCfUxcchJKQH3szVlZQv+agbYuu0oTimimDxfe5vpEtx4ZyIty/uBZvQE8SB55R1dRPCO\n",
       "V5hUwsn78urokAxoA76v0V95QFDyPlmD0g836Z1nFVtme1H7emAhYiB/clUEr3kAMbvfGZm2CBeR\n",
       "OwLdURKtexvsf1JMhhHfbVyDrjhhBiHIL2W1kOi59E6pvhdMUUof9S2npYiHbY/B7kM/wOC43xXL\n",
       "tPEtCeXUARVaZmIy018Y7WDlK6aS352K4rRr3+DVhaWQS8LHGFhuCysX8IMOEnQ8uLc/Rl97aAYw\n",
       "BbZtiZlTRCsi+y7b5UFd2wA4B16pdA4bczfRYX2ckPD+7ViL+IMEC7zFm0e8xomupR+6xkkkYx2h\n",
       "LITRt4NyefGl1U4CVF1xo5fbJxKaBcz8VcAVJwfzh9QrDzXKMZ0Su0A4cTwAE9nqk+xXiWdEBA42\n",
       "Ylx30U/KSBsoIqyodw8saSta6QXXg9j5hz34ya+sPMaiduSdNS9QDvFWXByXDzZN0FHIvzFfSaq+\n",
       "+qwLsHLyBMvDLFOSUP4dppd8q3P9wwsS1Szii4EJlZy48gomJOH1I0K/9zAhd5ze2CvuVvktZQAA\n",
       "AI5Bn9pFFSwQ/wAAJa2yKE1ACkbtw4l5aFayJZLtdABOqJra2eQABD4PXGTbaKL9qm/DKdGZ+3pM\n",
       "eW+40u059ffJxbQNLaw3OFstDuuaiRg+tAjTuKCJSI8rMSt/hiCP7AH855m87KP/drWeibPG8l5v\n",
       "PBMUjpGp7rn4Fq0HsPhG+z1HFydAU6riKRSmSsopAAAAewGf+XRD/wAAVAW/qMer68vI4uPvZ/kG\n",
       "QWgArqhGYafNyQBnxnCebZYOwabwHXvL1vmcE9u6Iz2QQayfDE2ZrNw3StWcNxSsb+2++PIPFooe\n",
       "GQ4zR/YRy1jrDRg/8CaGho8UgBSElIcre6NITfgt2/GPYpmDN/v6uvkQ/wAAAHcBn/tqQ/8AAFQR\n",
       "97U/rYMXn3q//4jA3QAWC07Z7gtpZtCrB/mggOqDrUiW18UpITS8KNfn5jJwl/GEb34TXT34oTI0\n",
       "2+vlrTy41arXUWpDJX9fPd6ZFv4PGmDWryXjKrVC6p1w8rgeStzswTelOfm99weRtTQNJwAABS1B\n",
       "m+BJqEFsmUwIKf/+1oywAJA46wAL6eiaGlhbgb+fl+990AAIbygOyVvw4zwKTW2xQzWskKlFh3M5\n",
       "yWJaMkol0qcOnhfGakXyehV4mmznMmdtxjWuWgyMkjO4weMOKuM3/XBdzqPslfxKd9M0pJXquU6T\n",
       "Hq28E+dGXMKnpoQD1vYry/x5yeOIgGGKVslsNptd7mZVE563Hu6OtOMfXRwGQI+PdtheIf0BjQJk\n",
       "nM7SWNqu4D7HzGbDStAsdtNK/lsM9L7o+74FUlvv38dcNXkTDhO4FHi4vQBT0o7EWPMGPFe3vIcm\n",
       "iVroBK8TzANIlYfl5tSIehLx13whMmawtPEJg8BlibM9po4JAKq8SJ0jetnqmumiyMCIttlkpjSK\n",
       "XlK1rR8eQaU9FnCluQ9UDJ0nHbXdTsGTQ5bI/j1l1a3QrMs6iXj5uAZ51XNIdcrkNQzx7fMv3OER\n",
       "syGiMI8kBlnMB1JFwgMJYGwD+MPcdgK7PThiK/JD9LAG462x5Xg8/kNM5eFE+3EQHMZg5G/Nmi0d\n",
       "sDR43GNkS3GnGiOsRTXCvhKD/oUj5MAy+2aeZ9BfeWEqrB8FaiYcmU2M5kPJmF0AQRvNgxWck4/8\n",
       "uAC2AELHNV3lB6Tmc6TNOjd8PjRD6W70LWNfxieaRbMv8Z3LiRg5iSyfgWWTJdqbR8zx3oQYyzui\n",
       "5RsHV5lNev+mVR5yfiUPyy76SO2XRve7bwIBOEdiwmNz75lyNXqR5lqDSMXVkAJswii/SKyLXRmi\n",
       "z10HpqZyvDPeWY7k+Mn9vZNrgeo3vEMYf0QAtXEbashtAWoY+Rx9ohKUh1cumQilDjARgDEuHkkv\n",
       "D9G3d3Y+SwEKjH8yTsvrGYHamcAGg1mwxbVV4RQHus0dFaNLhX4GUGYgtAbrULcMN060BalNOhZy\n",
       "raVoBWLWCZ07S+xJ9VXHlIE0D7clI2aCfw18lHoQXQ+WCXA92hzpO4LvBQZXCIUuPyMYfnSBL85k\n",
       "UzY7hyeRs4Pf7gCubTKCY7YL1l/peHXh51Rjz54hylcIAzbI6JNKt5Has3i6IIMdQVbI+sB5lArI\n",
       "8QT+xrvD7UxkbKjGqWxnt1ic26PWxllY4NbjxFDwqUI7MtnqHNqiE1OQJF+Q2HSwg+K240pLGDKF\n",
       "f/aEh1w32RDV9GFAcvow0YeQKy+IdeAZGHb0bcZb2yoQEm19AhVn4aFL4kO0CVBDVvQ8W7Eh73ja\n",
       "Yr8FqC+g2PCOdMib/s368mabt6IS3eOOF21CDyHlNTEQGL8Kdjsd4Ietc28KLjmDGf6AM1ZuXL2d\n",
       "SzRizjtwpoSXyxTNruIT8biY8C6OPtHLSC8qFUSCqZKziskjQyfwllRW1FnKGJfhAf+8TM4oJfQS\n",
       "4oeVgoJguY6KbNLQKjzo0ZpCJ3sKh3k4pBB6bE1Oa8h7wY6vsAG9DK9fI8aeIvpA9LdB+JoMhRrK\n",
       "5AXNVAJy/lJwby/s4/iuUmG3SFS/Umcy79PAHEpX942feJeRnOlCR4wRMzd3dx/W8ds98MWkivp1\n",
       "CqEcCxVBKCzcPysNr3CKwVmXiFDplikU7owL4Yc3xjtuBrnuI715hpXeKjhOPINK9vYGyZRyyD3q\n",
       "6Hr6cf/26aDke9YMhhb35mFp3QF8l+S3wdAdyAUi32z4nRdJWRhJ63NNONF8Qcl1YRKdTNjn/QCB\n",
       "wF/Tmk1l9+1wvXGypc/TCYl237QTUXIxlGbM+8SdcY/jcJkJbOokSVslm8KwihRTRfd6zU2WPoa0\n",
       "6JvWTirme+OEZEAMyQAAAKFBnh5FFSwQ/wAAJa2yKEfACk3R/xz5gHs1YjkBWi4ACMUdjmjD/DV+\n",
       "HdrNQOeD5dQMGGqWFn1RbxT62WHOCNWikiOqYv//zjJ0AoR7zxfwhzvkuyJdZ8OuHq6e6/PH5Y/C\n",
       "TfiljMcd6gYuBf++R5Vuf4gnKdI+T66D3ZwlmsEdiOJHuCfsVXKqEXMm7keIrCCgAH4DxlPxh384\n",
       "zIgYg1RHQQAAAIsBnj10Q/8AAFQFv6h/ryJNFNVuJIUDynABxvg1VHdIlLZ+LCoZxB9p3ZOqvGXK\n",
       "+o3x6jbUIIVfgCZVbLLYv/fS25AdSQgKWqVezQRha0h26Xyng0684QLJuAzKlJEWLIkVWvyPSk1y\n",
       "fFqfwzWk9PPg9PCvahoDhvnxHyVtz+qS8BPLKIe8EgBbwGLAAAAAfgGeP2pD/wAAVBH3r3RG68KH\n",
       "0O4tv/8GRpAESoebYn0qGbQqwf5oIDSSpicGuBTkleJoUaVDQPHoK/6NYMZxvhLqwySkv2o3RDdc\n",
       "quQHCRzH8iXt+eZCw5JMEcMm+ynnBhFXqo5z6ZqmkUIGax2p0ut3JvXHMBy8mQR4MkBJwQAAAh5B\n",
       "miRJqEFsmUwIKf/+1oywAJA46wAL566aItp2+k/YZutKygWxL2XJ79DhRHgV/xrvJ5TpqZZdP9Lj\n",
       "o6fy19LMPrR7P1oQUOU/4SOtLl6qtULc3SmbGtt3tZuCaL3pZiGU2kXPaCm52wpqgIzvh4hrLO/d\n",
       "KyltNet5eimLna4l9chhwnj4llUeS9+DGiU/MlnfGewp3NLGyjLtIItbEqV5KGSUVLugFZ/WIui/\n",
       "M3LGAydbC52DlAIDaNBlH/ixlSqXI9WVUzTryPW0LEgYmuLvJJk0FZEPG03j4oV/KG4Eq8B3svfy\n",
       "oNtE5SKRrmt/ZhuVF4TSxJcmn9ILnsB5xeJLES6DBBd4YdPNwdRDEWB9tWhDBc/GYxxBvFQ/ovfV\n",
       "QahYL5Ur+QAoNyQhAnxW4OX+XDcSJCzzCpZhjgIrU89nAWcFaxTLYzHj/Qocl11KGrR9PbAGPayE\n",
       "WLH+d+vHm9mzusqOpebvunxyqaMFUIqiOEAtJVm31RN/4L2NFy6gxJbvfJ9yjEAiCncs3t6DZIEp\n",
       "/CgVhC3IeHdsfqwIDb5/gygB0PqFrYoBkDrtAzD4kgrIYQky6zkagQDg7tNzAnx1dPPG10KIWWoE\n",
       "YBV9QEvSDeqbmjWpvRFMGwst1XhI6TNTkAdEoLzlcq7upf+2m8OU4YIA5NBsU5iIuQniEPh3nga3\n",
       "qnJHaOcyMAkI5Z9+G963NgN/l5cxUQEtiuA/wAAAAIJBnkJFFSwQ/wAAJa2yKJUy05EgEo4ddApp\n",
       "fmh9XUOP4g0AIQV3WEfrJ8Ragtu5Aucb8IL0F6T6YbZH98u2dINwqiOs3OjOBsTKi5Albc9iRm9L\n",
       "Da5wbYKbfd8U3eBO5MmIkP9S5kaqjQJ/+FPbxUExq7J90b7wns/AHHNCC4AX58hZAAAAhwGeYXRD\n",
       "/wAAVAW/q9BoJMB/6MYpx0cGmuQ2AG2/ijt7aICXgA/rEOPqKIdbHRKWKFDSS0ndmV0GnLNaMXW/\n",
       "uELu7g0KecmZ3T/Arrm2dWqsscar2luRhlQXX+UwSEOMoiPp7tUAJgI4ELnEITs8AwqM6i00Bp6d\n",
       "BOz5fVFOqxsdJ6jWA+oG/AAAAIIBnmNqQ/8AAFQR97gd5/sP2F3uAEqlK8WWgce36QP3rgR7AzPs\n",
       "Kh1XNDy8IEfMh2iDXgiK3ZdJENR5NxDwWBpZboOyIHY1yw7YTKipesrtixhHKB/AHEQMwj8/Xf5Y\n",
       "00U2gZfsxVPbSGB+XsEurttgKD96DMamL4x9rSjSZgM3ZEjBAAABEUGaaEmoQWyZTAgp//7WjLAA\n",
       "kDjrAAvp6KVZmGQD/sw0+vdTdX9VdbvkHrHbxEY5BIsSeYMfof2LqJzq31cJLDjiZg0G+5rCGlG6\n",
       "EwhqRmwUKBn9bakOrBlCNy+fmj0rJlskUd9pzxIs9xa38ZlK+s1ytQbGx9LO+0XhJEcfoSyp5Fv0\n",
       "NnnYYtK/MJ1qdlsraAVF90ZurTf6kn/f8ghK84Q4H1s48D1bkGZ2XuY+2RUfJM5EGnvMU/9ugmjB\n",
       "8KzRuIemUhHmJ7P1nkRjY+HxU3pMlS8042pPDw4y1T8QUMjAsgQQbrDiQHEyF2F1cjmSjj3JpiG8\n",
       "mU7dk0LH/gdJV75DGNYmDpOiP08JbwaalIBlwQAAAHVBnoZFFSwQ/wAAJa2yLkeKdN8FDclWttca\n",
       "n1QAbFg5zre8PdTUliYA0G82SKYJn56ONC7Elhh/t7Uffe6elzbG5CFlgBI7BfR6bCG+kVlwCmyB\n",
       "BZc8optLrnWwrk0a5GTYkuipn2+NK29Zncxxy4qKoFGHpx0AAACDAZ6ldEP/AABUBb+sXSh7D9hd\n",
       "7gBKpSvFloHHt+kD964EewMz7CodVzQ8vCBHzIdog14Iit2XSRfd4TcQ8FgaWW6DsiB2NcsO2Eyo\n",
       "qXrK7YsYRygfwBxEDMI/P13+WNNFNoGX7MVT20hgfl7BLq7bYB1kto+Wvc1CsFZbd7h4U73Y3cEA\n",
       "AAB8AZ6nakP/AABUEfflPwXzIhdX5POJe8/sAN2I58WWJ/MquO1eHzbEWqR8FU/6aYyw8us4wRs5\n",
       "LE+u2Ab/DFCkjghPAHg0AbxUX/KW+dtmgyO3M0/AwiYXWxlXNg3cbnoe8m519sMxpnTcypqr0vS3\n",
       "kkv4PBg0zzwUYfVGfAAAAZxBmqxJqEFsmUwIKf/+1oywAJA46wAL566ayfzVOWcvBWPS0tzZj4RC\n",
       "uIjlOqPt100Y9qH1WOC1zPN59U/YY4urUAOjIps3TfdtOv46HgmAF4ellRMN3yqFMowHrCECp0Kt\n",
       "wkDBYNVYPmeQsi216Ubc4U9FveGwDl4WmOf9mh5XzHbjMBM4rlN4mVCP/9+JC7DpdepdNM1aH5CU\n",
       "Egsl4s7qIX9gCQfZQmus7QWMOkhxxBo06/t9MWwsQxSs1WvTPhmEN2v9WPuc+nvjTF6czrNgGDAn\n",
       "GiMVxPruNkNDEHeostqy5RkcfMLLLbaIv0689jv/dTE8jUSvj9rE8lGltAPAtNNhCOwbJ0au7Ux9\n",
       "wbQ3TnbPhBYatw8q5gANU0wyUmqSDfH+ExJ6ATOLyqmsU9RhKN/VDzQa/2HBGJqyUVFOd8gWbAtm\n",
       "Omc0ksMnFMcR3BwU5pGtT0ayNFVjY/N7nTaifN0RZZBKicsu4kgv49Z/k2h1jL732TpmzesTSwD+\n",
       "I5tNttrCvwkBccsDvhJxQj13LHPssBLqW5J0vGmYAAAALUGeykUVLBD/AAAlrbIuR4p04bm9wGeX\n",
       "P3ikcjDvcx1YCno29xAIGmTBCqAy4QAAAGkBnul0Q/8AAFQFv6nsldOXKw6mAE0jAC0YUGrzk5lw\n",
       "ZJHhrghpfHwU7NdjBW2nvomjaqjrG88spUSjU4V4XIQDIMSNByz2hLAE2Td8VSKAnHSBf/5D6dmd\n",
       "eyISSmm9UyZx60MFwjVAEnAAAAAfAZ7rakP/AABUEfflNme7S9sq+1VMY3FfkMM1NJExJAAAAGtB\n",
       "mvBJqEFsmUwIKf/+1oywAJA46wAL6eilWZhehcSLW3lxJKhQXrOtCWSAhJ+lx4dI1wblb6AQZ5/c\n",
       "YmRvuGrFAPEj2JRNWVHfer2pZruRz1YYOrS5PMR27IbKW74a0IJLu3trOxNcJsSDgQAAAGZBnw5F\n",
       "FSwQ/wAAJa2yKEJkppeqYekpGCWo1AAdd//gJKUy1z6OyhgAiFK0ZyMZSx2Gjsvsx5o5tzfYaL99\n",
       "5+SiLJ3cnAN0YWVzhpqgTU2szS2Ha9qx/duXo8C2rlR+8Jsa9+/p0d0AAACBAZ8tdEP/AABUBb+e\n",
       "JKgN0aZFboYgAuUjrofILh6k0WlpnfU6iMSyKttuze3RMmD9fCW4ytcgegXFbVMOiBpHNPG/mmjH\n",
       "wyBGaqR6Ai1t1eGK/trdGFmK9mrL9sNfJPO0X3y0IJ/hrct5OBZN1SW6brVIGykqhFVZEAEgGHfR\n",
       "wN9xAAAAdAGfL2pD/wAAVBH3rgCjidFnE/wsPFwA29mPOcqNJTi80SWCTdPq3PsO5HauUtJYrMpi\n",
       "LWCwSWtqn7ZurXLvqiOUy+qtTx1CHl8vRK1SiEWtSt8SdkGXkM37+TVgm76cR91Jeq30zEhlQNsl\n",
       "iH0pLqPQTcA+AAABp0GbNEmoQWyZTAgp//7WjLAAkDjrAAvnrpuR6npGfdB9pcIvZYQ19f5B/yOB\n",
       "+QjXzgLOh/wwWfIxhWAh/++Q7ywzljNDv5TaPxx3ja2DAhTPgd2u6xBvPK6RDj7ZkgmmMl3DULQW\n",
       "Sd1JVsHHBs5c/1qz+5QMKVfCsF/gZCcu6HwkMVI4gSkr8eTgXT1FB6dKiJOIT890ykKGD6tUyeuX\n",
       "CJUN1v7PIL8nGZVSHzp2TlCo5Lt2HL0LlkDNsLQGK4rNjCWdBiyv3/AbRXb2BAjXfuXXHPrv3wBV\n",
       "sdJfYLUcrkacxNumrna5vuwEgFFKzZ1AKCS6NBZs2Iv2uJptL4Np9iew+gvAJgc3jfnC2DP26R1F\n",
       "3FRrs9v6EofcKbGP1w35oW5bckVFqFeOgXpBxbyATQc6BypK8/IPQJTR24q44jo5bEb7G4P3B8RP\n",
       "FRnMOcfDsevCqwvKhkwa7HifBmYcxWjDMmYzHTEnzDOWj1mjDac0kBP5YudnGy93czpXutPneY6V\n",
       "SuPeJxE3RYTcly3fIs2FEgCANtj7aiteye+zFhiLYPSf1Hp7/gAAAI9Bn1JFFSwQ/wAAJa2yKEJk\n",
       "poocsr+G5gnIATV896SPLIhrXidBy9+EMICB45XEYXz8/adbCu0NVQlQguEyO3y2s8AUNHw12+Xx\n",
       "faV+5vnwSaWAFbhjdN2MDDt/uy1F+vsYqO5EZ6zIALoET6CUXpPoiG6yfzOGWRnExICIgujMHwnI\n",
       "WpTNjRAtJ2maP1+U3QAAAHoBn3F0Q/8AAFQFv54FQ/WAAV4l66SA3QWmXtwFFETp8XZXK38BcPz7\n",
       "YwxpLNd6uN2qBnvYasKdsj4AFviL7c1OTONyE5MQhk2r7W9w6T5cA9mcBwG8Ze1P9WJNjy3wm2X5\n",
       "b4mfdhSw3NJ4Yfw8E1vtGfTHV5Sh2xUyRwAAAJEBn3NqQ/8AAFQR964Dc2gfW/77BYM/4AiEdJT4\n",
       "iIzEMqQsf68ubwnPahcHfnu6RQxS4W/3YUrK10w0IzwSjDoHs8YGgZy0p+Qr5egKhBXpAK1Uuei1\n",
       "sO1jD/OpUYHdPZMnOIV7Tn+hC58O+RfnP0fYVZGRLjfXu1Z/EDsCRNU7dr5E5rlZAHQUPYTLh6fI\n",
       "N3zAAAABLkGbeEmoQWyZTAgp//7WjLAAkDjrAAeM9E0AvvUy/dd8ISB526rPL9lj3mtCS3pIEU9z\n",
       "JD4s0BZTJoOvMnButobKNwTZyab7xft8ibHHHCbiITEl7eLs1W91KL1BbeETn1JQ2jQUJRcd5npo\n",
       "MciXe0QBxkh3PjvZISW3YHzXaDdTHwm0C0Lvz0dUUwHc4TMKhzsjbR06Afp5UIqPS5phTfJpFoYD\n",
       "BcCIEAdmGjCc4JTyZr5VbPZ1WsWOUfyLbsJ/Y9GrHSDVGJw7xF735/jLLQGnYX2owB5k5o8uxXxu\n",
       "BE0H+hQexIzxi071XAipkE+Ngumrm9BfDKJfCwPlRSSqkNeMk9SJKORyqaREoMZ3MQogoVTod9Tf\n",
       "pAR2hElg9ROzJrjyee6YNyMdtNjCQoHfAAAAWkGflkUVLBD/AAAlrbIoQmSmicn2TOudHtsk4f1T\n",
       "nmXdaADN04O3+IKQCPTWCzU3AZXVd9xiksrr+Bf5uCK+G7l2IdQ/9pxDX1CgAQYDgWd0n/ls/a9g\n",
       "P3KrpgAAAG4Bn7V0Q/8AAFQFv54A0slUZ4/S/o9beSiAEqjH4kq2XzGW+iqrrMuD1FK7SeA7Hpmh\n",
       "FYtWVw7uifyJUhhplOb2A9luItdjscY2j360k7Bibfx8GlyI3H2oV7cu/v0bPX1YFK9mpp8y02Jf\n",
       "8HYOYQAAAHgBn7dqQ/8AAFQR964C9Jp/svu9rQAsP0UeJwFrHq+PJUlN9cxGyORS3vj6GaMwKt47\n",
       "gpXbJjtV/Gcus0j3fIr4H8pV3Hjx8lcggfAcpVHvCrhTWMGC9Vgp+WO950yLD90eDMdRHhkD7aHT\n",
       "g5P5XovMS/SbKmMlt5kAAAHiQZu8SahBbJlMCCn//taMsACQOOsAB4vXTQC+9humROKsvFiGWi1v\n",
       "Qcr+4mnFgeGt4Iz2Bqe9lcFGouKBQ3uq+C65Ktaxovk+m2ORARR8FfqYBSBpEnnr/MzsOtBmfu3S\n",
       "VIajkliGHNuuvR/7eUlu0J0W77hAS/v6wYHzrL6fAQ3c8oefsYLfAtU98Gcj+wAoo+73FNgHAYYI\n",
       "IZ0KKN1IAWZg73C7rev3tJ1sPAxebCFavHUDoO/2D+uickUj/iCeqXohifJrSz98FmMgrBYyT0Z7\n",
       "3qwDCllVH7f894OYOx986u1qO6LwvuegBGjJ9uhf3Hu9PWXf4J0VluQmznNHEF0JZ5WUlK2JxzNc\n",
       "wclSDeNebpMaHuokjMVV2vpUXqnTEnSaoI4qo9R7pm93+IhLQtLyHTMHe+sezNdQlTQ6gWlxzsiD\n",
       "cgJyiPl6tRj+Rr5HChATSC+g1WafyawPV8fZ00s82onJnFveAPL2k3n6tBZlnGTQwjUcw6jcCJzl\n",
       "aChdJgfrUC9LFngM/Lbm+qABuRNxJdKm/oB7H0mRJbMfPMPoCfPrmt9ODhaWsWEq+Nj0Yf0CekLL\n",
       "MkiJ3SyXMeSVK9u10Ca6yh5IZW4FCvRPI6sNY0abJTLyTV6A/iO//svyGSAAAACfQZ/aRRUsEP8A\n",
       "ACWtsihCZKbIYc+5HA9tfmgBLV5yVG0B+tFwqSNO7WUxvXmZ1oDjev4++0HB79ZD/WRcogFAGVdC\n",
       "Ol4pPQssrXE/FyfthCAJ4zCQlW4XncVXhM0TFo6ZkE70M5HOqLq0l5mg9LFZjzW+ZZFQN0q38pWd\n",
       "eNgXnGmELw0bFaHNMdMttJh+hJiNiVW681xGPfIYIJTwGANbAAAAnwGf+XRD/wAAVAW/nhkg0EjJ\n",
       "ZP5JMkhFGADje+C5SjTNOpFfoQO9QfsemWiBq4lGIdmdYjbvhiIvFSXRbj1pHrsvd++kuAaCeb8q\n",
       "HsvQ/FXVBNqZVjgbb0L4bEPHaxCYPDnYbhLIID3EMfk0rzoOKfLbKZXyioxSjON526tEmHbf8IXz\n",
       "AABlAPfgVlXYDE2sb+4kOxQQRSwH6HRfQUHiYAAAAIIBn/tqQ/8AAFQR965pffj/gonIobj92ACw\n",
       "VUHLC8BHnmfx7pTZr6nubxEN3rpjdI3ker/I4BxDiahgITQQJdxBVwz2u9GU9Y62XLxHBvVaHUoU\n",
       "Wko0yjWanylEbGdxEzbDMs+kHmenK/XCYZjt78KnMIisDjcMCYuJBMEYukz4m5lRAAAAR0Gb4Emo\n",
       "QWyZTAgp//7WjLABiuL4KCKRWyQjnn7MI2KigJGuPE4Ck/Quzsw7W2/kmkuRt27AtrFjZrxFrLiW\n",
       "Xrf1QZ/D5H7BAAAAh0GeHkUVLBD/AAAlrbIoQmS03vbt8T6eGADZSkhqHaRFUsJletcsf/DkYh6r\n",
       "K9GLryB/wQbVyXqnOxKnLIG8BTZ2jI6EXQllZouVc/+8iapAebKt1wqRYBkLzf/zHPoAamKsjHPq\n",
       "zpSw1As476uNcwShiQUbOdDPJjc6xnDiXxWP1Rbj3IzhBwAAAG4Bnj10Q/8AAFQFv6dsithUv7Mo\n",
       "EAJDUME4SwucSaYyY+69tHwXWt0967uJGgf5ZRK+EWyDL6nSZNBShy2TiXknGuSsOI/DNla+cHMA\n",
       "gw9R34cmu6DadFAqvA370GWIc7ZGIsO3jBaT8RN3V3oEbAAAABwBnj9qQ/8AAFQR97SWwnxkY/em\n",
       "7WQDU3zmuIalAAABd0GaJEmoQWyZTAgp//7WjLABOfweHAbiVPTKcpYesvFFKGBMnDSHOjDxpB94\n",
       "AcR4JI5u5wmfwggdFIcTMjR/9gEN83t0zbmiAnhAq7RW1gwznLpiHxnOSLaScZb732iLZ9thJTmj\n",
       "lTTq3kZSER1TAjxNOp3uo19fatr+ob03SclprqPSnILUvHv0GO/vymOgHdTKUSTDHtBlOskGTNnO\n",
       "VPEBIIm8jTYPD7fU5ORIAEoCpQPRMBHyp1zcbWb9dGxebIABrqgWPCGABWCxthIJMcacYi692v6k\n",
       "98ljOnQCkRHz8x8o5YnjH3WrPV0GVEr/pyCTg12Mq80W7GDoIqe9+HBIO9fXbnveE8TGymosuoCm\n",
       "H0Flg6Mxrfov0iBgf3+usQU7XEGUY/Q7GqjS7yu35G/08/k8vFRjnDrsifDwle9cFuCILNfIkwj5\n",
       "sJJqo3+ouejdYYO4pmYD3/cGA1uZ8XcQ/7qkiqG/Jrkf4FLnq0dD8uaRiFBr8wAAAV5BnkJFFSwQ\n",
       "/wAHmV+ACVTV+snl2yqG806YZMH5Z2s1A536msvn/hAvogIJw/p5wYGFX3BpHIfR5Z0p22KBCWaq\n",
       "mwyOV9OFN3AuQZ0Xeu5oGNmhVLb46hl41/eW0Z5ZEinRWGxH+l04SyuGgKpFqXW0kl+CqxpyNAzr\n",
       "TYUTogJoZx6wqVfLLfrzWH3nl0LIvw434BipPvtKPqDjlkGIzrMNMHEEVtH1CtS0CZgGhVS54Z33\n",
       "/rc/jlwk+wVf1RumdMAtBJng+hz62PctUIRUor1RQQsxbnfa98l537vZKvlfS3zKdjVve5m5aexo\n",
       "cMLBnsALhney77562j6Zc/2z9+uZmlh20GUYahY/C2JT0VZwO9uj0YcLE0MybW51mlrywp11ZV3Y\n",
       "b9Lw4FMsPesdcxLf0FZgBC7KIFY8bLxCqT3SkWZFr0kKoEryU2tBUkBClrVzcGMYvPZNR60H8vNJ\n",
       "wQAAAFsBnmF0Q/8AENXJMY2DLqxT6OfZQa87akNrEHdmC0JF0v6JUokI0D6LLb67eiHxaT/Gs2Gn\n",
       "3qAI5FdwAMs9apaYOQuIOn1NhRaywawSQTgNWAmeU8NexPYDIiDgAAAAOAGeY2pD/wAQ1o0igZ/o\n",
       "61vQLKUjMxx28QnFYd8tikE2p9P15J3Cu+h30XabbLiYBGwE5eU6hgH5AAAAp0GaaEmoQWyZTAgp\n",
       "//7WjLABbizJQACiPUfHEL3DZcpMTa9ls5+f2Ql6vm2xZwutFXlGPw71MRW+WAb/D/1nKQbp38PM\n",
       "3UMwuZbjXhKZG2HjA7h3MrR8txer9gSfXUyqqjamO6myTYSQ7RjAKJtGJM2OltBwukQn5ZizZRPM\n",
       "tjvr8Fv62U1X1ysbk/w9Q7jZe/L7Q0S+X/73KCgCH3f1JfYdkhotfjUhAAAAmEGehkUVLBD/AAbm\n",
       "/rGr1lK3tq+mdMoftxd1rMwg18eYXhL+1JgO8zj+35GRBjMAEP2gfNyI9MM8edb35u9OJih69LEz\n",
       "bRpFaa9ECMJSXlVU9fmnlF7acsxV1hPPxUp6eYFqvUYF8XUz1nWzXurwAaVAWPJ+tlDSH+q2cud+\n",
       "Rdy1huSDjdSyOKPZctKCOkcECRBNGMeWGYH5AAAAlQGepXRD/wAB2q+Qn3+cdfP+vf8KtABGUF4I\n",
       "IseFJFZfxiaAQvXnJRS78Lz0HDvWrVBmP/jGJ88Bjcdvw7g08u/nYs5tgE8jtOzkW+5Mn043o7Vi\n",
       "9Rk3stvP7rXH+B6wqYSHoHCxusO2DW+HpfU/VuYJELeJGRR2x7OK61feyW3gQ+q3MHrijU9gCiLu\n",
       "cbBYxGPDWAOnAAAAaAGep2pD/wAPL2MivLliD8/0gA7ntCAAwmxQQzNiktTcBldV33GKSyuvxWnf\n",
       "sTGlJb2q43VdpxYrHVUrQgcHTtFIRmBh2UmB/jId78d2JS0hwzruy8p/S5D4MD/TF1cHoCSfGD0E\n",
       "gG9AAAABwUGarEmoQWyZTAgp//7WjLABbgM4MOP1rv+7eMZaIALIKcXRbfBMEKmnmEw0KTR0ox+k\n",
       "5zelEnjpzD56lYo5qVzWKJ3WNRosSsP7vxrJccrl8jdFUO4QRcW4aoEIdFoMq/TOkfOYd4tk6ET8\n",
       "fQVUHShSr4VgzGyM0u9EcXKJ/qIzkAMkxDAq5n9Sg53Xd6kVEBxjWS0yo8Py1TL4smvwsDo7ZRN3\n",
       "Nx7ayv//yfScl7wxBWiIP/6/uMui35Y1itefoY/DO7XTcctQRkMBVb7MYOhvzNENuamE1gTPnIxb\n",
       "TaNxTeRC609nepEj1TrrQF68d19GqqABhq6gqq3gJ8EpoPkZPks/zggQAyjElNMqF6CLq3Uc8yES\n",
       "AaplMZVv1zhD65oO4ek/ywQi1oOxtopkThjcu5y+9BiwmooT5BRBS0gLHsmJ4GCsnRyaMthE1Evj\n",
       "9pzoCnPAnAFN5qENtMrV+xfr03hI806Bfo8Ejt0CQ4Uf76QvDwu8F/SPIO8e9isSffoolXCZreFn\n",
       "z1Uhec9C1Zx+4O90mUo/3aFsZQCrg46U5Xnp8G/VhwlKpS+0TsICFkT5yG4p5Ls0wmWeoRpcLQV8\n",
       "AAAAlkGeykUVLBD/AAbmh00Xru/+8MR6wATkoQ2U6pP351gi5bwMztov68OuM7XP0jpKij7DPp1J\n",
       "WHLm9V/67joOfE3skFb+VU7IitMW6bsbbqtpaluNExwDkqWGyiqBgHiUx6sTg05GBEf1sWjF6pQE\n",
       "/riLI9/WFtsLeHtckqXRm//RU4SYjaKfzhdHO0duAjE4oWfpGRAR8QAAAI8Bnul0Q/8ADy17Md1b\n",
       "ACWp8xGxUoih1mwAq09zLutTWDMj/53NQd2ILysM4WWQl0RFcJydXmKJVD/oq1N+XfRZqdE3A78B\n",
       "UWlQvZF1W5GJTQ2tuZcGhgJ7Pg+SBAwdJj5268kus2qdDeRHdvgjdtxn7NXqyweZczns9ZKqjh46\n",
       "WfsbcsSyEA5vxG+wDwrRJwAAAHYBnutqQ/8ADc5qwP3iZRsaqP9OiyM1KAG2bld9SBFda58GX7jW\n",
       "rQ214/1eHbEewczk4iKCrb0+tTCgkfUr4OMHiFAyN9xIUzYMLUOjEV8b0sTyXlx3LlpgzOJ9Mb5/\n",
       "0pzLyvNrwEU5mpd5TGepqAJKo2jknYH5AAACsEGa8EmoQWyZTAgp//7WjLAAkDjrAAvp7CNeShcJ\n",
       "rxtdnv/kBCgTrg/6PFZDkQD5IObQUME3Aho2zfp124nBiDJP5j4ZCkGdbgHVcNj8abT0v8N9XSQn\n",
       "2zSiYAH4OfZyQunXz/OEensZVJvqdZ3g2fa88BIXfBcRGKYraSaMixuVZTSeAyzDYp2seSw4ExTI\n",
       "3Hm+xmLjk3o5S6ksW2nwRLNvrmeVS5/BvdaqH+yRUiOF6Zz6RBB4Xr8NRgE62kD0yoIAkRRwwOXV\n",
       "zD18Gr4wzQs/61zR39xV9dPC6FtToULq+/Fy3HyAFgXDImH7BCTRw9cz4WgQXw4ImgNR5nm0kOUa\n",
       "/1UmTaRO2HdcGP6pt3vrUZW//Ma9a/MEPKayBDByWEN44oIdHU70TnZTDvs7HtcyhDpRmNfVOtUT\n",
       "Zbo4wEgoBABf3I9PZ3hsPnz3I/BrHSpP3hZLbJGCm8HQd8vOA5E5B+DzYBdWNcJ+q1eL+BIFic2l\n",
       "fMT0xW3jFH7GOUXOJ6baHKI+FeegJH0XMjXpYTol3leKKGK/fTpdV6dgINk8jBTLRNQbZen0nZI5\n",
       "sBRfLeECOa+gTQyqlx53fhyLAG55poCvr7j3l1SvJz8ShyoktEL5WDHlvDXnqYv9RCgV1i/zcvRR\n",
       "RsRB6RXxoqcRPCkBKuscspnkHg0Cnz4XQGVkXc99XORQtFxev8NROY9kI/9wgrcd7POklfCF1sNk\n",
       "ACkzEy+Qp9RUsQM/6Wo9PG0oQToAevN0g9TqCXkJnS6uzVlzy4mnePyUGbZxn3w0z1LjYbV7bVhK\n",
       "WbkdnH50hAJWptwlevx7MTZuYIpwckvy+pJ74s8nzMl2SJAHy7eHBkYHzOd021E6P+DPTT5JhbrG\n",
       "Y3JItH/CUyWQSWysraBcRd1rouAGj7n+4f1ucBleO6EAAACKQZ8ORRUsEP8AAlqHtPdv5UWoV89X\n",
       "+0vPgrwu5UMUd94GxaMQx0aADaTz+lmqiB21vyMo/0yimO2HVe+ZVfAo0eDqoYk+TAeYwhD953Ib\n",
       "ZVwjx17MrCThHOlAolE0Xkv39xd+fv9gCnHvL3315VSe8VhImYsj6HkqsUcghpk+fbrgLm4vBeXG\n",
       "mAFbAAAAggGfLXRD/wAFQFwEB68hGmwofl9v9tnCsALeuwP1L6QGZYFxDBB/CHU013h5tx8td4DX\n",
       "ZWms8hMPHoLKK5jElnjpdLmm+O7XIe8nl7G45374gAPlIzvvqAVci22LsFdqefwONjIErmGlnzi8\n",
       "hrTrv5Ayy5PicVX9ABfKBYQaH3CwScEAAAB0AZ8vakP/AAHa7H/HRtvd6YkwbyfwMIrpn8eQAthE\n",
       "Su5Yux1ksmSQybw/RkjXT5U4gI/urZU6EAdajWQ8kllze9gdVBexcJDJrQ/mTlBwPfdlalg4zu8y\n",
       "zhxjaRdiL4yAB52TWEIWadfA8AK1iWC5Rn5MdcAAAANJQZs0SahBbJlMCCf//rUqgAIw4LcAXr/O\n",
       "sxo7ltDPlZs08CWGv73WBqDuIk5yxgMMx2Eb6LSyBvKkzbMy9WOnlYKqTR/BTWerI9xDtkIkTL2o\n",
       "gXK00K1fwK89haWgu5jl0DngXGLJIuF0qPkZ4jppS7TThRz1SiWWmNwXcGcLNenTTqP5XpXfBCcj\n",
       "axmAXlVyy9W3KCSOXzxwpKu0z5jNxbPJ2+R/tfeLMRofU528zNUVcaxL5M+WFkCj5uj37Dgi4Le6\n",
       "AMUuPrm3gLsLH3GS9pdsk115cU/A3VrBjYVZ0/BXRXIBwMCAfKcbT6G6oxD72gAlNaWv/nnJeY4G\n",
       "BVbYJhGxzSKz67O7BuC4QBJ0dn9PSc9C//Gnls8kmO3SpWv259pnXb2sHiy034fN96bLysrI38jr\n",
       "EXQ4RTv755o91OF6/XBtDdx7stDENY+yMOIqKVujshCL5HzO0RaLXBVOXXcvK6L/A0NZkFPGC0yT\n",
       "IFjAGup7lATVJ8JcZvliu8ke2jBt93f+JdVSu1+1MlM4rbLmO2JxrJoMXmLQGYj1a3Dc9ZddewwV\n",
       "BMTxRannSzvo8ceI07005sJQI6CSe9jzIA2irRpoFlavvyW7Q9cAh8DQ8a9EnvMggIQMXJJ4CzWB\n",
       "2nUGjK3N/bDvL+INgOn6rX3ywRerjCl8Tr3+r+onbzg+6iS+0dHNGFh5o/aqs9SMdqm/KxXTak67\n",
       "XErZUJqJPhanF/DY/+SuxH5wPOniNL5ZlqLXnpAdxkLovO29zKFxOjLSHii5qjEXpVSEyJkRrRJ0\n",
       "R2uqTm/JD4jPDsmc4e1ShxJn7nAuSwJRXHixMAkbFnpvAPXdJHEPvoRnbgd8xodhE2MLR1XJ1YKR\n",
       "+I/qaEGkkWS23cr9zXatAzZY76NumzT8Do/E3UMjI52DJ11C6LWypu/QOZvh+NoaOuAx7Pb9p/rj\n",
       "DCE96lCd13tNiI+PSpQAFzWr5VqzU7aX4sc4Yjpw7c45CkRXRQ/yJNdy8UyejkNuyeAg8cw6iOXm\n",
       "RP7xJSbAvpm2FhA4Z0FALLk4vbXdQdirwXdsyPNKGPUYIbvr6BEeoEz4oixQgK8S1TNHFFIPsluZ\n",
       "EQvVoDCIZaVY8bRv7fgaYpUVMAAAAIxBn1JFFSwQ/wAA1+qaOngT6oGBFpzqoLtb0I0SpP/8g1NH\n",
       "ACISsVTPrS9AGfMLivq4G5efxLMUyzuLhg7V3RG7x50DE4Yn/Hs3DdK11tDee5lRBLKH0XLIQg5X\n",
       "sZq+cTuu/iTTV8t70gSmApAFvq+LhXtS4kHb8LfBvI91IfQLvTEjZf4Ch6SSMnSPgQAAAIgBn3F0\n",
       "Q/8AAdqvkEuSn1JxO++UBv5OJhGAD+hrm7j8pr4121p1p17YsQj00fhifRAKc00BJvC1ODxKHIKN\n",
       "s4TGJf4fMv0Q2kXh70siYBpfII+uBSkMeMnHV0T6Dh0zn4EHbdmIM89s6c4fBayuKesKT7/+y41b\n",
       "MAdnq8t/RrURkikhBWN2R4b8AAAAhwGfc2pD/wAB2ux+eSVM5Xp6EgNw6pxABdFjVFa+uKlj/+W5\n",
       "l2XTp9NcIaPSDf6qd3P/vOIZIARIufQWI6gc1g9JM7rXkxUM7B2ESCoW2aax2V+5ZocPznqR/tyd\n",
       "lKkK8OrKdLvu+l5vOYsUjnJ4/kxCe9nTly45+z1SIwiiVSsX1CC8G7AjYAAABCZBm3hJqEFsmUwI\n",
       "J//+tSqAAjDgtwBe076I3P1pGHQOs/04Fds9URiDEQf6h6vFs0drWveIK2o2MNeuyIwrkBS+Atp9\n",
       "HXdvFxjBF+4dVs+gnKMepVuPPz/Qn+hXeeYyGi5VZ2noDalKHvNdBbkrMMgA/ElxPGUr6GrQfcyU\n",
       "r2pLowDCkwbbKLKKpcxrVk0v1zDxZw9XdqazQ3EezQoPNF7f5XdN6fXVIGPDzTzCh2Grvkb9I9D1\n",
       "KyPTqS9OWRHyTYacqfYktbDmAUwSo4G1aAk26WjeUdj7gvVmYxN5NsTf3/5u0iUAYMIJLWG44vwy\n",
       "8h4e4E6XwdlM27G5JyonvpuQy8OuKpehZKFK6fANQ5eBBbQtF50/xoqB/WZ0if6onCn0Y1UyvSXg\n",
       "KJagWtMSM+vHS2qvLif6jeiOjXqb/FLhVaEvfSBaAXY6vRitxbRBPImLGadXZ6hotZZtkHhG5IYP\n",
       "y/Z4tSV0n1ybrRDMvSDA90q7qpfourI16Zy0H26aSgsUOR8QpQ4Kf6wTITcFFpAphVdrdQf1Dwop\n",
       "Aihh/afr/uJv2jEuGwb1HafhOBEaerZixE9AqHw1cjrztpFbQ9wzhz+kFbtx2rT/ZvbyGQ7B4oMG\n",
       "HHN21VSaLXoxpWiwEZmOr2AxmalEvK+Mu7g6VmBZrXoOYmSbK0KeJz08tjNiMqYJHIGXJaFImt70\n",
       "JN/suVt65UupHgy3hJZaDDeUWAOhJjl0JIMOhGpZLqaZ7oFvKO+N3WkHPywGC6O74cVURvIREz4l\n",
       "aeOAC+2Yay0MmZUlb1KK2rwkiCSwEE05BxWE17isQOg8ZhNbOBywb/CvxLgCF7gpLEgtjmzayxkf\n",
       "M1IB4SyJTWtQZif6g3bFypDgWtDLlgnsHs0vQAZZyhrwlGl4K3jBHO49bxuavZ3qhv1xG94bcHhO\n",
       "thI3BDGXLmwdTEdsGECCZ3sMPLvkcWGfN4kTWyDlB0rZUScZuizPokFifaxvLmJrX7Q1wecK6XVY\n",
       "bk+CaQUpuuW3OSwRkfIxKbiEPAlUECRcpACF2KiHZ97wEMrobKfWSJpQriAqa3V0pkOW2CUk5ysj\n",
       "wHuiwg/ngxqNRejp4r8KkLk2/BsenEhT6BklY99sEiePiYK4CBknuIBCDTN5Qlt1QH2zbSz7fuft\n",
       "ay87dR+TFClX5Mggbw1o4oQdBfY7fnjrYrqo1diY9tjmIYYxefISik5v/pNbU/okaFcc6LyegiXo\n",
       "0dD+QWNIAAlqX6+PMYz+4q+tV7L9ENZZbXhljhGJGmaeEHAr1jAte8UJlrRpa1WcalGQuQbFDSN2\n",
       "20GV/OnkLG8Q+w9OwKlsV2AdTSJBZtvJPWIr8M8oh2rDzfzgAH4QEmIk2c469lNv7+gs7gBfhfwd\n",
       "Msb5/bUbSGPRf9GpIgJvQcZYFAKeXSS+8ekAAACTQZ+WRRUsEP8AANfqmjkclNGcxBfc4fDf2MnX\n",
       "0AEtXecndCcmYhYFE6X1kdhJZGDdT719ty9DBCiDSqd9+Lh+V3iy2L/4i2KCXUkICmVv8Er8YXup\n",
       "PbvTUEF92zKHJJwGZUop93/5BziPAg72DaHNJZjuKEDUKqDUw3a3EHsbvaQkrQsZb0nOBQSU9G4G\n",
       "1oP//MIuAAAAkAGftXRD/wAB2q+OwXheDAxfT6AC6o2NGkSXvOyEc9rRjfEkwsph7zX8sz4QAdrm\n",
       "AwALOOp+jmJbZjy1y4Lly8gDLPu0d7r+wgKwHwKq1Qx3D6KW86twy6O4N27y+Tt5D35lbuPMYOoW\n",
       "aRoJREkfJaFvA1qQzzCEZfeczou+fNjw6W4XEziuZnLyihqqA5ICywAAAJABn7dqQ/8AAdrsfnli\n",
       "RuvCh9E8HCAFgtPJ8DOs/V+HgrcAo5mow+rTnzGwoek8Wo154uxWVvILb59kL//58T7FFgqT/8Ic\n",
       "3OI2eP6XhpJHVJlWTxiw2lGRSZHvY470K7oDs96HfurrmgnKc6Lvp5kAqogYaB8O7WPcFB6DLu8V\n",
       "OiquPqmSr1S3GfpBtSaAMeEAAAL7QZu8SahBbJlMCCf//rUqgAIw4LcAXr/OiVHLh+A+wyihrJ2J\n",
       "NjIV9scl3slI0FdCyG+biu+Rjz+QQYiUgIDlmJpL+F0FiM83OAr4UWI9VriSDS8Lu3yKBrTYSpDG\n",
       "/3Jqk2a6aAIqbRLt15FnMGbXJAsueVetLMWGtxnuPAIV7IfQOslVzSRU/bz390r2NYCvDm9tbC0x\n",
       "Hztj1W42spF1fM9xm16hm3ar0Un6xoqwnNYxjxU33ZJG5Gv0ymoRiP3qVGqr+03be0aITbHWmvDD\n",
       "4Z6j1HL7dyAFstC8xKWfQHtXlTvuEXC8vn2+hpO5twau6RdoTwBrd/lM0i+m9a7pY+iH4yeSphkf\n",
       "6lgsAaLY20P3CkAWaSeKgp2Iuc0Er44xhKCnnP2a3hTtKz2mPTQBmi4vp1n9lk+SYD4ZjhpR5An7\n",
       "FP4bBN7qPDrvrpQR0BYx7Il7JeZ7TMAapw/N0+L/7MeCJ/JdGdUAYj9pgcy/8oytSuO8LvkJnv2O\n",
       "OJkcRmwuvLXxYtZZzR/v/RAE2Iz+JXauQzPrJmfH1q1zg/cAgICf4D11eDagmbtkhECrIMKnl2lf\n",
       "EjjpnTnGqkUIalqKdZrQb7/l4YxGZxLUq558sOTdJCMZTDqAJOo8wpFzqUyOrVrmaWckHkLOZbh1\n",
       "BH3MlWBPfyrv9fEEtKRBAX7fvX8n+yULrlqstEZuhQ7HdBTFqCAMWerB9UgnxZt27gcy+ths5cbP\n",
       "bq4l+hprnqyVa5qnYkjG9yMjS+OpMKHTZAU7DLDbp+7JMo8iZaYCSi7CzyCirwalzDUxC4rc+j3a\n",
       "m8LnIi3eB0iWfGSASOXWnxqEr8NcB2Q99cqwKE4KKDdJAM3OgMSEDwhSm02J1IEECgwH8WBCF6jT\n",
       "VKbbWUbrx7rzuprHRW9fAc/xzRz3uH3H19ZUrIY0hz1m419toSZW9+GoIo7gOwz6eVs1+3f9I/VC\n",
       "/v7trwaGm5GCFsb9a/iEIu68r/7UkbN2YTYPLkbMAEsvzo1KpTsEudAEHAAAAI1Bn9pFFSwQ/wAA\n",
       "1+qaORyU1YYc+i28zgSVw1IENQuDx0cGmw4hADXyWnBcHFYH/QP2aHH1FEOuheY+hrOOklJ3ZldB\n",
       "pxAwCFlv7ZLl1wymzoDLzp/gVnTlGAlkWONV8KCiyecICoKYDSgmR7k1vY3GSbiG9NeGze2L4jre\n",
       "HBHwuARYRrHPgYN+dAa4ScEAAACKAZ/5dEP/AAHar47BygfagAaIX/DogBO3wb+eIopFwxK4bDky\n",
       "UeH9Sn3w7ERmbZEtMfnaKf9HIFCezEIKc01DfTzur4kNIYBIzSteg4jNh898JRvYZsiL4Bd0aEYQ\n",
       "6lcgd28eto4AebNXkoD966tnrxUFufxpoyR+6pv54crGHB1qYU6K5DDK+BgQAAAAcgGf+2pD/wAB\n",
       "2ux+gjoz6myDyi20f35J3C0ACclCLm4TwfEWmtjV2xFhPFof2z+C5Q9Bfy/CH2zMEwR1m6AZwNgU\n",
       "goFyA9yVRR3xYbAYDIeIrg61PT5KTp7Zzd/1CORqqR+m64HIkBAO6LvllEeOHR/DGwAAAItBm+BJ\n",
       "qEFsmUwIJf/+tSqAAAD0HuRW9pTxvPbu1qjH3PxuACIUJ9P2ykAiLrX7hB7X251nM+7I/Vg/qvqY\n",
       "JFXjJ5HzKmXnw2QsROFBcBF2hQtz2l+V/3R8OgmAE6I7lY1H9fE5KII93jsvJi077/TKBEsyml+t\n",
       "e4bFdQ5Ddrv1dx8Hrg4TddmRhxFlAAAAeEGeHkUVLBD/AADX6po5HJTVhhz6qXNj5cjnN1OIANiw\n",
       "c51veHupqSxMAaDebJFMEz89HGhdiSww/29qPvvdPS5tjchCywAkdgvo9NhDfSKy4BTZAgsueUU2\n",
       "l1zrYVyaNcjJsSXRUz7fGmDkVHCYpswEoq3tC/wCggAAACUBnj10Q/8AAdqvjswOuxDV2/f0y8bg\n",
       "3he3+rf9BI9C9pWoaHdAAAAAHgGeP2pD/wAB2ux+gjidK+cXUDe08d2wINLN/LYtoQAAABlBmiNJ\n",
       "qEFsmUwIf//+qZYAAAaD4xZ/gAVMAAAA6UGeQUUVLBD/AADX6po5HJTpf59e/GAEQP4AsPseSLAW\n",
       "D+XMq8DbEgfwQIjQQM8CHYqmNYkaKIXPvl8ck5ZKBW9VvMLLbH19BS0V3XipvzfsOdJDqLBmK6F6\n",
       "yu2GP8VzPbmIJRPqqthT1783u2JK4Zm/fhbJPfZfKLhOm62v2zgIHsnhk5vHpDRot4jrqheVjSRT\n",
       "XpQzSMWURfVAaCv/aMtNRrkiYdI90l6ffQIrD7CxfOxCyZEl3OXZW1Ce1EXuEZC9bKhWfO53ALtx\n",
       "V3ifNSj9DScBp2+EZcSjFz05+DheHpBQOdv6KWflAAAAFgGeYmpD/wAB2ux+rz8F4yEyhPkQuKQA\n",
       "AAfXbW9vdgAAAGxtdmhkAAAAAAAAAAAAAAAAAAAD6AAATiAAAQAAAQAAAAAAAAAAAAAAAAEAAAAA\n",
       "AAAAAAAAAAAAAAABAAAAAAAAAAAAAAAAAABAAAAAAAAAAAAAAAAAAAAAAAAAAAAAAAAAAAAAAAAA\n",
       "AgAABwF0cmFrAAAAXHRraGQAAAADAAAAAAAAAAAAAAABAAAAAAAATiAAAAAAAAAAAAAAAAAAAAAA\n",
       "AAEAAAAAAAAAAAAAAAAAAAABAAAAAAAAAAAAAAAAAABAAAAAAkAAAAGMAAAAAAAkZWR0cwAAABxl\n",
       "bHN0AAAAAAAAAAEAAE4gAAAQAAABAAAAAAZ5bWRpYQAAACBtZGhkAAAAAAAAAAAAAAAAAAAoAAAD\n",
       "IABVxAAAAAAALWhkbHIAAAAAAAAAAHZpZGUAAAAAAAAAAAAAAABWaWRlb0hhbmRsZXIAAAAGJG1p\n",
       "bmYAAAAUdm1oZAAAAAEAAAAAAAAAAAAAACRkaW5mAAAAHGRyZWYAAAAAAAAAAQAAAAx1cmwgAAAA\n",
       "AQAABeRzdGJsAAAAtHN0c2QAAAAAAAAAAQAAAKRhdmMxAAAAAAAAAAEAAAAAAAAAAAAAAAAAAAAA\n",
       "AkABjABIAAAASAAAAAAAAAABAAAAAAAAAAAAAAAAAAAAAAAAAAAAAAAAAAAAAAAAAAAAGP//AAAA\n",
       "MmF2Y0MBZAAW/+EAGWdkABas2UCQM/uEAAADAAQAAAMAKDxYtlgBAAZo6+PLIsAAAAAcdXVpZGto\n",
       "QPJfJE/FujmlG88DI/MAAAAAAAAAGHN0dHMAAAAAAAAAAQAAAGQAAAgAAAAAFHN0c3MAAAAAAAAA\n",
       "AQAAAAEAAAMoY3R0cwAAAAAAAABjAAAAAQAAEAAAAAABAAAoAAAAAAEAABAAAAAAAQAAAAAAAAAB\n",
       "AAAIAAAAAAEAACgAAAAAAQAAEAAAAAABAAAAAAAAAAEAAAgAAAAAAQAAKAAAAAABAAAQAAAAAAEA\n",
       "AAAAAAAAAQAACAAAAAABAAAoAAAAAAEAABAAAAAAAQAAAAAAAAABAAAIAAAAAAEAACgAAAAAAQAA\n",
       "EAAAAAABAAAAAAAAAAEAAAgAAAAAAQAAKAAAAAABAAAQAAAAAAEAAAAAAAAAAQAACAAAAAABAAAo\n",
       "AAAAAAEAABAAAAAAAQAAAAAAAAABAAAIAAAAAAEAACgAAAAAAQAAEAAAAAABAAAAAAAAAAEAAAgA\n",
       "AAAAAQAAKAAAAAABAAAQAAAAAAEAAAAAAAAAAQAACAAAAAABAAAoAAAAAAEAABAAAAAAAQAAAAAA\n",
       "AAABAAAIAAAAAAEAACgAAAAAAQAAEAAAAAABAAAAAAAAAAEAAAgAAAAAAQAAKAAAAAABAAAQAAAA\n",
       "AAEAAAAAAAAAAQAACAAAAAABAAAoAAAAAAEAABAAAAAAAQAAAAAAAAABAAAIAAAAAAEAACgAAAAA\n",
       "AQAAEAAAAAABAAAAAAAAAAEAAAgAAAAAAQAAKAAAAAABAAAQAAAAAAEAAAAAAAAAAQAACAAAAAAB\n",
       "AAAoAAAAAAEAABAAAAAAAQAAAAAAAAABAAAIAAAAAAEAACgAAAAAAQAAEAAAAAABAAAAAAAAAAEA\n",
       "AAgAAAAAAQAAKAAAAAABAAAQAAAAAAEAAAAAAAAAAQAACAAAAAABAAAoAAAAAAEAABAAAAAAAQAA\n",
       "AAAAAAABAAAIAAAAAAEAACgAAAAAAQAAEAAAAAABAAAAAAAAAAEAAAgAAAAAAQAAKAAAAAABAAAQ\n",
       "AAAAAAEAAAAAAAAAAQAACAAAAAABAAAoAAAAAAEAABAAAAAAAQAAAAAAAAABAAAIAAAAAAEAACgA\n",
       "AAAAAQAAEAAAAAABAAAAAAAAAAEAAAgAAAAAAQAAKAAAAAABAAAQAAAAAAEAAAAAAAAAAQAACAAA\n",
       "AAABAAAgAAAAAAIAAAgAAAAAHHN0c2MAAAAAAAAAAQAAAAEAAABkAAAAAQAAAaRzdHN6AAAAAAAA\n",
       "AAAAAABkAAAa8wAAA7gAAACjAAAAPwAAAIMAAAMZAAAAbwAAAG4AAABvAAACbwAAAHgAAACJAAAA\n",
       "gAAAAwkAAAB1AAAAawAAAHIAAAFZAAAAkwAAAIUAAACCAAAB+AAAAJ0AAACAAAAAggAAA/kAAACS\n",
       "AAAAfwAAAHsAAAUxAAAApQAAAI8AAACCAAACIgAAAIYAAACLAAAAhgAAARUAAAB5AAAAhwAAAIAA\n",
       "AAGgAAAAMQAAAG0AAAAjAAAAbwAAAGoAAACFAAAAeAAAAasAAACTAAAAfgAAAJUAAAEyAAAAXgAA\n",
       "AHIAAAB8AAAB5gAAAKMAAACjAAAAhgAAAEsAAACLAAAAcgAAACAAAAF7AAABYgAAAF8AAAA8AAAA\n",
       "qwAAAJwAAACZAAAAbAAAAcUAAACaAAAAkwAAAHoAAAK0AAAAjgAAAIYAAAB4AAADTQAAAJAAAACM\n",
       "AAAAiwAABCoAAACXAAAAlAAAAJQAAAL/AAAAkQAAAI4AAAB2AAAAjwAAAHwAAAApAAAAIgAAAB0A\n",
       "AADtAAAAGgAAABRzdGNvAAAAAAAAAAEAAAAsAAAAYnVkdGEAAABabWV0YQAAAAAAAAAhaGRscgAA\n",
       "AAAAAAAAbWRpcmFwcGwAAAAAAAAAAAAAAAAtaWxzdAAAACWpdG9vAAAAHWRhdGEAAAABAAAAAExh\n",
       "dmY1Ny41Ni4xMDE=\n",
       "\">\n",
       "  Your browser does not support the video tag.\n",
       "</video>"
      ],
      "text/plain": [
       "<matplotlib.animation.FuncAnimation at 0x138178710>"
      ]
     },
     "execution_count": 380,
     "metadata": {},
     "output_type": "execute_result"
    },
    {
     "data": {
      "image/png": "[encoded data removed]",
      "text/plain": [
       "<matplotlib.figure.Figure at 0x137eb7e10>"
      ]
     },
     "metadata": {},
     "output_type": "display_data"
    }
   ],
   "source": [
    "fig = plt.figure()\n",
    "\n",
    "im = plt.imshow(env.env.rewards, aspect='equal', cmap='Reds_r')\n",
    "frontier = True\n",
    "if frontier:\n",
    "    scatter = plt.scatter([], [], c='w', edgecolors='b', linewidths=1)\n",
    "#     im = plt.imshow(env.env.rewards, aspect='equal', cmap='Reds_r')\n",
    "#     env.env.render()\n",
    "    frames = policy.saved['frontier'][:100]\n",
    "    def updatefig(h):\n",
    "        scatter.set_offsets(h)\n",
    "        return scatter,\n",
    "else:\n",
    "    trace = env.surface_agent.ep_trace\n",
    "    txt = plt.text(0, 0, 'A', color='#4A74FF', weight='bold', size=24,\n",
    "                     verticalalignment='center', horizontalalignment='center')\n",
    "    frames = iter(trace['states'][:100])\n",
    "    def updatefig(s):\n",
    "        txt.set_position(s)\n",
    "#         env.step(a)\n",
    "#         X = env.render(mode='array')\n",
    "#         im.set_array(X)\n",
    "        return txt,\n",
    "\n",
    "anim = animation.FuncAnimation(fig, updatefig, interval=200, blit=True, \n",
    "                        frames=frames, )\n",
    "anim\n",
    "# anim.save('a-star.gif', writer='imagemagick', fps=10)"
   ]
  },
  {
   "cell_type": "code",
   "execution_count": 157,
   "metadata": {
    "collapsed": false
   },
   "outputs": [
    {
     "data": {
      "text/plain": [
       "array([[-0.576, -0.232, -0.123],\n",
       "       [-0.635, -0.257, -0.621],\n",
       "       [-0.574, -0.547, -0.462]])"
      ]
     },
     "execution_count": 157,
     "metadata": {},
     "output_type": "execute_result"
    }
   ],
   "source": [
    "env.env.rewards[:3, :3]"
   ]
  },
  {
   "cell_type": "code",
   "execution_count": 158,
   "metadata": {
    "collapsed": false
   },
   "outputs": [
    {
     "data": {
      "text/plain": [
       "<matplotlib.image.AxesImage at 0x10ef65f98>"
      ]
     },
     "execution_count": 158,
     "metadata": {},
     "output_type": "execute_result"
    },
    {
     "data": {
      "image/png": "[encoded data removed]",
      "text/plain": [
       "<matplotlib.figure.Figure at 0x10a812c50>"
      ]
     },
     "metadata": {},
     "output_type": "display_data"
    }
   ],
   "source": [
    "plt.imshow(env.env.rewards[:3, :3], cmap='Reds_r')"
   ]
  },
  {
   "cell_type": "code",
   "execution_count": null,
   "metadata": {
    "collapsed": false
   },
   "outputs": [],
   "source": [
    "env.reset()\n",
    "env.render(mode='human')\n",
    "for a in tr['actions']:\n",
    "    time.sleep(1)\n",
    "    env.step(a)\n",
    "    env.render(mode='human')\n"
   ]
  },
  {
   "cell_type": "code",
   "execution_count": null,
   "metadata": {
    "collapsed": false
   },
   "outputs": [],
   "source": [
    "N_EP = 40\n",
    "SIZE = 10\n",
    "from agents import *\n",
    "from envs import ForageWorld\n",
    "env = ForageWorld(SIZE, 4, .05)\n",
    "agent = Agent()\n",
    "agent.register(env)\n",
    "env.reset()\n",
    "V = BayesianRegressionV()\n",
    "agent.register(V)\n",
    "agent.register(SearchPolicy(V, noise=0))\n",
    "trace = agent.run_many(N_EP, max_steps=100)"
   ]
  },
  {
   "cell_type": "code",
   "execution_count": null,
   "metadata": {
    "collapsed": false
   },
   "outputs": [],
   "source": [
    "np.random.randn()"
   ]
  },
  {
   "cell_type": "code",
   "execution_count": null,
   "metadata": {
    "collapsed": true
   },
   "outputs": [],
   "source": [
    "from scipy.stats import norm"
   ]
  },
  {
   "cell_type": "code",
   "execution_count": null,
   "metadata": {
    "collapsed": false
   },
   "outputs": [],
   "source": [
    "def ret(n, sig):\n",
    "    return sum(np.random.randn() * sig for _ in range(n))\n",
    "\n",
    "d = [ret(2, 1) for _ in range(1000)]\n",
    "sns.distplot(d)\n",
    "norm.fit(d)\n",
    "    "
   ]
  },
  {
   "cell_type": "code",
   "execution_count": null,
   "metadata": {
    "collapsed": false
   },
   "outputs": [],
   "source": [
    "softmax([1,1,2])"
   ]
  },
  {
   "cell_type": "code",
   "execution_count": null,
   "metadata": {
    "collapsed": false
   },
   "outputs": [],
   "source": [
    "x = np.random.rand(4)\n",
    "theta = np.random.rand(4, 2)\n",
    "x @ theta"
   ]
  },
  {
   "cell_type": "code",
   "execution_count": null,
   "metadata": {
    "collapsed": false
   },
   "outputs": [],
   "source": [
    "plt.plot(rolling_max(map(get('v'), agent.policy.node_history), 200))"
   ]
  },
  {
   "cell_type": "code",
   "execution_count": null,
   "metadata": {
    "collapsed": false
   },
   "outputs": [],
   "source": [
    "df = pd.DataFrame(trace)\n",
    "df['return'].plot()"
   ]
  },
  {
   "cell_type": "code",
   "execution_count": null,
   "metadata": {
    "collapsed": false
   },
   "outputs": [],
   "source": [
    "sns.set_style('whitegrid')\n",
    "w = V.model.w\n",
    "idx = [0,1,2,3,4,5,6,7,8,9,10,len(w)-1]\n",
    "w = w[idx]\n",
    "var = V.model.sigma_w[idx]\n",
    "# plt.bar(range(len(idx)), w)\n",
    "plt.errorbar(range(len(idx)), w, var)\n",
    "# plt.fill_between(range(len(idx)), w-var, w+var, alpha=0.4)\n",
    "# plt.ylim(-2, 2)"
   ]
  },
  {
   "cell_type": "code",
   "execution_count": null,
   "metadata": {
    "collapsed": false
   },
   "outputs": [],
   "source": [
    "from utils import dict_product\n",
    "from envs import ForageWorld\n",
    "from agents import *\n",
    "\n",
    "def rolling_max(seq, length):\n",
    "    seq = iter(seq)\n",
    "    best = next(seq)\n",
    "    lst = np.zeros(length) - 1000\n",
    "    lst[0] = best\n",
    "    for i, x in enumerate(seq, start=1):\n",
    "        best = max(x, best)\n",
    "        lst[i] = best \n",
    "    for j in range(i, length):\n",
    "        lst[j] = best\n",
    "    return lst\n",
    "    \n",
    "        \n",
    "\n",
    "def data(params, n=20):\n",
    "    for i, pr in enumerate(params):\n",
    "        print(pr)\n",
    "        env = ForageWorld(**pr)\n",
    "        agent = Agent()\n",
    "        agent.register(env)\n",
    "        V = FixedV([0, 1] + [0] * (pr['size'] ** 2))\n",
    "        agent.register(V)\n",
    "        agent.register(SearchPolicy(V, noise=0))\n",
    "        rets = []\n",
    "        for _ in range(n):\n",
    "            agent.run_episode()\n",
    "            nh = agent.policy.node_history\n",
    "            rets.append(rolling_max(map(get('v'), nh), 2000))\n",
    "        yield {**pr, 'ret': np.stack(rets).mean(0)}\n",
    "\n",
    "params = {\n",
    "    'size': [6,8,10,12],\n",
    "    'n_berry': 5,\n",
    "    'time_cost': 0.05,\n",
    "}\n",
    "df = pd.DataFrame(data(dict_product(params)))"
   ]
  },
  {
   "cell_type": "code",
   "execution_count": null,
   "metadata": {
    "collapsed": false
   },
   "outputs": [],
   "source": [
    "time_cost = np.arange(2000) * -0.001\n",
    "colors = iter(sns.color_palette('deep'))\n",
    "color = defaultdict(lambda: next(colors))\n",
    "ls = {0.05: '-', 0.1: '--'}\n",
    "for (nb, s, tc), dd in df.groupby(['n_berry', 'size', 'time_cost']):\n",
    "    x = dd.ret.iloc[0] + time_cost\n",
    "    plt.plot(x[:1000], c=color[s], ls=ls[tc])\n",
    "plt.legend()"
   ]
  },
  {
   "cell_type": "code",
   "execution_count": null,
   "metadata": {
    "collapsed": false
   },
   "outputs": [],
   "source": [
    "from matplotlib.animation import FuncAnimation\n",
    "from IPython.display import HTML, Image\n",
    "sns.set_style('whitegrid')\n",
    "\n",
    "def display_animation(anim):\n",
    "    plt.close(anim._fig)\n",
    "    return HTML(anim.to_html5_video())\n",
    "\n",
    "def get_states(path):\n",
    "    env.reset()\n",
    "    yield (SIZE // 2, SIZE //2)\n",
    "    for a in path:\n",
    "        s1, r, done, _ = env.step(a)\n",
    "        yield env._state[:2]\n",
    "\n",
    "def init():\n",
    "    pathcol.set_offsets([[], []])\n",
    "    return [pathcol]\n",
    "\n",
    "def update(i, pathcol, nodes):\n",
    "    data = np.array(list(get_states(nodes[i].path)))\n",
    "    pathcol.set_offsets(data)\n",
    "    return [pathcol]\n",
    "\n",
    "fig = plt.figure()\n",
    "ax = plt.axes(xlim=(-0.5, SIZE+.5), ylim=(-0.5, SIZE+.5))\n",
    "plt.xticks(range(0,SIZE))\n",
    "plt.yticks(range(0,SIZE))\n",
    "ax.scatter(*np.array(list(env.berry_locs.keys())).T, \n",
    "           c='r', marker='x',  s=120)\n",
    "pathcol = ax.scatter([], [], s=100)\n",
    "\n",
    "nodes = agent.policy.node_history[200:300]\n",
    "T = len(nodes)\n",
    "\n",
    "anim = FuncAnimation(\n",
    "    fig, update, init_func=init, fargs=(pathcol, nodes), interval=200, frames=T, \n",
    "    blit=True, repeat=True)\n",
    "\n",
    "display_animation(anim)"
   ]
  },
  {
   "cell_type": "code",
   "execution_count": null,
   "metadata": {
    "collapsed": true
   },
   "outputs": [],
   "source": [
    "plot = plt.scatter([], [], s=100)\n",
    "fig1 = plt.figure()\n",
    "plt.axis('equal')\n",
    "plt.xlim(0, SIZE)\n",
    "plt.ylim(0, SIZE)\n",
    "\n",
    "nodes = agent.policy.node_history\n",
    "ani = FuncAnimation(fig1, plot_node, 20, fargs=(nodes, plot),      \n",
    "                                   interval=100, blit=True)\n",
    "display_animation(ani)"
   ]
  },
  {
   "cell_type": "code",
   "execution_count": null,
   "metadata": {
    "collapsed": false
   },
   "outputs": [],
   "source": [
    "df = pd.DataFrame(trace)\n",
    "sns.factorplot('berries', 'return', data=df)\n",
    "plt.axis('equal')\n",
    "# plt.plot([0, 2], [0, 2], ls='--')"
   ]
  },
  {
   "cell_type": "code",
   "execution_count": null,
   "metadata": {
    "collapsed": false
   },
   "outputs": [],
   "source": [
    "# N_EP = 50\n",
    "# trace = agent.run_many(N_EP, max_steps=100)\n",
    "roll = 2\n",
    "\n",
    "df = pd.DataFrame(trace)\n",
    "cols = ['v0', 'vx', 'vy', 'vb'] \n",
    "# cols.extend(['vxy', 'vxb', 'vyb'])\n",
    "tdf = pd.DataFrame(list(df.theta_v), columns=cols).clip(-10, 100)\n",
    "df = df.join(tdf).drop('theta_v', axis=1)\n",
    "# sns.factorplot('berries', 'return', data=df)\n",
    "# df['return'].rolling(roll).mean().plot()\n",
    "# sns.lmplot('i_episode', 'vb', data=df)\n",
    "df[cols + ['return', 'berries']].rolling(roll).mean().plot()\n",
    "plt.axhline(0, ls='--', c='gray')"
   ]
  },
  {
   "cell_type": "code",
   "execution_count": null,
   "metadata": {
    "collapsed": false
   },
   "outputs": [],
   "source": []
  },
  {
   "cell_type": "code",
   "execution_count": null,
   "metadata": {
    "collapsed": true
   },
   "outputs": [],
   "source": []
  },
  {
   "cell_type": "code",
   "execution_count": null,
   "metadata": {
    "collapsed": false
   },
   "outputs": [],
   "source": [
    "from sklearn.linear_model import SGDRegressor\n",
    "n_samples, n_features = 100, 5\n",
    "X = np.random.randn(n_samples, n_features)\n",
    "theta = np.random.randn(n_features)\n",
    "y = X @ theta + 0.5 * np.random.randn(n_samples)\n",
    "clf = SGDRegressor()\n",
    "clf.fit(X, y)\n",
    "theta_hat = np.linalg.inv(X.T @ X) @ (X.T @ y)\n",
    "def rms_error(y1, y2):\n",
    "    return ((y1 - y2) ** 2).mean() ** 0.5\n",
    "\n",
    "print('{:.3f}  {:.3f}'.format(\n",
    "    rms_error(y, clf.predict(X)),\n",
    "    rms_error(y, X @ theta_hat)),\n",
    ")\n"
   ]
  },
  {
   "cell_type": "code",
   "execution_count": null,
   "metadata": {
    "collapsed": false
   },
   "outputs": [],
   "source": [
    "class LinearSGD(object):\n",
    "    \"\"\"Learns a linear approximation by SGD.\"\"\"\n",
    "    def __init__(self, shape, learn_rate=.1):\n",
    "        self.shape = shape\n",
    "        self.learn_rate = learn_rate\n",
    "        self.theta = np.random.random(self.shape)\n",
    "\n",
    "    def update(self, x, y):\n",
    "        yhat = x @ self.theta\n",
    "        error = y - yhat\n",
    "        self.theta += self.learn_rate * np.outer(x, error)\n",
    "\n",
    "    def predict(self, x):\n",
    "        return x @ self.theta\n",
    "\n",
    "mod = LinearSGD((n_features, 1), .1)\n",
    "for i in range(len(X)):\n",
    "    mod.update(X[i], y[i])\n",
    "\n",
    "yhat = [mod.predict(x)[0] for x in X]\n",
    "rms_error(y, yhat)"
   ]
  },
  {
   "cell_type": "code",
   "execution_count": null,
   "metadata": {
    "collapsed": false
   },
   "outputs": [],
   "source": [
    "from sklearn.linear_model import SGDRegressor\n",
    "n_samples, n_features, n_output = 10, 5, 2\n",
    "X = np.random.randn(n_samples, n_features)\n",
    "theta = np.random.randn(n_features, n_output)\n",
    "y = X @ theta\n",
    "# clf = SGDRegressor()\n",
    "# clf.partial_fit(X, y)\n",
    "y"
   ]
  },
  {
   "cell_type": "code",
   "execution_count": null,
   "metadata": {
    "collapsed": false
   },
   "outputs": [],
   "source": [
    "clf.fit(X, y)\n",
    "theta_hat = np.linalg.inv(X.T @ X) @ (X.T @ y)\n",
    "def rms_error(y1, y2):\n",
    "    return ((y1 - y2) ** 2).mean() ** 0.5\n",
    "\n",
    "print('{:.3f}  {:.3f}'.format(\n",
    "    rms_error(y, clf.predict(X)),\n",
    "    rms_error(y, X @ theta_hat)),\n",
    ")"
   ]
  },
  {
   "cell_type": "code",
   "execution_count": null,
   "metadata": {
    "collapsed": false
   },
   "outputs": [],
   "source": [
    "def bin(x):\n",
    "    return pd.cut(x, 10).apply(lambda x: x.mid)\n",
    "\n",
    "bdf = pd.DataFrame({\n",
    "    'vb': bin(df.vb),\n",
    "    'ep': bin(df.i_episode),\n",
    "    'return': df['return']\n",
    "})\n",
    "sns.heatmap(bdf.pivot_table('return', 'vb', 'ep'))"
   ]
  },
  {
   "cell_type": "code",
   "execution_count": null,
   "metadata": {
    "collapsed": true
   },
   "outputs": [],
   "source": []
  },
  {
   "cell_type": "code",
   "execution_count": null,
   "metadata": {
    "collapsed": false
   },
   "outputs": [],
   "source": [
    "agent.depth = 2\n",
    "agent.run_episode()"
   ]
  },
  {
   "cell_type": "code",
   "execution_count": null,
   "metadata": {
    "collapsed": false
   },
   "outputs": [],
   "source": [
    "V = agent.V.to_array().reshape(5, 5)\n",
    "sns.heatmap(V)"
   ]
  },
  {
   "cell_type": "code",
   "execution_count": null,
   "metadata": {
    "collapsed": false
   },
   "outputs": [],
   "source": [
    "from agents import QLearningAgent\n",
    "from envs import GridEnv\n",
    "\n",
    "env = GridEnv(5, 5)\n",
    "agent = QLearningAgent(env)\n",
    "agent.Q.theta\n",
    "# agent.Q.theta\n",
    "# trace = agent.run_many(500)\n",
    "agent.run_many(100)"
   ]
  },
  {
   "cell_type": "code",
   "execution_count": null,
   "metadata": {
    "collapsed": false
   },
   "outputs": [],
   "source": [
    "plt.plot(trace['return'])"
   ]
  },
  {
   "cell_type": "code",
   "execution_count": null,
   "metadata": {
    "collapsed": false
   },
   "outputs": [],
   "source": [
    "# agent.run_many(1000)\n",
    "print(agent.V.theta)\n",
    "# agent.V.theta = np.array([0, 100])\n",
    "X = np.linspace(-1,1, 101)\n",
    "plt.plot(X, lmap(agent.V, map(agent.phi, X)))"
   ]
  },
  {
   "cell_type": "code",
   "execution_count": null,
   "metadata": {
    "collapsed": true
   },
   "outputs": [],
   "source": [
    "\n",
    "\n",
    "\n",
    "\n",
    "\n",
    "\n",
    "\n",
    "\n",
    "\n",
    "\n",
    "\n",
    "\n",
    "\n",
    "\n",
    "\n",
    "\n",
    "\n",
    "\n",
    "\n",
    "\n"
   ]
  }
 ],
 "metadata": {
  "anaconda-cloud": {},
  "kernelspec": {
   "display_name": "Python [default]",
   "language": "python",
   "name": "python3"
  },
  "nav_menu": {},
  "toc": {
   "navigate_menu": true,
   "number_sections": true,
   "sideBar": true,
   "threshold": 6,
   "toc_cell": false,
   "toc_section_display": "block",
   "toc_window_display": false
  },
  "widgets": {
   "state": {
    "469bd9c0fdb541dda42faea1cc955c07": {
     "views": [
      {
       "cell_index": 11
      }
     ]
    }
   },
   "version": "1.2.0"
  }
 },
 "nbformat": 4,
 "nbformat_minor": 0
}
